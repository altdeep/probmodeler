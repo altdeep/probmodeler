{
  "nbformat": 4,
  "nbformat_minor": 0,
  "metadata": {
    "accelerator": "GPU",
    "colab": {
      "name": "2-Normalizing-Flows-Cartoon-Faces.ipynb",
      "provenance": [],
      "collapsed_sections": []
    },
    "kernelspec": {
      "display_name": "Python 3",
      "name": "python3"
    },
    "language_info": {
      "name": "python"
    }
  },
  "cells": [
    {
      "cell_type": "code",
      "metadata": {
        "colab": {
          "base_uri": "https://localhost:8080/"
        },
        "id": "dsgDgfr4x6w-",
        "outputId": "4838ac8c-23c5-41f1-f997-be349d1215b2"
      },
      "source": [
        "## Standard libraries\n",
        "import os\n",
        "import math\n",
        "import time\n",
        "import numpy as np \n",
        "import pandas as pd \n",
        "\n",
        "## Imports for plotting\n",
        "import matplotlib.pyplot as plt \n",
        "%matplotlib inline \n",
        "from IPython.display import set_matplotlib_formats \n",
        "set_matplotlib_formats('svg', 'pdf') # For export\n",
        "from matplotlib.colors import to_rgb\n",
        "import matplotlib\n",
        "matplotlib.rcParams['lines.linewidth'] = 2.0\n",
        "import seaborn as sns\n",
        "sns.reset_orig()\n",
        "\n",
        "## Progress bar\n",
        "from tqdm.notebook import tqdm\n",
        "\n",
        "## PyTorch\n",
        "import torch\n",
        "import torch.nn as nn\n",
        "import torch.nn.functional as F\n",
        "import torch.utils.data as data\n",
        "import torch.optim as optim\n",
        "# Torchvision\n",
        "import torchvision\n",
        "from torchvision.datasets import MNIST\n",
        "from torchvision import transforms\n",
        "# PyTorch Lightning\n",
        "try:\n",
        "    import pytorch_lightning as pl\n",
        "except ModuleNotFoundError: # Google Colab does not have PyTorch Lightning installed by default. Hence, we do it here if necessary\n",
        "    !pip install pytorch-lightning==1.3.4\n",
        "    import pytorch_lightning as pl\n",
        "from pytorch_lightning.callbacks import LearningRateMonitor, ModelCheckpoint\n",
        "\n",
        "# Path to the folder where the datasets are/should be downloaded (e.g. MNIST)\n",
        "DATASET_PATH = \"../data\" \n",
        "CHECKPOINT_PATH = \"../saved_models/tutorial11\" \n",
        "\n",
        "# Setting the seed\n",
        "pl.seed_everything(42)\n",
        "\n",
        "# Ensure that all operations are deterministic on GPU (if used) for reproducibility\n",
        "torch.backends.cudnn.determinstic = True\n",
        "torch.backends.cudnn.benchmark = False\n",
        "\n",
        "# Fetching the device that will be used throughout this notebook\n",
        "device = torch.device(\"cpu\") if not torch.cuda.is_available() else torch.device(\"cuda:0\")\n",
        "print(\"Using device\", device) \n",
        "\n",
        "from torch.multiprocessing import Pool, Process, set_start_method\n",
        "try:\n",
        "     set_start_method('spawn')\n",
        "except RuntimeError:\n",
        "    pass"
      ],
      "execution_count": 5,
      "outputs": [
        {
          "output_type": "stream",
          "text": [
            "Global seed set to 42\n"
          ],
          "name": "stderr"
        },
        {
          "output_type": "stream",
          "text": [
            "Using device cuda:0\n"
          ],
          "name": "stdout"
        }
      ]
    },
    {
      "cell_type": "code",
      "metadata": {
        "id": "_6BuS_gbJ343"
      },
      "source": [
        "device = torch.device(\"cpu\")"
      ],
      "execution_count": 6,
      "outputs": []
    },
    {
      "cell_type": "code",
      "metadata": {
        "colab": {
          "base_uri": "https://localhost:8080/"
        },
        "id": "18heZdiqD3qk",
        "outputId": "48caeb9c-06e0-42a8-ab9f-0f97b8d54261"
      },
      "source": [
        "!pip install -q gdown \n",
        "!gdown --id 1h5FNFNJHD36LOngGhCsl_aygSXvhJc_U\n",
        "!gdown --id 1mDa8ADMO0ByuAch6zlDPCgX7La0sy9Fd"
      ],
      "execution_count": 8,
      "outputs": [
        {
          "output_type": "stream",
          "text": [
            "Downloading...\n",
            "From: https://drive.google.com/uc?id=1h5FNFNJHD36LOngGhCsl_aygSXvhJc_U\n",
            "To: /content/cartoon_resized.npy\n",
            "31.9MB [00:00, 56.3MB/s]\n",
            "Downloading...\n",
            "From: https://drive.google.com/uc?id=1mDa8ADMO0ByuAch6zlDPCgX7La0sy9Fd\n",
            "To: /content/filtered_data_binary.csv\n",
            "100% 106k/106k [00:00<00:00, 930kB/s]\n"
          ],
          "name": "stdout"
        }
      ]
    },
    {
      "cell_type": "code",
      "metadata": {
        "id": "mkbR7mJsjg3J"
      },
      "source": [
        "import PIL \n",
        "def grayscale(arr): \n",
        "    arr = arr.astype(np.uint8) \n",
        "    arr = PIL.Image.fromarray(arr).resize(size=(52,52)).convert(\"L\")\n",
        "    arr = np.expand_dims(np.array(arr), axis=0) \n",
        "    return torch.Tensor(arr) "
      ],
      "execution_count": 9,
      "outputs": []
    },
    {
      "cell_type": "code",
      "metadata": {
        "id": "f_ori8eXjS5M"
      },
      "source": [
        "cartoon_features = pd.read_csv(\"filtered_data_binary.csv\") \n",
        "cartoon_features = cartoon_features.drop([\"filename\"], axis=1) \n",
        "cartoon_features = cartoon_features.values "
      ],
      "execution_count": 10,
      "outputs": []
    },
    {
      "cell_type": "code",
      "metadata": {
        "id": "tQoa-qFWiGOR"
      },
      "source": [
        "cartoon_resized = np.load(\"cartoon_resized.npy\") "
      ],
      "execution_count": 11,
      "outputs": []
    },
    {
      "cell_type": "code",
      "metadata": {
        "id": "0g0LqRd9kXoI"
      },
      "source": [
        "cartoon_data = list(map(lambda x, y: (torch.Tensor(np.expand_dims(x, axis=0)).to(device), y), cartoon_resized, cartoon_features))  "
      ],
      "execution_count": 12,
      "outputs": []
    },
    {
      "cell_type": "code",
      "metadata": {
        "id": "rxM7uW3ObaqV",
        "colab": {
          "base_uri": "https://localhost:8080/"
        },
        "outputId": "5e3c0eca-3d50-4e21-c165-132af59dcbd6"
      },
      "source": [
        "pl.seed_everything(42)\n",
        "train_set, val_set, test_set = torch.utils.data.random_split(cartoon_data, [2300, 449, 200]) \n",
        "\n",
        "train_loader = data.DataLoader(train_set, batch_size=256, shuffle=False, drop_last=False) \n",
        "val_loader = data.DataLoader(val_set, batch_size=64, shuffle=False, drop_last=False, num_workers=4)\n",
        "test_loader = data.DataLoader(test_set, batch_size=64, shuffle=False, drop_last=False, num_workers=4) "
      ],
      "execution_count": 13,
      "outputs": [
        {
          "output_type": "stream",
          "text": [
            "Global seed set to 42\n",
            "/usr/local/lib/python3.7/dist-packages/torch/utils/data/dataloader.py:481: UserWarning: This DataLoader will create 4 worker processes in total. Our suggested max number of worker in current system is 2, which is smaller than what this DataLoader is going to create. Please be aware that excessive worker creation might get DataLoader running slow or even freeze, lower the worker number to avoid potential slowness/freeze if necessary.\n",
            "  cpuset_checked))\n"
          ],
          "name": "stderr"
        }
      ]
    },
    {
      "cell_type": "code",
      "metadata": {
        "id": "pBw4ICz1lC35"
      },
      "source": [
        "from torch.distributions.transforms import Transform \n",
        "\n",
        "class NF(Transform): \n",
        "\n",
        "    def __init__(self, flows, import_samples=8): \n",
        "        super().__init__() \n",
        "        self.flows = nn.ModuleList(flows) \n",
        "        self.impport_samples = import_samples \n",
        "\n",
        "    def _call(self, inputs): \n",
        "        z, ldj = self.encode(inputs) \n",
        "        return z \n",
        "    \n",
        "    @torch.no_grad() \n",
        "    def _inverse(self, inputs): \n",
        "        ldj = torch.zeros(img_shape[0], device=device) \n",
        "        for flow in reversed(flows): \n",
        "            inputs, ldj = flow(inputs, ldj, reverse=True) \n",
        "        return inputs \n",
        "\n",
        "    def log_abs_det_jacobian(self, x, y): \n",
        "        z, ldj = self.encode(x) \n",
        "        return ldj \n",
        "    \n",
        "    \n",
        "    def encode(self, imgs):\n",
        "        # Given a batch of images, return the latent representation z and ldj of the transformations\n",
        "        z, ldj = imgs, torch.zeros(imgs.shape[0], device=self.device)\n",
        "        for flow in self.flows:\n",
        "            z, ldj = flow(z, ldj, reverse=False)\n",
        "        return z, ldj \n",
        "    \n",
        "    \n",
        "    def _get_likelihood(self, imgs, return_ll=False):\n",
        "        \"\"\"\n",
        "        Given a batch of images, return the likelihood of those. \n",
        "        If return_ll is True, this function returns the log likelihood of the input.\n",
        "        Otherwise, the ouptut metric is bits per dimension (scaled negative log likelihood)\n",
        "        \"\"\"\n",
        "        z, ldj = self.encode(imgs)\n",
        "        log_pz = self.prior.log_prob(z).sum(dim=[1,2,3])\n",
        "        log_px = ldj + log_pz\n",
        "        nll = -log_px\n",
        "        # Calculating bits per dimension\n",
        "        bpd = nll * np.log2(np.exp(1)) / np.prod(imgs.shape[1:])\n",
        "        return bpd.mean() if not return_ll else log_px\n",
        "        \n",
        "        \n",
        "    @torch.no_grad()\n",
        "    def sample(self, img_shape, z_init=None):\n",
        "        \"\"\"\n",
        "        Sample a batch of images from the flow.\n",
        "        \"\"\"\n",
        "        # Sample latent representation from prior\n",
        "        if z_init is None:\n",
        "            z = self.prior.sample(sample_shape=img_shape).to(device)\n",
        "        else:\n",
        "            z = z_init.to(device)\n",
        "        \n",
        "        # Transform z to x by inverting the flows\n",
        "        ldj = torch.zeros(img_shape[0], device=device)\n",
        "        for flow in reversed(self.flows):\n",
        "            z, ldj = flow(z, ldj, reverse=True)\n",
        "        return z\n",
        "    \n",
        "    \n",
        "    def configure_optimizers(self):\n",
        "        optimizer = optim.Adam(self.parameters(), lr=1e-3)\n",
        "        # An scheduler is optional, but can help in flows to get the last bpd improvement\n",
        "        scheduler = optim.lr_scheduler.StepLR(optimizer, 1, gamma=0.99)\n",
        "        return [optimizer], [scheduler] \n"
      ],
      "execution_count": 14,
      "outputs": []
    },
    {
      "cell_type": "code",
      "metadata": {
        "id": "rYcvHoLLCq9m"
      },
      "source": [
        "class ImageFlow(pl.LightningModule):\n",
        "    \n",
        "    def __init__(self, flows, import_samples=8):\n",
        "        \"\"\"\n",
        "        Inputs:\n",
        "            flows - A list of flows (each a nn.Module) that should be applied on the images. \n",
        "            import_samples - Number of importance samples to use during testing (see explanation below). Can be changed at any time\n",
        "        \"\"\"\n",
        "        super().__init__()\n",
        "        self.flows = nn.ModuleList(flows)\n",
        "        self.import_samples = import_samples\n",
        "        # Create prior distribution for final latent space\n",
        "        self.prior = torch.distributions.normal.Normal(loc=0.0, scale=1.0)\n",
        "        # Example input for visualizing the graph\n",
        "        self.example_input_array = train_set[0][0].unsqueeze(dim=0)\n",
        "        \n",
        "        \n",
        "    def forward(self, imgs):\n",
        "        # The forward function is only used for visualizing the graph\n",
        "        return self._get_likelihood(imgs)\n",
        "    \n",
        "    \n",
        "    def encode(self, imgs):\n",
        "        # Given a batch of images, return the latent representation z and ldj of the transformations\n",
        "        z, ldj = imgs, torch.zeros(imgs.shape[0], device=self.device)\n",
        "        for flow in self.flows:\n",
        "            z, ldj = flow(z, ldj, reverse=False)\n",
        "        return z, ldj\n",
        "    \n",
        "    \n",
        "    def _get_likelihood(self, imgs, return_ll=False):\n",
        "        \"\"\"\n",
        "        Given a batch of images, return the likelihood of those. \n",
        "        If return_ll is True, this function returns the log likelihood of the input.\n",
        "        Otherwise, the ouptut metric is bits per dimension (scaled negative log likelihood)\n",
        "        \"\"\"\n",
        "        z, ldj = self.encode(imgs)\n",
        "        log_pz = self.prior.log_prob(z).sum(dim=[1,2,3])\n",
        "        log_px = ldj + log_pz\n",
        "        nll = -log_px\n",
        "        # Calculating bits per dimension\n",
        "        bpd = nll * np.log2(np.exp(1)) / np.prod(imgs.shape[1:])\n",
        "        return bpd.mean() if not return_ll else log_px\n",
        "        \n",
        "        \n",
        "    @torch.no_grad()\n",
        "    def sample(self, img_shape, z_init=None):\n",
        "        \"\"\"\n",
        "        Sample a batch of images from the flow.\n",
        "        \"\"\"\n",
        "        # Sample latent representation from prior\n",
        "        if z_init is None:\n",
        "            z = self.prior.sample(sample_shape=img_shape).to(device)\n",
        "        else:\n",
        "            z = z_init.to(device)\n",
        "        \n",
        "        # Transform z to x by inverting the flows\n",
        "        ldj = torch.zeros(img_shape[0], device=device)\n",
        "        for flow in reversed(self.flows):\n",
        "            z, ldj = flow(z, ldj, reverse=True)\n",
        "        return z\n",
        "    \n",
        "    \n",
        "    def configure_optimizers(self):\n",
        "        optimizer = optim.Adam(self.parameters(), lr=1e-3)\n",
        "        # An scheduler is optional, but can help in flows to get the last bpd improvement\n",
        "        scheduler = optim.lr_scheduler.StepLR(optimizer, 1, gamma=0.99)\n",
        "        return [optimizer], [scheduler]\n",
        "    \n",
        "    \n",
        "    def training_step(self, batch, batch_idx):\n",
        "        # Normalizing flows are trained by maximum likelihood => return bpd\n",
        "        loss = self._get_likelihood(batch[0])                             \n",
        "        self.log('train_bpd', loss)\n",
        "        return loss\n",
        "    \n",
        "    \n",
        "    def validation_step(self, batch, batch_idx):\n",
        "        loss = self._get_likelihood(batch[0])\n",
        "        self.log('val_bpd', loss)\n",
        "    \n",
        "    \n",
        "    def test_step(self, batch, batch_idx):\n",
        "        # Perform importance sampling during testing => estimate likelihood M times for each image\n",
        "        samples = []\n",
        "        for _ in range(self.import_samples):\n",
        "            img_ll = self._get_likelihood(batch[0], return_ll=True)\n",
        "            samples.append(img_ll)\n",
        "        img_ll = torch.stack(samples, dim=-1)\n",
        "        \n",
        "        # To average the probabilities, we need to go from log-space to exp, and back to log.\n",
        "        # Logsumexp provides us a stable implementation for this\n",
        "        img_ll = torch.logsumexp(img_ll, dim=-1) - np.log(self.import_samples)\n",
        "        \n",
        "        # Calculate final bpd\n",
        "        bpd = -img_ll * np.log2(np.exp(1)) / np.prod(batch[0].shape[1:])\n",
        "        bpd = bpd.mean()\n",
        "        \n",
        "        self.log('test_bpd', bpd)"
      ],
      "execution_count": 15,
      "outputs": []
    },
    {
      "cell_type": "code",
      "metadata": {
        "id": "S2VrqMotV45W"
      },
      "source": [
        "class Dequantization(nn.Module):\n",
        "    \n",
        "    def __init__(self, alpha=1e-5, quants=256):\n",
        "        \"\"\"\n",
        "        Inputs:\n",
        "            alpha - small constant that is used to scale the original input. \n",
        "                    Prevents dealing with values very close to 0 and 1 when inverting the sigmoid\n",
        "            quants - Number of possible discrete values (usually 256 for 8-bit image)\n",
        "        \"\"\"\n",
        "        super().__init__()\n",
        "        self.alpha = alpha\n",
        "        self.quants = quants \n",
        "        \n",
        "    def forward(self, z, ldj, reverse=False):\n",
        "        if not reverse:\n",
        "            z, ldj = self.dequant(z, ldj)\n",
        "            z, ldj = self.sigmoid(z, ldj, reverse=True)\n",
        "        else:\n",
        "            z, ldj = self.sigmoid(z, ldj, reverse=False)\n",
        "            z = z * self.quants\n",
        "            ldj += np.log(self.quants) * np.prod(z.shape[1:])\n",
        "            z = torch.floor(z).clamp(min=0, max=self.quants-1).to(torch.int32)\n",
        "        return z, ldj\n",
        "    \n",
        "    def sigmoid(self, z, ldj, reverse=False):\n",
        "        # Applies an invertible sigmoid transformation\n",
        "        if not reverse:\n",
        "            ldj += (-z-2*F.softplus(-z)).sum(dim=[1,2,3])\n",
        "            z = torch.sigmoid(z)\n",
        "        else:\n",
        "            z = z * (1 - self.alpha) + 0.5 * self.alpha  # Scale to prevent boundaries 0 and 1\n",
        "            ldj += np.log(1 - self.alpha) * np.prod(z.shape[1:])\n",
        "            ldj += (-torch.log(z) - torch.log(1-z)).sum(dim=[1,2,3])\n",
        "            z = torch.log(z) - torch.log(1-z)\n",
        "        return z, ldj\n",
        "    \n",
        "    def dequant(self, z, ldj):\n",
        "        # Transform discrete values to continuous volumes\n",
        "        z = z.to(torch.float32)\n",
        "        z = z + torch.rand_like(z).detach()\n",
        "        z = z / self.quants\n",
        "        ldj -= np.log(self.quants) * np.prod(z.shape[1:])\n",
        "        return z, ldj\n",
        "\n",
        "\n",
        "class VariationalDequantization(Dequantization):\n",
        "    \n",
        "    def __init__(self, var_flows, alpha=1e-5):\n",
        "        \"\"\"\n",
        "        Inputs: \n",
        "            var_flows - A list of flow transformations to use for modeling q(u|x)\n",
        "            alpha - Small constant, see Dequantization for details\n",
        "        \"\"\"\n",
        "        super().__init__(alpha=alpha)\n",
        "        self.flows = nn.ModuleList(var_flows)\n",
        "        \n",
        "    def dequant(self, z, ldj):\n",
        "        z = z.to(torch.float32)\n",
        "        img = (z / 255.0) * 2 - 1 # We condition the flows on x, i.e. the original image\n",
        "        \n",
        "        # Prior of u is a uniform distribution as before\n",
        "        # As most flow transformations are defined on [-infinity,+infinity], we apply an inverse sigmoid first.\n",
        "        deq_noise = torch.rand_like(z).detach()\n",
        "        deq_noise, ldj = self.sigmoid(deq_noise, ldj, reverse=True)\n",
        "        for flow in self.flows:\n",
        "            deq_noise, ldj = flow(deq_noise, ldj, reverse=False, orig_img=img)\n",
        "        deq_noise, ldj = self.sigmoid(deq_noise, ldj, reverse=False)\n",
        "        \n",
        "        # After the flows, apply u as in standard dequantization\n",
        "        z = (z + deq_noise) / 256.0\n",
        "        ldj -= np.log(256.0) * np.prod(z.shape[1:])\n",
        "        return z, ldj"
      ],
      "execution_count": 16,
      "outputs": []
    },
    {
      "cell_type": "code",
      "metadata": {
        "id": "ioIimkOnXcRC"
      },
      "source": [
        "def create_checkerboard_mask(h, w, invert=False):\n",
        "    x, y = torch.arange(h, dtype=torch.int32), torch.arange(w, dtype=torch.int32)\n",
        "    xx, yy = torch.meshgrid(x, y)\n",
        "    mask = torch.fmod(xx + yy, 2)\n",
        "    mask = mask.to(torch.float32).view(1, 1, h, w)\n",
        "    if invert:\n",
        "        mask = 1 - mask\n",
        "    return mask\n",
        "\n",
        "def create_channel_mask(c_in, invert=False):\n",
        "    mask = torch.cat([torch.ones(c_in//2, dtype=torch.float32), \n",
        "                      torch.zeros(c_in-c_in//2, dtype=torch.float32)])\n",
        "    mask = mask.view(1, c_in, 1, 1)\n",
        "    if invert:\n",
        "        mask = 1 - mask\n",
        "    return mask"
      ],
      "execution_count": 17,
      "outputs": []
    },
    {
      "cell_type": "code",
      "metadata": {
        "id": "KLNL2ssmWM_u"
      },
      "source": [
        "class CouplingLayer(nn.Module):\n",
        "    \n",
        "    def __init__(self, network, mask, c_in):\n",
        "        \"\"\"\n",
        "        Coupling layer inside a normalizing flow.\n",
        "        Inputs:\n",
        "            network - A PyTorch nn.Module constituting the deep neural network for mu and sigma.\n",
        "                      Output shape should be twice the channel size as the input.\n",
        "            mask - Binary mask (0 or 1) where 0 denotes that the element should be transformed,\n",
        "                   while 1 means the latent will be used as input to the NN.\n",
        "            c_in - Number of input channels\n",
        "        \"\"\"\n",
        "        super().__init__()\n",
        "        self.network = network\n",
        "        self.scaling_factor = nn.Parameter(torch.zeros(c_in))\n",
        "        # Register mask as buffer as it is a tensor which is not a parameter, \n",
        "        # but should be part of the modules state.\n",
        "        self.register_buffer('mask', mask)\n",
        "    \n",
        "    def forward(self, z, ldj, reverse=False, orig_img=None):\n",
        "        \"\"\"\n",
        "        Inputs:\n",
        "            z - Latent input to the flow\n",
        "            ldj - The current ldj of the previous flows. \n",
        "                  The ldj of this layer will be added to this tensor.\n",
        "            reverse - If True, we apply the inverse of the layer.\n",
        "            orig_img (optional) - Only needed in VarDeq. Allows external\n",
        "                                  input to condition the flow on (e.g. original image)\n",
        "        \"\"\"\n",
        "        # Apply network to masked input\n",
        "        z_in = z * self.mask\n",
        "        if orig_img is None:\n",
        "            nn_out = self.network(z_in)\n",
        "        else:\n",
        "            nn_out = self.network(torch.cat([z_in, orig_img], dim=1))\n",
        "        s, t = nn_out.chunk(2, dim=1)\n",
        "        \n",
        "        # Stabilize scaling output\n",
        "        s_fac = self.scaling_factor.exp().view(1, -1, 1, 1)\n",
        "        s = torch.tanh(s / s_fac) * s_fac\n",
        "        \n",
        "        # Mask outputs (only transform the second part)\n",
        "        s = s * (1 - self.mask)\n",
        "        t = t * (1 - self.mask)\n",
        "        \n",
        "        # Affine transformation\n",
        "        if not reverse:\n",
        "            # Whether we first shift and then scale, or the other way round,\n",
        "            # is a design choice, and usually does not have a big impact\n",
        "            z = (z + t) * torch.exp(s)\n",
        "            ldj += s.sum(dim=[1,2,3])\n",
        "        else:\n",
        "            z = (z * torch.exp(-s)) - t\n",
        "            ldj -= s.sum(dim=[1,2,3])\n",
        "            \n",
        "        return z, ldj"
      ],
      "execution_count": 18,
      "outputs": []
    },
    {
      "cell_type": "code",
      "metadata": {
        "id": "5MshtZfPWSJh"
      },
      "source": [
        "class ConcatELU(nn.Module):\n",
        "    \"\"\"\n",
        "    Activation function that applies ELU in both direction (inverted and plain). \n",
        "    Allows non-linearity while providing strong gradients for any input (important for final convolution)\n",
        "    \"\"\"\n",
        "    \n",
        "    def forward(self, x):\n",
        "        return torch.cat([F.elu(x), F.elu(-x)], dim=1)\n",
        "\n",
        "    \n",
        "class LayerNormChannels(nn.Module):\n",
        "    \n",
        "    def __init__(self, c_in):\n",
        "        \"\"\"\n",
        "        This module applies layer norm across channels in an image. Has been shown to work well with ResNet connections.\n",
        "        Inputs: \n",
        "            c_in - Number of channels of the input\n",
        "        \"\"\"\n",
        "        super().__init__()\n",
        "        self.layer_norm = nn.LayerNorm(c_in)\n",
        "    \n",
        "    def forward(self, x):\n",
        "        x = x.permute(0, 2, 3, 1)\n",
        "        x = self.layer_norm(x)\n",
        "        x = x.permute(0, 3, 1, 2)\n",
        "        return x\n",
        "\n",
        "    \n",
        "class GatedConv(nn.Module):\n",
        "    \n",
        "    def __init__(self, c_in, c_hidden):\n",
        "        \"\"\"\n",
        "        This module applies a two-layer convolutional ResNet block with input gate\n",
        "        Inputs:\n",
        "            c_in - Number of channels of the input\n",
        "            c_hidden - Number of hidden dimensions we want to model (usually similar to c_in)\n",
        "        \"\"\"\n",
        "        super().__init__()\n",
        "        self.net = nn.Sequential(\n",
        "            nn.Conv2d(c_in, c_hidden, kernel_size=3, padding=1),\n",
        "            ConcatELU(),\n",
        "            nn.Conv2d(2*c_hidden, 2*c_in, kernel_size=1)\n",
        "        )\n",
        "    \n",
        "    def forward(self, x):\n",
        "        out = self.net(x)\n",
        "        val, gate = out.chunk(2, dim=1)\n",
        "        return x + val * torch.sigmoid(gate)\n",
        "\n",
        "    \n",
        "class GatedConvNet(nn.Module):\n",
        "    \n",
        "    def __init__(self, c_in, c_hidden=32, c_out=-1, num_layers=3):\n",
        "        \"\"\"\n",
        "        Module that summarizes the previous blocks to a full convolutional neural network.\n",
        "        Inputs:\n",
        "            c_in - Number of input channels\n",
        "            c_hidden - Number of hidden dimensions to use within the network\n",
        "            c_out - Number of output channels. If -1, 2 times the input channels are used (affine coupling)\n",
        "            num_layers - Number of gated ResNet blocks to apply\n",
        "        \"\"\"\n",
        "        super().__init__()\n",
        "        c_out = c_out if c_out > 0 else 2 * c_in\n",
        "        layers = []\n",
        "        layers += [nn.Conv2d(c_in, c_hidden, kernel_size=3, padding=1)]\n",
        "        for layer_index in range(num_layers):\n",
        "            layers += [GatedConv(c_hidden, c_hidden),\n",
        "                       LayerNormChannels(c_hidden)]\n",
        "        layers += [ConcatELU(),\n",
        "                   nn.Conv2d(2*c_hidden, c_out, kernel_size=3, padding=1)]\n",
        "        self.nn = nn.Sequential(*layers)\n",
        "        \n",
        "        self.nn[-1].weight.data.zero_()\n",
        "        self.nn[-1].bias.data.zero_()\n",
        "    \n",
        "    def forward(self, x):\n",
        "        return self.nn(x)"
      ],
      "execution_count": 19,
      "outputs": []
    },
    {
      "cell_type": "code",
      "metadata": {
        "id": "qKhpezSaWUcl"
      },
      "source": [
        "def create_simple_flow(use_vardeq=True):\n",
        "    flow_layers = []\n",
        "    if use_vardeq:\n",
        "        vardeq_layers = [CouplingLayer(network=GatedConvNet(c_in=2, c_out=2, c_hidden=16),\n",
        "                                       mask=create_checkerboard_mask(h=50, w=50, invert=(i%2==1)),\n",
        "                                       c_in=1) for i in range(4)]\n",
        "        flow_layers += [VariationalDequantization(var_flows=vardeq_layers)]\n",
        "    else:\n",
        "        flow_layers += [Dequantization()]\n",
        "    \n",
        "    for i in range(8):\n",
        "        flow_layers += [CouplingLayer(network=GatedConvNet(c_in=1, c_hidden=32),\n",
        "                                      mask=create_checkerboard_mask(h=50, w=50, invert=(i%2==1)),\n",
        "                                      c_in=1)]\n",
        "        \n",
        "    flow_model = ImageFlow(flow_layers).to(device)\n",
        "    return flow_model"
      ],
      "execution_count": 20,
      "outputs": []
    },
    {
      "cell_type": "code",
      "metadata": {
        "id": "xN3DS1yGWWgw"
      },
      "source": [
        "def train_flow(flow, model_name=\"CartoonFlow\"):\n",
        "    # Create a PyTorch Lightning trainer\n",
        "    trainer = pl.Trainer(default_root_dir=os.path.join(CHECKPOINT_PATH, model_name), \n",
        "                         gpus=1 if torch.cuda.is_available() else 0, \n",
        "                         max_epochs=100, \n",
        "                         gradient_clip_val=1.0,\n",
        "                         callbacks=[ModelCheckpoint(save_weights_only=True, mode=\"min\", monitor=\"val_bpd\"),\n",
        "                                    LearningRateMonitor(\"epoch\")])\n",
        "    trainer.logger._log_graph = True\n",
        "    trainer.logger._default_hp_metric = None # Optional logging argument that we don't need\n",
        "    \n",
        "    train_data_loader = data.DataLoader(train_set, batch_size=128, shuffle=True, drop_last=True, pin_memory=True, num_workers=8)\n",
        "    result = None\n",
        "\n",
        "    print(\"Start training\", model_name)\n",
        "    trainer.fit(flow, train_data_loader, val_loader)\n",
        "\n",
        "    # Test best model on validation and test set if no result has been found\n",
        "    # Testing can be expensive due to the importance sampling.\n",
        "    if result is None:\n",
        "        val_result = trainer.test(flow, test_dataloaders=val_loader, verbose=False)\n",
        "        start_time = time.time()\n",
        "        test_result = trainer.test(flow, test_dataloaders=test_loader, verbose=False)\n",
        "        duration = time.time() - start_time\n",
        "        result = {\"test\": test_result, \"val\": val_result, \"time\": duration / len(test_loader) / flow.import_samples}\n",
        "    \n",
        "    return flow, result"
      ],
      "execution_count": 21,
      "outputs": []
    },
    {
      "cell_type": "code",
      "metadata": {
        "id": "o4_mgtgN0j5h"
      },
      "source": [
        "class SqueezeFlow(nn.Module):\n",
        "    \n",
        "    def forward(self, z, ldj, reverse=False):\n",
        "        B, C, H, W = z.shape \n",
        "        if not reverse: \n",
        "            # Forward direction: H x W x C => H/2 x W/2 x 4C\n",
        "            z = z.reshape(B, C, H//2, 2, W//2, 2)\n",
        "            z = z.permute(0, 1, 3, 5, 2, 4)\n",
        "            z = z.reshape(B, 4*C, H//2, W//2)\n",
        "        else: \n",
        "            # Reverse direction: H/2 x W/2 x 4C => H x W x C\n",
        "            z = z.reshape(B, C//4, 2, 2, H, W)\n",
        "            z = z.permute(0, 1, 4, 2, 5, 3)\n",
        "            z = z.reshape(B, C//4, H*2, W*2)\n",
        "        return z, ldj"
      ],
      "execution_count": 22,
      "outputs": []
    },
    {
      "cell_type": "code",
      "metadata": {
        "id": "NnxwvFeQ0mjP"
      },
      "source": [
        "class SplitFlow(nn.Module):\n",
        "    \n",
        "    def __init__(self):\n",
        "        super().__init__()\n",
        "        self.prior = torch.distributions.normal.Normal(loc=0.0, scale=1.0)\n",
        "    \n",
        "    def forward(self, z, ldj, reverse=False):\n",
        "        if not reverse:\n",
        "            z, z_split = z.chunk(2, dim=1)\n",
        "            ldj += self.prior.log_prob(z_split).sum(dim=[1,2,3])\n",
        "        else:\n",
        "            z_split = self.prior.sample(sample_shape=z.shape).to(device)\n",
        "            z = torch.cat([z, z_split], dim=1)\n",
        "            ldj -= self.prior.log_prob(z_split).sum(dim=[1,2,3])\n",
        "        return z, ldj"
      ],
      "execution_count": 23,
      "outputs": []
    },
    {
      "cell_type": "code",
      "metadata": {
        "colab": {
          "base_uri": "https://localhost:8080/",
          "height": 492
        },
        "id": "G0aCT8d5f-Dh",
        "outputId": "5e747aab-7ba9-46e1-9024-2033103d25a5"
      },
      "source": [
        "def sample(model, img_shape, z_init=None):\n",
        "        \"\"\"\n",
        "        Sample a batch of images from the flow.\n",
        "        \"\"\"\n",
        "        # Sample latent representation from prior\n",
        "        if z_init is None:\n",
        "            z = model.prior.sample(sample_shape=img_shape).to(device)\n",
        "        else:\n",
        "            z = z_init.to(device)\n",
        "        \n",
        "        # Transform z to x by inverting the flows\n",
        "        ldj = torch.zeros(img_shape[0], device=device)  \n",
        "        for flow in reversed(model.flows): \n",
        "            z, ldj = flow(z, ldj, reverse=True)\n",
        "        return z \n",
        "\n",
        "\n",
        "def show_imgs(imgs, title=None, row_size=4, cmap=plt.cm.binary):\n",
        "    # Form a grid of pictures (we use max. 8 columns)\n",
        "    num_imgs = imgs.shape[0] if isinstance(imgs, torch.Tensor) else len(imgs)\n",
        "    is_int = imgs.dtype==torch.int32 if isinstance(imgs, torch.Tensor) else imgs[0].dtype==torch.int32\n",
        "    nrow = min(num_imgs, row_size)\n",
        "    ncol = int(math.ceil(num_imgs/nrow))\n",
        "    imgs = torchvision.utils.make_grid(imgs, nrow=nrow, pad_value=128 if is_int else 0.5) \n",
        "    np_imgs = imgs.cpu().numpy()\n",
        "    # Plot the grid\n",
        "    plt.figure(figsize=(1.5*nrow, 1.5*ncol))\n",
        "    plt.imshow(np.transpose(np_imgs, (1,2,0)), interpolation='bilinear', cmap=cmap)\n",
        "    plt.axis('off')\n",
        "    if title is not None:\n",
        "        plt.title(title)\n",
        "    plt.show()\n",
        "    plt.close()\n",
        "\n",
        "show_imgs([train_set[i][0] for i in range(16,32)]) "
      ],
      "execution_count": 24,
      "outputs": [
        {
          "output_type": "stream",
          "text": [
            "Clipping input data to the valid range for imshow with RGB data ([0..1] for floats or [0..255] for integers).\n"
          ],
          "name": "stderr"
        },
        {
          "output_type": "display_data",
          "data": {
            "application/pdf": "[encoded data removed]",
            "text/plain": [
              "<Figure size 432x432 with 1 Axes>"
            ],
            "image/svg+xml": "<?xml version=\"1.0\" encoding=\"utf-8\" standalone=\"no\"?>\n<!DOCTYPE svg PUBLIC \"-//W3C//DTD SVG 1.1//EN\"\n  \"http://www.w3.org/Graphics/SVG/1.1/DTD/svg11.dtd\">\n<!-- Created with matplotlib (https://matplotlib.org/) -->\n<svg height=\"340.56pt\" version=\"1.1\" viewBox=\"0 0 340.56 340.56\" width=\"340.56pt\" xmlns=\"http://www.w3.org/2000/svg\" xmlns:xlink=\"http://www.w3.org/1999/xlink\">\n <defs>\n  <style type=\"text/css\">\n*{stroke-linecap:butt;stroke-linejoin:round;}\n  </style>\n </defs>\n <g id=\"figure_1\">\n  <g id=\"patch_1\">\n   <path d=\"M 0 340.56 \nL 340.56 340.56 \nL 340.56 0 \nL 0 0 \nz\n\" style=\"fill:none;\"/>\n  </g>\n  <g id=\"axes_1\">\n   <g clip-path=\"url(#p9dd9eba3a6)\">\n    <image height=\"327\" id=\"imagebbff981b2a\" transform=\"scale(1 -1)translate(0 -327)\" width=\"327\" x=\"7.2\" xlink:href=\"data:image/png;base64,\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\" y=\"-6.36\"/>\n   </g>\n  </g>\n </g>\n <defs>\n  <clipPath id=\"p9dd9eba3a6\">\n   <rect height=\"326.16\" width=\"326.16\" x=\"7.2\" y=\"7.2\"/>\n  </clipPath>\n </defs>\n</svg>\n"
          },
          "metadata": {
            "needs_background": "light"
          }
        }
      ]
    },
    {
      "cell_type": "code",
      "metadata": {
        "id": "zctRI79m0oqk"
      },
      "source": [
        "def create_multiscale_flow():\n",
        "    flow_layers = []\n",
        "    \n",
        "    vardeq_layers = [CouplingLayer(network=GatedConvNet(c_in=2, c_out=2, c_hidden=16),\n",
        "                                   mask=create_checkerboard_mask(h=52, w=52, invert=(i%2==1)),\n",
        "                                   c_in=1) for i in range(4)]\n",
        "    flow_layers += [VariationalDequantization(vardeq_layers)]\n",
        "    \n",
        "    flow_layers += [CouplingLayer(network=GatedConvNet(c_in=1, c_hidden=32),\n",
        "                                  mask=create_checkerboard_mask(h=52, w=52, invert=(i%2==1)),\n",
        "                                  c_in=1) for i in range(2)]\n",
        "    flow_layers += [SqueezeFlow()]\n",
        "    for i in range(2):\n",
        "        flow_layers += [CouplingLayer(network=GatedConvNet(c_in=4, c_hidden=48),\n",
        "                                      mask=create_channel_mask(c_in=4, invert=(i%2==1)),\n",
        "                                      c_in=4)]\n",
        "    flow_layers += [SplitFlow(),\n",
        "                    SqueezeFlow()]\n",
        "    for i in range(4):\n",
        "        flow_layers += [CouplingLayer(network=GatedConvNet(c_in=8, c_hidden=64),\n",
        "                                      mask=create_channel_mask(c_in=8, invert=(i%2==1)),\n",
        "                                      c_in=8)]\n",
        "\n",
        "    flow_model = ImageFlow(flow_layers).to(device)\n",
        "    return flow_model"
      ],
      "execution_count": 25,
      "outputs": []
    },
    {
      "cell_type": "code",
      "metadata": {
        "id": "eNvc0JDcXn49"
      },
      "source": [
        "# model_no_aux = train_flow(create_simple_flow(use_vardeq=True)) \n",
        "model_multi_no_aux = train_flow(create_multiscale_flow()) "
      ],
      "execution_count": null,
      "outputs": []
    },
    {
      "cell_type": "code",
      "metadata": {
        "id": "noK6CrhXk0Uh"
      },
      "source": [
        "model = model_multi_no_aux[0] "
      ],
      "execution_count": null,
      "outputs": []
    },
    {
      "cell_type": "code",
      "metadata": {
        "colab": {
          "base_uri": "https://localhost:8080/",
          "height": 492
        },
        "id": "Yij6U5oDBDhn",
        "outputId": "ad4e1923-322d-43d9-f234-2930d5468e3b"
      },
      "source": [
        "pl.seed_everything(435) \n",
        "samples = sample(model, img_shape=(16,8,13,13))\n",
        "show_imgs(samples, cmap=plt.cm.binary) "
      ],
      "execution_count": null,
      "outputs": [
        {
          "output_type": "stream",
          "text": [
            "Global seed set to 435\n"
          ],
          "name": "stderr"
        },
        {
          "output_type": "display_data",
          "data": {
            "application/pdf": "[encoded data removed]",
            "text/plain": [
              "<Figure size 432x432 with 1 Axes>"
            ],
            "image/svg+xml": "<?xml version=\"1.0\" encoding=\"utf-8\" standalone=\"no\"?>\n<!DOCTYPE svg PUBLIC \"-//W3C//DTD SVG 1.1//EN\"\n  \"http://www.w3.org/Graphics/SVG/1.1/DTD/svg11.dtd\">\n<!-- Created with matplotlib (https://matplotlib.org/) -->\n<svg height=\"340.56pt\" version=\"1.1\" viewBox=\"0 0 340.56 340.56\" width=\"340.56pt\" xmlns=\"http://www.w3.org/2000/svg\" xmlns:xlink=\"http://www.w3.org/1999/xlink\">\n <defs>\n  <style type=\"text/css\">\n*{stroke-linecap:butt;stroke-linejoin:round;}\n  </style>\n </defs>\n <g id=\"figure_1\">\n  <g id=\"patch_1\">\n   <path d=\"M 0 340.56 \nL 340.56 340.56 \nL 340.56 0 \nL 0 0 \nz\n\" style=\"fill:none;\"/>\n  </g>\n  <g id=\"axes_1\">\n   <g clip-path=\"url(#paf738ce6d0)\">\n    <image height=\"327\" id=\"image5d8d924c7f\" transform=\"scale(1 -1)translate(0 -327)\" width=\"327\" x=\"7.2\" xlink:href=\"data:image/png;base64,\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\" y=\"-6.36\"/>\n   </g>\n  </g>\n </g>\n <defs>\n  <clipPath id=\"paf738ce6d0\">\n   <rect height=\"326.16\" width=\"326.16\" x=\"7.2\" y=\"7.2\"/>\n  </clipPath>\n </defs>\n</svg>\n"
          },
          "metadata": {
            "tags": [],
            "needs_background": "light"
          }
        }
      ]
    },
    {
      "cell_type": "code",
      "metadata": {
        "id": "q4g_2qmFI7ik"
      },
      "source": [
        "samples2 = train_set[1][0].numpy() \n",
        "\n",
        "for i in range(1, 16): \n",
        "    _sample = train_set[i][0].numpy() \n",
        "    samples2 = np.concatenate([samples2, _sample], axis=0) \n",
        "    "
      ],
      "execution_count": null,
      "outputs": []
    },
    {
      "cell_type": "code",
      "metadata": {
        "id": "t-XlXdO2BIDZ",
        "colab": {
          "base_uri": "https://localhost:8080/",
          "height": 587
        },
        "outputId": "86d835d1-bd59-4eb0-cb98-b913d6676880"
      },
      "source": [
        "# _samples = samples.numpy().squeeze() \n",
        "_samples = samples2\n",
        "\n",
        "plt.figure(figsize=(6,6)) \n",
        "plt.subplot(221) \n",
        "plt.imshow(_samples[3], plt.cm.binary) \n",
        "plt.grid(False) \n",
        "plt.xticks([]) \n",
        "plt.yticks([])\n",
        "\n",
        "plt.subplot(222) \n",
        "plt.imshow(_samples[10], plt.cm.binary) \n",
        "plt.grid(False)\n",
        "plt.xticks([]) \n",
        "plt.yticks([]) \n",
        "\n",
        "plt.subplot(223) \n",
        "plt.imshow(_samples[14], plt.cm.binary) \n",
        "plt.grid(False)\n",
        "plt.xticks([]) \n",
        "plt.yticks([])\n",
        "\n",
        "plt.subplot(224) \n",
        "plt.imshow(_samples[12], plt.cm.binary) \n",
        "plt.grid(False)\n",
        "plt.xticks([]) \n",
        "plt.yticks([]) \n",
        "plt.tight_layout()\n",
        "plt.show()"
      ],
      "execution_count": null,
      "outputs": [
        {
          "output_type": "display_data",
          "data": {
            "application/pdf": "[encoded data removed]",
            "text/plain": [
              "<Figure size 432x432 with 4 Axes>"
            ],
            "image/svg+xml": "<?xml version=\"1.0\" encoding=\"utf-8\" standalone=\"no\"?>\n<!DOCTYPE svg PUBLIC \"-//W3C//DTD SVG 1.1//EN\"\n  \"http://www.w3.org/Graphics/SVG/1.1/DTD/svg11.dtd\">\n<!-- Created with matplotlib (https://matplotlib.org/) -->\n<svg height=\"424.8pt\" version=\"1.1\" viewBox=\"0 0 423.818182 424.8\" width=\"423.818182pt\" xmlns=\"http://www.w3.org/2000/svg\" xmlns:xlink=\"http://www.w3.org/1999/xlink\">\n <defs>\n  <style type=\"text/css\">\n*{stroke-linecap:butt;stroke-linejoin:round;}\n  </style>\n </defs>\n <g id=\"figure_1\">\n  <g id=\"patch_1\">\n   <path d=\"M 0 424.8 \nL 423.818182 424.8 \nL 423.818182 -0 \nL 0 -0 \nz\n\" style=\"fill:none;\"/>\n  </g>\n  <g id=\"axes_1\">\n   <g id=\"patch_2\">\n    <path d=\"M 10.7 203.5 \nL 207 203.5 \nL 207 7.2 \nL 10.7 7.2 \nz\n\" style=\"fill:#ffffff;\"/>\n   </g>\n   <g clip-path=\"url(#p111500abad)\">\n    <image height=\"197\" id=\"image3db8b5a227\" transform=\"scale(1 -1)translate(0 -197)\" width=\"197\" x=\"10.7\" xlink:href=\"data:image/png;base64,\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\" y=\"-6.5\"/>\n   </g>\n   <g id=\"matplotlib.axis_1\"/>\n   <g id=\"matplotlib.axis_2\"/>\n   <g id=\"patch_3\">\n    <path d=\"M 10.7 203.5 \nL 10.7 7.2 \n\" style=\"fill:none;stroke:#000000;stroke-linecap:square;stroke-linejoin:miter;stroke-width:0.8;\"/>\n   </g>\n   <g id=\"patch_4\">\n    <path d=\"M 207 203.5 \nL 207 7.2 \n\" style=\"fill:none;stroke:#000000;stroke-linecap:square;stroke-linejoin:miter;stroke-width:0.8;\"/>\n   </g>\n   <g id=\"patch_5\">\n    <path d=\"M 10.7 203.5 \nL 207 203.5 \n\" style=\"fill:none;stroke:#000000;stroke-linecap:square;stroke-linejoin:miter;stroke-width:0.8;\"/>\n   </g>\n   <g id=\"patch_6\">\n    <path d=\"M 10.7 7.2 \nL 207 7.2 \n\" style=\"fill:none;stroke:#000000;stroke-linecap:square;stroke-linejoin:miter;stroke-width:0.8;\"/>\n   </g>\n  </g>\n  <g id=\"axes_2\">\n   <g id=\"patch_7\">\n    <path d=\"M 220.318182 203.5 \nL 416.618182 203.5 \nL 416.618182 7.2 \nL 220.318182 7.2 \nz\n\" style=\"fill:#ffffff;\"/>\n   </g>\n   <g clip-path=\"url(#p70025321f6)\">\n    <image height=\"197\" id=\"image8f6fd42524\" transform=\"scale(1 -1)translate(0 -197)\" width=\"197\" x=\"220.318182\" xlink:href=\"data:image/png;base64,\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\" y=\"-6.5\"/>\n   </g>\n   <g id=\"matplotlib.axis_3\"/>\n   <g id=\"matplotlib.axis_4\"/>\n   <g id=\"patch_8\">\n    <path d=\"M 220.318182 203.5 \nL 220.318182 7.2 \n\" style=\"fill:none;stroke:#000000;stroke-linecap:square;stroke-linejoin:miter;stroke-width:0.8;\"/>\n   </g>\n   <g id=\"patch_9\">\n    <path d=\"M 416.618182 203.5 \nL 416.618182 7.2 \n\" style=\"fill:none;stroke:#000000;stroke-linecap:square;stroke-linejoin:miter;stroke-width:0.8;\"/>\n   </g>\n   <g id=\"patch_10\">\n    <path d=\"M 220.318182 203.5 \nL 416.618182 203.5 \n\" style=\"fill:none;stroke:#000000;stroke-linecap:square;stroke-linejoin:miter;stroke-width:0.8;\"/>\n   </g>\n   <g id=\"patch_11\">\n    <path d=\"M 220.318182 7.2 \nL 416.618182 7.2 \n\" style=\"fill:none;stroke:#000000;stroke-linecap:square;stroke-linejoin:miter;stroke-width:0.8;\"/>\n   </g>\n  </g>\n  <g id=\"axes_3\">\n   <g id=\"patch_12\">\n    <path d=\"M 10.7 414.1 \nL 207 414.1 \nL 207 217.8 \nL 10.7 217.8 \nz\n\" style=\"fill:#ffffff;\"/>\n   </g>\n   <g clip-path=\"url(#pbf38eaed24)\">\n    <image height=\"197\" id=\"imagede39b0f7f2\" transform=\"scale(1 -1)translate(0 -197)\" width=\"197\" x=\"10.7\" xlink:href=\"data:image/png;base64,\niVBORw0KGgoAAAANSUhEUgAAAMUAAADFCAYAAADkODbwAAAABHNCSVQICAgIfAhkiAAACxVJREFUeJzt3UuMFOUWwPECFQGJKArIEAFBRR2QR2AGSRDBgCEmwEIDKxNWBGXBisCOnSauSSAkLMSNkhDMQCDEGGV8RY1BkdfwDorIW1CU913dzjl/7lQzDrnS0//fqk6qp6huc6zvfHXqq243b968WUiq6P5vn4B0tzEpJDApJDApJDApJDApJDApJDApJDApJDApJDApJDApJDApJDApJDApJDApJDApJDApJDApJDApJDApJDApJDApJDApJDApJDApJDApJDApJDApJDApJDApJDApJDApJDApJDApJDApJDApJLj33z6BenL+/PkUxxfT9urVK+27fv16inv37p3ibt263eGz0395pZDApJDApJDAmuIO+v3331P8448/pvjrr79O8d69eyvb9913X9o3YsSIFL/88sspHj16dIr59/rnvFJIYFJI0O1mnBdUVZwqPXPmTGV7y5Ytad/777+f4m+//TbF165dq2zfuHEj7bv//vtT3NzcnOKFCxemeMyYMZXtxx57LO3jdK7KeaWQwKSQwKSQwJqiij179qR4x44dKW5paalsf/LJJ2nfn3/+meLOTJtevXo1xX369EnxtGnTKtszZsxod19RFMWwYcP+8XnUA68UEpgUEpgUEtR9TcGvv2vXrhSvXbs2xR9++GGKYzs4awa2d/NeRBn+LWOed6w5HnnkkbRvzpw5KV6yZEmKhw8fftvnVQ+8UkhgUkhgUkhQ9zXFsWPHUrxixYoUf/DBBymuVjdE/GnZ7h3vF/CzP/zwQ+l5duTfjT1WRVEUCxYsSPGyZctS3NDQ0O6x64FXCglMCglMCgnq8nHU+EwE+5X4TERnaognnngixadOnUpxa2trZbtv375pX1NTU4r//vvv0mPF8+I53nPPPSn+6KOPUjxz5swUDxo0qN1j1QOvFBKYFBLU5fApDifOnTuX9l24cCHFPXr0uO3j3ntv/jn5twMGDEjxuHHjKttsDefKIGwV5/CpTPfu+f99PPbhw4dv+1j1wCuFBCaFBCaFBHVZU0RsgegMLn/T1tZW+m+V/dusTxh3Zqq0Wgt7PU7DRl4pJDApJDApJKiLmuKPP/5IcVz9e/fu3WnfnVy9m20fcWlLxhznf/XVVyk+cuRIijsz7md9wt/g888/r2yPHTs27eP9kq7IK4UEJoUEJoUEXfJxVH6lzz77LMVxiZd+/fqlfTt37kzx5cuXU1w2x896hMvpc4n82GfFz7KV/ODBgynmPY7YO8VzZA3BpfmffPLJFMflPleuXJn2TZ48uejqvFJIYFJIYFJI0CXvU5w8eTLFW7duTfGBAwcq2xMmTEj7OFYfP358ip9//vkUnz59urL9xRdfpH18VuPo0aNlp52cOHEixeyr4tKYU6ZMqWw/+uijaR9fH/DTTz+lmN85/j7ffPNN2sffo2fPnrece63zSiGBSSFBlxw+8fFKvtQ9tkjw0cxZs2al+N13303xAw88kOI4/cuXyS9dujTFfCsSp0ojDmkaGxtLzyvuZwsI36jEFQG/++67FMehWlxxpCiKYt68eSmOK390FV4pJDApJDApJOiSNQVX04tTjEWRx/Icu8+fPz/FrCH++uuvdv9dtlm//fbbKX7jjTdSzLF+9NBDD6X4nXfeSTFXML906VK7x+J3eP3111PMmiL+PvztPv744xRziprt8bXIK4UEJoUEJoUEXaKm4Pz/vn37UswlKSPWFAMHDizdX4bj+rgsZlEUxfTp01O8YcOGdo/Fz3LsXlZDEL8Dl+9kC0m893LlypW0j78165HFixen+Kmnnrrt87xbeKWQwKSQwKSQoCZritiuXRRFsWbNmhRfvHgxxZw7j28e5T2N8+fPp5iPifJRzzj+Zs8Rl+IfPnx46f6Ib0HiZ8vqJOJ3OHv2bOmx4qOwzc3NaR9rCra4r1+/PsVvvfXW/zzu3cwrhQQmhQQmhQQ1WVNwXLt///4U//LLLyluaGhoN+aSmqtWrUoxH7ccPHhwimMdweVw+ObVzZs3p7hsic5Nmzal+Omnn04xe59i3cC6h895rF69OsVcEijeq/n111/TPtYjvAfC5T7jm1f56O/dyiuFBCaFBDUzfIpvA921a1faxyEQX6b+22+/pTgONTjV+emnn6aYwwGuKBjbrDkVzNU8OGVb9jgqW7YXLVqUYraWx1X/OHziebD9nat/xN+EwyX+tpw65nDz+PHjRa3xSiGBSSGBSSFBzdQUcfW9jRs3pn0cI3fvnnO97K0/nBblo5vczzF2rAs4Xcv2CtY2bNkuw3Zv1jY///xzu8fl24dYc/A84+/FGoItIVyN8ZVXXkkxH9GtBV4pJDApJDApJKiZmiK2InDla7YxsN2C9zHimJr3ChjzsU+2P8fPsw2d9wfYTtGRN5zyO7BOePjhh9v9LO+fsDWDbzaKeM79+/cvjdl6P2TIkHaPfbfySiGBSSGBSSFBzdQUTU1NlW0utc8xdLVlaeJYnnP2cWxeFLfe8+C8+7Zt2yrbo0aNSvu4XE7s3yqKfG+BdRBrm2pLgcaxP/+WtQtj1kmxBuG9l+XLl6eYy/h8//33KY6/L3/Lu1VtnKX0f2RSSFAzw6fYXsAXO8aXtBfFre3gbHuIrQsctnCKkS0QHF5NmjSpss2WkGeffTbFR44cSXF8eo7tI2XTpEVx6xAxTv9yhUROyXJVEbZyxGM/99xzaR9X96D4e9QqrxQSmBQSmBQS1ExNwWnX6KWXXkoxH5HkS98PHjxY2eZ4muPvxx9/PMVsnY7TjGw759Qo65M4JTtx4sS0jy+E51tceezY9vHCCy+0++8Uxa1t6JwqjufJty2x7aVa7VOLvFJIYFJIYFJIUDM1xYMPPljZZs3AufPXXnstxUOHDk3xunXrKtuHDh1K+3iv4dixYynm0jKx1uEK3Lx/Mnny5BTH+ydcWqds9cCiuPU+xZkzZyrbHPcPGjQoxTxPtofHOon3bWqlVaMzuv43lDrIpJDApJCgZmqK+Fjjm2++mfbxDZ3sZ5o9e3aK46rkXFWb9yHYZl22FCZ7ruI4vyiK4ssvv0xxXJqHLez8DryfQvG+Bd9oylXYqx0rLn05cuTIdvd1VV4pJDApJDApJKiZmiLi204ZVzN16tTK9vbt29O+tra2FPN+QUeWpeFnWWPEOoL9R8T7BRR7lFjbsOeKeM8jLs3PNyjVA68UEpgUEtTk8Kmz4vQuW0bY1lFtirYMH4PltGsc5nCalCupl7XOU7UhH9s6evXqleK4QsewYcNu+9/tKrxSSGBSSGBSSFCXNUV8dHPu3LlpH1sidu/eneKOvCWJdQJbN2LdwDqAn+W0KT8fW+uJNQRxZfAXX3yxss3VA+uBVwoJTAoJTAoJut2sNuCsM3ws9L333kvxnj17UhzbtFlvVKs/4t9We2MpawoeO/49/5Oy7eOZZ55J8bx581Ic33BaD4+fUv19Y6kKk0ICk0ICa4oq+MaglpaWFLe2tla2+agql5rhY6IR6w3e4+Cy/uyNio+jcinLxsbGFL/66qsp5iOn9c4rhQQmhQQmhQTWFB3E+wmxN4o1BZenLLtPQXyOgUv182/L3vgae71UnVcKCUwKCRw+SeCVQgKTQgKTQgKTQgKTQgKTQgKTQgKTQgKTQgKTQgKTQgKTQgKTQgKTQgKTQgKTQgKTQgKTQgKTQgKTQgKTQgKTQgKTQgKTQgKTQgKTQgKTQgKTQgKTQgKTQgKTQgKTQgKTQgKTQgKTQgKTQgKTQgKTQgKTQgKTQgKTQoL/AKsWz4/NYSFAAAAAAElFTkSuQmCC\" y=\"-217.1\"/>\n   </g>\n   <g id=\"matplotlib.axis_5\"/>\n   <g id=\"matplotlib.axis_6\"/>\n   <g id=\"patch_13\">\n    <path d=\"M 10.7 414.1 \nL 10.7 217.8 \n\" style=\"fill:none;stroke:#000000;stroke-linecap:square;stroke-linejoin:miter;stroke-width:0.8;\"/>\n   </g>\n   <g id=\"patch_14\">\n    <path d=\"M 207 414.1 \nL 207 217.8 \n\" style=\"fill:none;stroke:#000000;stroke-linecap:square;stroke-linejoin:miter;stroke-width:0.8;\"/>\n   </g>\n   <g id=\"patch_15\">\n    <path d=\"M 10.7 414.1 \nL 207 414.1 \n\" style=\"fill:none;stroke:#000000;stroke-linecap:square;stroke-linejoin:miter;stroke-width:0.8;\"/>\n   </g>\n   <g id=\"patch_16\">\n    <path d=\"M 10.7 217.8 \nL 207 217.8 \n\" style=\"fill:none;stroke:#000000;stroke-linecap:square;stroke-linejoin:miter;stroke-width:0.8;\"/>\n   </g>\n  </g>\n  <g id=\"axes_4\">\n   <g id=\"patch_17\">\n    <path d=\"M 220.318182 414.1 \nL 416.618182 414.1 \nL 416.618182 217.8 \nL 220.318182 217.8 \nz\n\" style=\"fill:#ffffff;\"/>\n   </g>\n   <g clip-path=\"url(#p4ebdce5cab)\">\n    <image height=\"197\" id=\"image185a4282b9\" transform=\"scale(1 -1)translate(0 -197)\" width=\"197\" x=\"220.318182\" xlink:href=\"data:image/png;base64,\niVBORw0KGgoAAAANSUhEUgAAAMUAAADFCAYAAADkODbwAAAABHNCSVQICAgIfAhkiAAADS9JREFUeJzt3VuoFmUXwPHH0o4esl1u0+xkaaalRRFJdtVFNx2oLoLOFEQhBEV33dmd0oWBKZJEIETdRBcVESJSZmVYaQc7l1oeaptmmaXt725Y6+/nzPd+e2+dV/+/q1nMfveed2w1z5pZzzPD+vv7+4ukynFH+gCktjEpJDApJDApJDApJDApJDApJDApJDApJDApJDApJDApJDApJDApJDApJDApJDApJDApJDApJDApJDApJDApJDApJDApJDApJDApJDApJDApJDApJDApJDApJDApJDApJBh+pA9AQ++vv/5K8f79+1M8cuTIFP/555/V9sqVK9O+iRMnpnjGjBkpPv744//fw2wNrxQSmBQSmBQSHJM1RRxjb926Ne3btWtXii+66KIUn3LKKUN3YIPkp59+SvG+fftSvHv37hSfffbZKd64cWO1PXPmzLRv06ZNKf7jjz9SPHr06M4OtoW8UkhgUkhgUkgwrL+/v/9IH8Rg45i6r68vxaNGjTrkZw8cOJDiE088McW8T9+Jf//9N8WxnuE/w5lnnpniE0444X/+O++9916Kx40bl+Lhw3Mp+dVXX6X4rLPOqrZ7enrSPtYnv/32W4qHDRuW4vidx48fX3tcbeGVQgKTQoKj4pZsbEso5eDbhpMmTUrx+++/X21fccUVaR9bHn7//fcUf/TRRymOtyw5tNi+fXuK16xZk+LVq1dX28cdl///dNVVV6V49uzZKZ4wYUKKR4wYUW3zFiuP66STTkoxWzPibdYzzjgj7eMt6bVr16aYw754nLx921ZeKSQwKSQwKSRo7S1Ztlt89tln1XZvb2/aN2bMmBT/+uuvKR47dmyKP/nkk2qbY2D+buItyH/++afaZv0xf/78FK9YsSLFHOtHHPffeOONKX7wwQdTPGvWrGp727ZtaR/PD23evDnFsW44/fTTO/osb3efeuqp1faWLVvSPtZzbWk790ohgUkhgUkhQWufU/z4448pjmNVjj0///zzFJ9zzjkprmuhYI3AVgS2fXD/t99+W20//vjjad+6detSzBaI+D3YAhJrlVJKefnll1PM8fkTTzxRbfM5BfE78edjSwl/ljFxqmv8jvxsS8tZrxQSmRQSmBQStPY5RZwSWUpud2af0N9//51i9ufEviCqa3UupZSTTz45xWyzfuihh6pt1jb8u5dddlmKp02bVm1zLM4+KT4P4M/HXqlFixalfWx355I3PJ/xPwmeH/7nwtqHvyvu5zRYno+28EohgUkhgUkhQWueU/AeNseqsQeH9QbH7uzX4fg74hiZ9QjnTzz88MMp/u6776ptTvO8+OKLa48r1g2cx3H11VenmOeHS/N88MEH1fa9996b9i1ZsiTFF154YYr37t1bDoU1BWsGzmVhn1V8TsHPtlV3HKV0GJkUErRm+MTWDQ5j4m1XTpHkNEde8jmsicMp3nJ99913U/zII4+k+Oeff04xV/uI+Ls5zLv88surbd5WZus8h14cPsXjiG32pZRy3333pfjZZ59NMVcOj8fCdhK23/BccxptHPbxdndbeaWQwKSQwKSQoLVtHhs2bEgx64ho/fr1KZ4+fXqKWa/EGoO3d++8884Uc2pnJyv18dSyboj7+bO8fcm/y7F8HU57nTx5copffPHFFMclgVatWpX2sabicdxwww0p3rlzZ7V92mmnpX28Vc5lezgl93DxSiGBSSGBSSFBa2sK3g+PbcesL9gKzbEox+fxucZjjz2W9r3xxhsprnsO0YSnlrVOXJaG4pKapeRpr6UMrGWC54t11JNPPllt8/tz+i5j/tvEFpJYX5RSygUXXJBiPsc477zzeOiHhVcKCUwKCUwKCVpbU7Cf6eOPP6622frMsSjH21wS/+mnn662uZQll9zsZClHnko+W4hvCCol9zdx7M57+pwGO5B/Nj4f4KsKYk/WU089lfZxWUzWCazn4rnnm4t4bvm72JN1uHilkMCkkMCkkKA18ymINUVdHwzH1xyfc8nJOHWTOukpavosp9TGqatNf4tveOWckIFo+o5xTsmbb76Z9t1xxx0pZu3DuiDWTXzuwO/I5xZHilcKCUwKCVo7fOLtu9guwDYFDpf27NmT4tdeey3FcVjT1C7BoRnbsGPM6aZNbyGt07RyIc9B/E48H02tKvxb8Xe//vrrad/tt99ee1w8n3EF+KbVBONbj44krxQSmBQSmBQStLamoJ6enmqbbyHlWJ0tEV9//XWKR48efcjPsoZoWpblpptuqra//PLLtO+LL75IMd/EWvd2VNYBO3bsSDHb0KdMmVJtsw5o+g78zrENJL5JtpSD22D4u3ncceVDfl+2vQzkdvhg8kohgUkhgUkhQdfUFHE8yjfi8JkGW0TqnmuwfYKrZrNVOrZVl1LKwoULq+3Ykl5KKa+++mqK+/r6UlxXU/C4Lr300hTfcsstKX700Uer7blz56Z9se2+lIOnkPJ8xaV4uCJ50/KeXD09ns9ffvkl7WtLWwd5pZDApJDApJCga2qK2KLMt5CyfZnTVefMmZPiOMbmfXcuJX/llVemmM8a4vMDLu9y/vnnp/iHH35IcV0vFPu3eBxjx45NcVzOkm8dHT9+fIrXrl2b4g8//DDFvb291fbNN9+c9vE78lkMnz3E5xg8ZtZrbeGVQgKTQgKTQoKuqSlivxNfm8V7+rxXvmzZshTHJTnjEpGllLJu3boUc/ol33gal6rn0pYcqw+kt4dTaCdOnJji+OyF9QdfN/D888+neOrUqSleunRptc26iL1OfH7CXql4vvh8iUvtdPKag6HklUICk0KCrhk+xSFRbCMvpbk1msOrmTNnVtv33HNP2vfOO++keN68eSm+++67Uzx79uxqm7eC2eL+0ksvpbhumiinbl5//fUpvu2221IcWzXeeuuttO+FF15IMV8If9ddd6U4DnnYAsL4008/TXGcfsqf5+3stgyXyCuFBCaFBCaFBF1TU8TlUA4cOJD2DWS6JduZiWPoZ555JsXPPfdctc22BY7dOxlD82e5Ut/bb7+d4tgWwhYR1lRcioe3XWM9w3PHOE7tLeXgdvBYN7Etv628UkhgUkhgUkjQNTVFxCmSbPtoWp4y1hRsceCYeNOmTSnms4X4u9iGzmUhO2nzqFvKspSD65X4t3iMTW89Yi0UazR+lkuBTp48ufZ3x6mv1hRSlzIpJDApJOiamqLuOQWXXal76xF//rrrrkv7Ytt0KaXceuutKeZYPj4D6GSp/U6xxujkb/H88NkClwji+Y1YJ7FO4NuJ+AykG3ilkMCkkKBrhk8Rhw4DGbbw9i5vMV577bUpXrNmTYrjiw85xGE7xVCuqh1vo3JG2zXXXJPi+++/P8VcgaNu+ET8WxxOteXtRJ3wSiGBSSGBSSHBsP6mHoAWYqs4V5CoW6WuSdPbUr///vsUL1iwoNpmSwinanL8HbEu6mRcX0q+DT1p0qS075VXXkkxV/lje3wdtqHzs2x1iau0N53btuiOo5QOI5NCApNCgq6sKTjeXrFiRYr5tiEuF9MJPlvgffdYr7AFZPny5Snm6ujxeyxevDjtmzZtWorZOs664IEHHqi22eYyYcKEFNfVNk1YF2zZsiXFl1xySYqbWm7ayCuFBCaFBCaFBF1ZU/CQ+fZP1gF8k08nzy2I9+nrnidwWmhd7xPfWFpXf5RSP8W0bkmfTvGYm5YX4jOSbuSVQgKTQgKTQoKurCmabN68uXZ/rAsG8+s3zZfgPf44Pm9a0qbpfv9Q/TPyuLZu3ZpiPpdo6/L6nfBKIYFJIUFXTkdtwtuZ8cXrpeS3InF4MJBhCG+rsh2cQ4/45iOufr569eoUc9URvqh9MIdPcZjH6bocHh0NwyXySiGBSSGBSSHBUVlT8OXyjOP4m20KrAOaxuqxJuFnt23blmLWFPGWLFvSeUuW9Qp/nu0nnai7HRyX8Cnl4JfJH428UkhgUkhgUkhwVLZ5NIlj+Q0bNqR9vb29tZ/l+DvWJNzHtg5Oi12/fn21zaVipkyZkmI+exnMGoLt4Nu3b6+2Z8yYkfZxKdCjkVcKCUwKCUwKCY7JmiLas2dPirn0JXt/OP4+99xzD7mv01byiP8sTf9McX/TW1n7+vpSzGc1sX7h8jjHAq8UEpgUEpgUEhzzNQVxfM34m2++OeRn2WPFz3LuQdzPOqDpn4XL1sTnB+yTYh8Vfzf7mYbyLa/dwCuFBCaFBA6fOrRv374U79ixo9rmS9s3btyY4p6enhTHFTqaVvHj8IovjI+/a/fu3WkfX/DOlQuVeaWQwKSQwKSQwJpiCLFVnO3h8dSPGjUq7du1a1eK2So+ZsyYwThE/RdeKSQwKSQwKSSwppDAK4UEJoUEJoUEJoUEJoUEJoUEJoUEJoUEJoUEJoUEJoUEJoUEJoUEJoUEJoUEJoUEJoUEJoUEJoUEJoUEJoUEJoUEJoUEJoUEJoUEJoUEJoUEJoUEJoUEJoUEJoUEJoUEJoUE/wFkJO03qkd7zQAAAABJRU5ErkJggg==\" y=\"-217.1\"/>\n   </g>\n   <g id=\"matplotlib.axis_7\"/>\n   <g id=\"matplotlib.axis_8\"/>\n   <g id=\"patch_18\">\n    <path d=\"M 220.318182 414.1 \nL 220.318182 217.8 \n\" style=\"fill:none;stroke:#000000;stroke-linecap:square;stroke-linejoin:miter;stroke-width:0.8;\"/>\n   </g>\n   <g id=\"patch_19\">\n    <path d=\"M 416.618182 414.1 \nL 416.618182 217.8 \n\" style=\"fill:none;stroke:#000000;stroke-linecap:square;stroke-linejoin:miter;stroke-width:0.8;\"/>\n   </g>\n   <g id=\"patch_20\">\n    <path d=\"M 220.318182 414.1 \nL 416.618182 414.1 \n\" style=\"fill:none;stroke:#000000;stroke-linecap:square;stroke-linejoin:miter;stroke-width:0.8;\"/>\n   </g>\n   <g id=\"patch_21\">\n    <path d=\"M 220.318182 217.8 \nL 416.618182 217.8 \n\" style=\"fill:none;stroke:#000000;stroke-linecap:square;stroke-linejoin:miter;stroke-width:0.8;\"/>\n   </g>\n  </g>\n </g>\n <defs>\n  <clipPath id=\"p111500abad\">\n   <rect height=\"196.3\" width=\"196.3\" x=\"10.7\" y=\"7.2\"/>\n  </clipPath>\n  <clipPath id=\"p70025321f6\">\n   <rect height=\"196.3\" width=\"196.3\" x=\"220.318182\" y=\"7.2\"/>\n  </clipPath>\n  <clipPath id=\"pbf38eaed24\">\n   <rect height=\"196.3\" width=\"196.3\" x=\"10.7\" y=\"217.8\"/>\n  </clipPath>\n  <clipPath id=\"p4ebdce5cab\">\n   <rect height=\"196.3\" width=\"196.3\" x=\"220.318182\" y=\"217.8\"/>\n  </clipPath>\n </defs>\n</svg>\n"
          },
          "metadata": {
            "tags": []
          }
        }
      ]
    },
    {
      "cell_type": "code",
      "metadata": {
        "colab": {
          "base_uri": "https://localhost:8080/",
          "height": 355
        },
        "id": "dc6p5OzMBvBJ",
        "outputId": "74a6d9e2-7336-4513-fd39-23f5fb9eae6a"
      },
      "source": [
        "i = np.random.randint(0, 16)\n",
        "plt.imshow(samples[i].squeeze(), plt.cm.binary) \n",
        "plt.show()"
      ],
      "execution_count": null,
      "outputs": [
        {
          "output_type": "display_data",
          "data": {
            "application/pdf": "[encoded data removed]",
            "text/plain": [
              "<Figure size 432x288 with 1 Axes>"
            ],
            "image/svg+xml": "<?xml version=\"1.0\" encoding=\"utf-8\" standalone=\"no\"?>\n<!DOCTYPE svg PUBLIC \"-//W3C//DTD SVG 1.1//EN\"\n  \"http://www.w3.org/Graphics/SVG/1.1/DTD/svg11.dtd\">\n<!-- Created with matplotlib (https://matplotlib.org/) -->\n<svg height=\"250.226575pt\" version=\"1.1\" viewBox=\"0 0 251.655192 250.226575\" width=\"251.655192pt\" xmlns=\"http://www.w3.org/2000/svg\" xmlns:xlink=\"http://www.w3.org/1999/xlink\">\n <defs>\n  <style type=\"text/css\">\n*{stroke-linecap:butt;stroke-linejoin:round;}\n  </style>\n </defs>\n <g id=\"figure_1\">\n  <g id=\"patch_1\">\n   <path d=\"M 0 250.226575 \nL 251.655192 250.226575 \nL 251.655192 0 \nL 0 0 \nz\n\" style=\"fill:none;\"/>\n  </g>\n  <g id=\"axes_1\">\n   <g id=\"patch_2\">\n    <path d=\"M 26.925 226.34845 \nL 244.365 226.34845 \nL 244.365 8.90845 \nL 26.925 8.90845 \nz\n\" style=\"fill:#ffffff;\"/>\n   </g>\n   <g clip-path=\"url(#p22c05094e8)\">\n    <image height=\"218\" id=\"image6f70126558\" transform=\"scale(1 -1)translate(0 -218)\" width=\"218\" x=\"26.925\" xlink:href=\"data:image/png;base64,\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\" y=\"-8.34845\"/>\n   </g>\n   <g id=\"matplotlib.axis_1\">\n    <g id=\"xtick_1\">\n     <g id=\"line2d_1\">\n      <defs>\n       <path d=\"M 0 0 \nL 0 3.5 \n\" id=\"m84067ba706\" style=\"stroke:#000000;stroke-width:0.8;\"/>\n      </defs>\n      <g>\n       <use style=\"stroke:#000000;stroke-width:0.8;\" x=\"29.015769\" xlink:href=\"#m84067ba706\" y=\"226.34845\"/>\n      </g>\n     </g>\n     <g id=\"text_1\">\n      <!-- 0 -->\n      <defs>\n       <path d=\"M 31.78125 66.40625 \nQ 24.171875 66.40625 20.328125 58.90625 \nQ 16.5 51.421875 16.5 36.375 \nQ 16.5 21.390625 20.328125 13.890625 \nQ 24.171875 6.390625 31.78125 6.390625 \nQ 39.453125 6.390625 43.28125 13.890625 \nQ 47.125 21.390625 47.125 36.375 \nQ 47.125 51.421875 43.28125 58.90625 \nQ 39.453125 66.40625 31.78125 66.40625 \nz\nM 31.78125 74.21875 \nQ 44.046875 74.21875 50.515625 64.515625 \nQ 56.984375 54.828125 56.984375 36.375 \nQ 56.984375 17.96875 50.515625 8.265625 \nQ 44.046875 -1.421875 31.78125 -1.421875 \nQ 19.53125 -1.421875 13.0625 8.265625 \nQ 6.59375 17.96875 6.59375 36.375 \nQ 6.59375 54.828125 13.0625 64.515625 \nQ 19.53125 74.21875 31.78125 74.21875 \nz\n\" id=\"DejaVuSans-48\"/>\n      </defs>\n      <g transform=\"translate(25.834519 240.946887)scale(0.1 -0.1)\">\n       <use xlink:href=\"#DejaVuSans-48\"/>\n      </g>\n     </g>\n    </g>\n    <g id=\"xtick_2\">\n     <g id=\"line2d_2\">\n      <g>\n       <use style=\"stroke:#000000;stroke-width:0.8;\" x=\"70.831154\" xlink:href=\"#m84067ba706\" y=\"226.34845\"/>\n      </g>\n     </g>\n     <g id=\"text_2\">\n      <!-- 10 -->\n      <defs>\n       <path d=\"M 12.40625 8.296875 \nL 28.515625 8.296875 \nL 28.515625 63.921875 \nL 10.984375 60.40625 \nL 10.984375 69.390625 \nL 28.421875 72.90625 \nL 38.28125 72.90625 \nL 38.28125 8.296875 \nL 54.390625 8.296875 \nL 54.390625 0 \nL 12.40625 0 \nz\n\" id=\"DejaVuSans-49\"/>\n      </defs>\n      <g transform=\"translate(64.468654 240.946887)scale(0.1 -0.1)\">\n       <use xlink:href=\"#DejaVuSans-49\"/>\n       <use x=\"63.623047\" xlink:href=\"#DejaVuSans-48\"/>\n      </g>\n     </g>\n    </g>\n    <g id=\"xtick_3\">\n     <g id=\"line2d_3\">\n      <g>\n       <use style=\"stroke:#000000;stroke-width:0.8;\" x=\"112.646538\" xlink:href=\"#m84067ba706\" y=\"226.34845\"/>\n      </g>\n     </g>\n     <g id=\"text_3\">\n      <!-- 20 -->\n      <defs>\n       <path d=\"M 19.1875 8.296875 \nL 53.609375 8.296875 \nL 53.609375 0 \nL 7.328125 0 \nL 7.328125 8.296875 \nQ 12.9375 14.109375 22.625 23.890625 \nQ 32.328125 33.6875 34.8125 36.53125 \nQ 39.546875 41.84375 41.421875 45.53125 \nQ 43.3125 49.21875 43.3125 52.78125 \nQ 43.3125 58.59375 39.234375 62.25 \nQ 35.15625 65.921875 28.609375 65.921875 \nQ 23.96875 65.921875 18.8125 64.3125 \nQ 13.671875 62.703125 7.8125 59.421875 \nL 7.8125 69.390625 \nQ 13.765625 71.78125 18.9375 73 \nQ 24.125 74.21875 28.421875 74.21875 \nQ 39.75 74.21875 46.484375 68.546875 \nQ 53.21875 62.890625 53.21875 53.421875 \nQ 53.21875 48.921875 51.53125 44.890625 \nQ 49.859375 40.875 45.40625 35.40625 \nQ 44.1875 33.984375 37.640625 27.21875 \nQ 31.109375 20.453125 19.1875 8.296875 \nz\n\" id=\"DejaVuSans-50\"/>\n      </defs>\n      <g transform=\"translate(106.284038 240.946887)scale(0.1 -0.1)\">\n       <use xlink:href=\"#DejaVuSans-50\"/>\n       <use x=\"63.623047\" xlink:href=\"#DejaVuSans-48\"/>\n      </g>\n     </g>\n    </g>\n    <g id=\"xtick_4\">\n     <g id=\"line2d_4\">\n      <g>\n       <use style=\"stroke:#000000;stroke-width:0.8;\" x=\"154.461923\" xlink:href=\"#m84067ba706\" y=\"226.34845\"/>\n      </g>\n     </g>\n     <g id=\"text_4\">\n      <!-- 30 -->\n      <defs>\n       <path d=\"M 40.578125 39.3125 \nQ 47.65625 37.796875 51.625 33 \nQ 55.609375 28.21875 55.609375 21.1875 \nQ 55.609375 10.40625 48.1875 4.484375 \nQ 40.765625 -1.421875 27.09375 -1.421875 \nQ 22.515625 -1.421875 17.65625 -0.515625 \nQ 12.796875 0.390625 7.625 2.203125 \nL 7.625 11.71875 \nQ 11.71875 9.328125 16.59375 8.109375 \nQ 21.484375 6.890625 26.8125 6.890625 \nQ 36.078125 6.890625 40.9375 10.546875 \nQ 45.796875 14.203125 45.796875 21.1875 \nQ 45.796875 27.640625 41.28125 31.265625 \nQ 36.765625 34.90625 28.71875 34.90625 \nL 20.21875 34.90625 \nL 20.21875 43.015625 \nL 29.109375 43.015625 \nQ 36.375 43.015625 40.234375 45.921875 \nQ 44.09375 48.828125 44.09375 54.296875 \nQ 44.09375 59.90625 40.109375 62.90625 \nQ 36.140625 65.921875 28.71875 65.921875 \nQ 24.65625 65.921875 20.015625 65.03125 \nQ 15.375 64.15625 9.8125 62.3125 \nL 9.8125 71.09375 \nQ 15.4375 72.65625 20.34375 73.4375 \nQ 25.25 74.21875 29.59375 74.21875 \nQ 40.828125 74.21875 47.359375 69.109375 \nQ 53.90625 64.015625 53.90625 55.328125 \nQ 53.90625 49.265625 50.4375 45.09375 \nQ 46.96875 40.921875 40.578125 39.3125 \nz\n\" id=\"DejaVuSans-51\"/>\n      </defs>\n      <g transform=\"translate(148.099423 240.946887)scale(0.1 -0.1)\">\n       <use xlink:href=\"#DejaVuSans-51\"/>\n       <use x=\"63.623047\" xlink:href=\"#DejaVuSans-48\"/>\n      </g>\n     </g>\n    </g>\n    <g id=\"xtick_5\">\n     <g id=\"line2d_5\">\n      <g>\n       <use style=\"stroke:#000000;stroke-width:0.8;\" x=\"196.277308\" xlink:href=\"#m84067ba706\" y=\"226.34845\"/>\n      </g>\n     </g>\n     <g id=\"text_5\">\n      <!-- 40 -->\n      <defs>\n       <path d=\"M 37.796875 64.3125 \nL 12.890625 25.390625 \nL 37.796875 25.390625 \nz\nM 35.203125 72.90625 \nL 47.609375 72.90625 \nL 47.609375 25.390625 \nL 58.015625 25.390625 \nL 58.015625 17.1875 \nL 47.609375 17.1875 \nL 47.609375 0 \nL 37.796875 0 \nL 37.796875 17.1875 \nL 4.890625 17.1875 \nL 4.890625 26.703125 \nz\n\" id=\"DejaVuSans-52\"/>\n      </defs>\n      <g transform=\"translate(189.914808 240.946887)scale(0.1 -0.1)\">\n       <use xlink:href=\"#DejaVuSans-52\"/>\n       <use x=\"63.623047\" xlink:href=\"#DejaVuSans-48\"/>\n      </g>\n     </g>\n    </g>\n    <g id=\"xtick_6\">\n     <g id=\"line2d_6\">\n      <g>\n       <use style=\"stroke:#000000;stroke-width:0.8;\" x=\"238.092692\" xlink:href=\"#m84067ba706\" y=\"226.34845\"/>\n      </g>\n     </g>\n     <g id=\"text_6\">\n      <!-- 50 -->\n      <defs>\n       <path d=\"M 10.796875 72.90625 \nL 49.515625 72.90625 \nL 49.515625 64.59375 \nL 19.828125 64.59375 \nL 19.828125 46.734375 \nQ 21.96875 47.46875 24.109375 47.828125 \nQ 26.265625 48.1875 28.421875 48.1875 \nQ 40.625 48.1875 47.75 41.5 \nQ 54.890625 34.8125 54.890625 23.390625 \nQ 54.890625 11.625 47.5625 5.09375 \nQ 40.234375 -1.421875 26.90625 -1.421875 \nQ 22.3125 -1.421875 17.546875 -0.640625 \nQ 12.796875 0.140625 7.71875 1.703125 \nL 7.71875 11.625 \nQ 12.109375 9.234375 16.796875 8.0625 \nQ 21.484375 6.890625 26.703125 6.890625 \nQ 35.15625 6.890625 40.078125 11.328125 \nQ 45.015625 15.765625 45.015625 23.390625 \nQ 45.015625 31 40.078125 35.4375 \nQ 35.15625 39.890625 26.703125 39.890625 \nQ 22.75 39.890625 18.8125 39.015625 \nQ 14.890625 38.140625 10.796875 36.28125 \nz\n\" id=\"DejaVuSans-53\"/>\n      </defs>\n      <g transform=\"translate(231.730192 240.946887)scale(0.1 -0.1)\">\n       <use xlink:href=\"#DejaVuSans-53\"/>\n       <use x=\"63.623047\" xlink:href=\"#DejaVuSans-48\"/>\n      </g>\n     </g>\n    </g>\n   </g>\n   <g id=\"matplotlib.axis_2\">\n    <g id=\"ytick_1\">\n     <g id=\"line2d_7\">\n      <defs>\n       <path d=\"M 0 0 \nL -3.5 0 \n\" id=\"m4ca664e3fe\" style=\"stroke:#000000;stroke-width:0.8;\"/>\n      </defs>\n      <g>\n       <use style=\"stroke:#000000;stroke-width:0.8;\" x=\"26.925\" xlink:href=\"#m4ca664e3fe\" y=\"10.999219\"/>\n      </g>\n     </g>\n     <g id=\"text_7\">\n      <!-- 0 -->\n      <g transform=\"translate(13.5625 14.798437)scale(0.1 -0.1)\">\n       <use xlink:href=\"#DejaVuSans-48\"/>\n      </g>\n     </g>\n    </g>\n    <g id=\"ytick_2\">\n     <g id=\"line2d_8\">\n      <g>\n       <use style=\"stroke:#000000;stroke-width:0.8;\" x=\"26.925\" xlink:href=\"#m4ca664e3fe\" y=\"52.814603\"/>\n      </g>\n     </g>\n     <g id=\"text_8\">\n      <!-- 10 -->\n      <g transform=\"translate(7.2 56.613822)scale(0.1 -0.1)\">\n       <use xlink:href=\"#DejaVuSans-49\"/>\n       <use x=\"63.623047\" xlink:href=\"#DejaVuSans-48\"/>\n      </g>\n     </g>\n    </g>\n    <g id=\"ytick_3\">\n     <g id=\"line2d_9\">\n      <g>\n       <use style=\"stroke:#000000;stroke-width:0.8;\" x=\"26.925\" xlink:href=\"#m4ca664e3fe\" y=\"94.629988\"/>\n      </g>\n     </g>\n     <g id=\"text_9\">\n      <!-- 20 -->\n      <g transform=\"translate(7.2 98.429207)scale(0.1 -0.1)\">\n       <use xlink:href=\"#DejaVuSans-50\"/>\n       <use x=\"63.623047\" xlink:href=\"#DejaVuSans-48\"/>\n      </g>\n     </g>\n    </g>\n    <g id=\"ytick_4\">\n     <g id=\"line2d_10\">\n      <g>\n       <use style=\"stroke:#000000;stroke-width:0.8;\" x=\"26.925\" xlink:href=\"#m4ca664e3fe\" y=\"136.445373\"/>\n      </g>\n     </g>\n     <g id=\"text_10\">\n      <!-- 30 -->\n      <g transform=\"translate(7.2 140.244591)scale(0.1 -0.1)\">\n       <use xlink:href=\"#DejaVuSans-51\"/>\n       <use x=\"63.623047\" xlink:href=\"#DejaVuSans-48\"/>\n      </g>\n     </g>\n    </g>\n    <g id=\"ytick_5\">\n     <g id=\"line2d_11\">\n      <g>\n       <use style=\"stroke:#000000;stroke-width:0.8;\" x=\"26.925\" xlink:href=\"#m4ca664e3fe\" y=\"178.260757\"/>\n      </g>\n     </g>\n     <g id=\"text_11\">\n      <!-- 40 -->\n      <g transform=\"translate(7.2 182.059976)scale(0.1 -0.1)\">\n       <use xlink:href=\"#DejaVuSans-52\"/>\n       <use x=\"63.623047\" xlink:href=\"#DejaVuSans-48\"/>\n      </g>\n     </g>\n    </g>\n    <g id=\"ytick_6\">\n     <g id=\"line2d_12\">\n      <g>\n       <use style=\"stroke:#000000;stroke-width:0.8;\" x=\"26.925\" xlink:href=\"#m4ca664e3fe\" y=\"220.076142\"/>\n      </g>\n     </g>\n     <g id=\"text_12\">\n      <!-- 50 -->\n      <g transform=\"translate(7.2 223.875361)scale(0.1 -0.1)\">\n       <use xlink:href=\"#DejaVuSans-53\"/>\n       <use x=\"63.623047\" xlink:href=\"#DejaVuSans-48\"/>\n      </g>\n     </g>\n    </g>\n   </g>\n   <g id=\"patch_3\">\n    <path d=\"M 26.925 226.34845 \nL 26.925 8.90845 \n\" style=\"fill:none;stroke:#000000;stroke-linecap:square;stroke-linejoin:miter;stroke-width:0.8;\"/>\n   </g>\n   <g id=\"patch_4\">\n    <path d=\"M 244.365 226.34845 \nL 244.365 8.90845 \n\" style=\"fill:none;stroke:#000000;stroke-linecap:square;stroke-linejoin:miter;stroke-width:0.8;\"/>\n   </g>\n   <g id=\"patch_5\">\n    <path d=\"M 26.925 226.34845 \nL 244.365 226.34845 \n\" style=\"fill:none;stroke:#000000;stroke-linecap:square;stroke-linejoin:miter;stroke-width:0.8;\"/>\n   </g>\n   <g id=\"patch_6\">\n    <path d=\"M 26.925 8.90845 \nL 244.365 8.90845 \n\" style=\"fill:none;stroke:#000000;stroke-linecap:square;stroke-linejoin:miter;stroke-width:0.8;\"/>\n   </g>\n  </g>\n </g>\n <defs>\n  <clipPath id=\"p22c05094e8\">\n   <rect height=\"217.44\" width=\"217.44\" x=\"26.925\" y=\"8.90845\"/>\n  </clipPath>\n </defs>\n</svg>\n"
          },
          "metadata": {
            "tags": [],
            "needs_background": "light"
          }
        }
      ]
    },
    {
      "cell_type": "code",
      "metadata": {
        "id": "cfO1eP4eMYc9"
      },
      "source": [
        ""
      ],
      "execution_count": null,
      "outputs": []
    },
    {
      "cell_type": "code",
      "metadata": {
        "id": "24dlHGGDPn_H"
      },
      "source": [
        ""
      ],
      "execution_count": null,
      "outputs": []
    }
  ]
}