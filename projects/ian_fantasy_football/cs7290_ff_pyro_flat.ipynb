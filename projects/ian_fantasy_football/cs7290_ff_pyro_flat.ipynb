{
  "nbformat": 4,
  "nbformat_minor": 0,
  "metadata": {
    "colab": {
      "name": "cs7290_ff_pyro_flat.ipynb",
      "provenance": [],
      "collapsed_sections": []
    },
    "kernelspec": {
      "name": "python3",
      "display_name": "Python 3"
    },
    "language_info": {
      "name": "python"
    }
  },
  "cells": [
    {
      "cell_type": "markdown",
      "metadata": {
        "id": "4NZHAzQv7y5g"
      },
      "source": [
        "Welcome to the Pyro implementation of my \"flat\" fantasy football model.  The \"flat\" refers to the fact that the model is not hierarchical.  I often refer to this model as the \"pooled\" model because I have not separated my model by teams here, and hence all players are pooled into a single \"flat\" model.  "
      ]
    },
    {
      "cell_type": "markdown",
      "metadata": {
        "id": "el-fUjP14rbv"
      },
      "source": [
        "Here are the dependencies of this project.  The dependencies are the same for both Jupyter Notebooks.  "
      ]
    },
    {
      "cell_type": "code",
      "metadata": {
        "id": "urwLW5i6Uk-g",
        "colab": {
          "base_uri": "https://localhost:8080/"
        },
        "outputId": "61072d40-5e43-49e7-8c35-f9b76e92a388"
      },
      "source": [
        "%pip install pyro-ppl\n",
        "import torch\n",
        "import pyro\n",
        "import pyro.distributions as dist\n",
        "from pyro.infer import MCMC, NUTS\n",
        "import matplotlib.pyplot as plt\n",
        "\n",
        "import numpy as np\n",
        "import pandas"
      ],
      "execution_count": 1,
      "outputs": [
        {
          "output_type": "stream",
          "text": [
            "Requirement already satisfied: pyro-ppl in /usr/local/lib/python3.7/dist-packages (1.7.0)\n",
            "Requirement already satisfied: numpy>=1.7 in /usr/local/lib/python3.7/dist-packages (from pyro-ppl) (1.19.5)\n",
            "Requirement already satisfied: tqdm>=4.36 in /usr/local/lib/python3.7/dist-packages (from pyro-ppl) (4.62.0)\n",
            "Requirement already satisfied: opt-einsum>=2.3.2 in /usr/local/lib/python3.7/dist-packages (from pyro-ppl) (3.3.0)\n",
            "Requirement already satisfied: torch>=1.9.0 in /usr/local/lib/python3.7/dist-packages (from pyro-ppl) (1.9.0+cu102)\n",
            "Requirement already satisfied: pyro-api>=0.1.1 in /usr/local/lib/python3.7/dist-packages (from pyro-ppl) (0.1.2)\n",
            "Requirement already satisfied: typing-extensions in /usr/local/lib/python3.7/dist-packages (from torch>=1.9.0->pyro-ppl) (3.7.4.3)\n"
          ],
          "name": "stdout"
        }
      ]
    },
    {
      "cell_type": "markdown",
      "metadata": {
        "id": "aFGpHVD18O0v"
      },
      "source": [
        "In the next few cells we read the data and preprocess it.  Details on how I created data.csv can be found in the README.  "
      ]
    },
    {
      "cell_type": "markdown",
      "metadata": {
        "id": "BcJ4N9D09Rn6"
      },
      "source": [
        "We pull in the raw data from my github repository.  Each row of the data corresponds to a single player in a given year.  "
      ]
    },
    {
      "cell_type": "code",
      "metadata": {
        "id": "iUT48D0vXEEH",
        "colab": {
          "base_uri": "https://localhost:8080/",
          "height": 618
        },
        "outputId": "ff6cc0ca-44f6-441c-c314-b6f4f598096d"
      },
      "source": [
        "# data\n",
        "data = pandas.read_csv(\"https://raw.githubusercontent.com/iandardik/CS7290_project/master/data.csv\")\n",
        "data = data.dropna()\n",
        "data"
      ],
      "execution_count": 2,
      "outputs": [
        {
          "output_type": "execute_result",
          "data": {
            "text/html": [
              "<div>\n",
              "<style scoped>\n",
              "    .dataframe tbody tr th:only-of-type {\n",
              "        vertical-align: middle;\n",
              "    }\n",
              "\n",
              "    .dataframe tbody tr th {\n",
              "        vertical-align: top;\n",
              "    }\n",
              "\n",
              "    .dataframe thead th {\n",
              "        text-align: right;\n",
              "    }\n",
              "</style>\n",
              "<table border=\"1\" class=\"dataframe\">\n",
              "  <thead>\n",
              "    <tr style=\"text-align: right;\">\n",
              "      <th></th>\n",
              "      <th>Player</th>\n",
              "      <th>ID</th>\n",
              "      <th>Team</th>\n",
              "      <th>Age</th>\n",
              "      <th>Position</th>\n",
              "      <th>Games</th>\n",
              "      <th>Games Started</th>\n",
              "      <th>Attempts</th>\n",
              "      <th>Yards</th>\n",
              "      <th>TD</th>\n",
              "      <th>1D</th>\n",
              "      <th>Lng</th>\n",
              "      <th>Y/A</th>\n",
              "      <th>Y/G</th>\n",
              "      <th>Fumbles</th>\n",
              "      <th>Year</th>\n",
              "      <th>Points</th>\n",
              "      <th>Yards Next Year</th>\n",
              "      <th>TD Next Year</th>\n",
              "      <th>Fumbles Next Year</th>\n",
              "      <th>Y/G Next Year</th>\n",
              "      <th>Games Next Year</th>\n",
              "      <th>Attempts Next Year</th>\n",
              "      <th>Points Next Year</th>\n",
              "    </tr>\n",
              "  </thead>\n",
              "  <tbody>\n",
              "    <tr>\n",
              "      <th>0</th>\n",
              "      <td>Eddie George</td>\n",
              "      <td>GeorEd00</td>\n",
              "      <td>TEN</td>\n",
              "      <td>27</td>\n",
              "      <td>RB</td>\n",
              "      <td>16</td>\n",
              "      <td>16</td>\n",
              "      <td>403</td>\n",
              "      <td>1509</td>\n",
              "      <td>14</td>\n",
              "      <td>78</td>\n",
              "      <td>35</td>\n",
              "      <td>3.7</td>\n",
              "      <td>94.3</td>\n",
              "      <td>5</td>\n",
              "      <td>2000</td>\n",
              "      <td>224.9</td>\n",
              "      <td>939.0</td>\n",
              "      <td>5.0</td>\n",
              "      <td>8.0</td>\n",
              "      <td>58.7</td>\n",
              "      <td>16.0</td>\n",
              "      <td>315.0</td>\n",
              "      <td>107.9</td>\n",
              "    </tr>\n",
              "    <tr>\n",
              "      <th>1</th>\n",
              "      <td>Edgerrin James</td>\n",
              "      <td>JameEd00</td>\n",
              "      <td>IND</td>\n",
              "      <td>22</td>\n",
              "      <td>RB</td>\n",
              "      <td>16</td>\n",
              "      <td>16</td>\n",
              "      <td>387</td>\n",
              "      <td>1709</td>\n",
              "      <td>13</td>\n",
              "      <td>100</td>\n",
              "      <td>30</td>\n",
              "      <td>4.4</td>\n",
              "      <td>106.8</td>\n",
              "      <td>5</td>\n",
              "      <td>2000</td>\n",
              "      <td>238.9</td>\n",
              "      <td>662.0</td>\n",
              "      <td>3.0</td>\n",
              "      <td>3.0</td>\n",
              "      <td>110.3</td>\n",
              "      <td>6.0</td>\n",
              "      <td>151.0</td>\n",
              "      <td>78.2</td>\n",
              "    </tr>\n",
              "    <tr>\n",
              "      <th>2</th>\n",
              "      <td>Jerome Bettis</td>\n",
              "      <td>BettJe00</td>\n",
              "      <td>PIT</td>\n",
              "      <td>28</td>\n",
              "      <td>RB</td>\n",
              "      <td>16</td>\n",
              "      <td>16</td>\n",
              "      <td>355</td>\n",
              "      <td>1341</td>\n",
              "      <td>8</td>\n",
              "      <td>72</td>\n",
              "      <td>30</td>\n",
              "      <td>3.8</td>\n",
              "      <td>83.8</td>\n",
              "      <td>1</td>\n",
              "      <td>2000</td>\n",
              "      <td>180.1</td>\n",
              "      <td>1072.0</td>\n",
              "      <td>4.0</td>\n",
              "      <td>3.0</td>\n",
              "      <td>97.5</td>\n",
              "      <td>11.0</td>\n",
              "      <td>225.0</td>\n",
              "      <td>125.2</td>\n",
              "    </tr>\n",
              "    <tr>\n",
              "      <th>3</th>\n",
              "      <td>James Stewart</td>\n",
              "      <td>StewJa00</td>\n",
              "      <td>DET</td>\n",
              "      <td>29</td>\n",
              "      <td>RB</td>\n",
              "      <td>16</td>\n",
              "      <td>16</td>\n",
              "      <td>339</td>\n",
              "      <td>1184</td>\n",
              "      <td>10</td>\n",
              "      <td>66</td>\n",
              "      <td>34</td>\n",
              "      <td>3.5</td>\n",
              "      <td>74.0</td>\n",
              "      <td>4</td>\n",
              "      <td>2000</td>\n",
              "      <td>170.4</td>\n",
              "      <td>685.0</td>\n",
              "      <td>1.0</td>\n",
              "      <td>0.0</td>\n",
              "      <td>62.3</td>\n",
              "      <td>11.0</td>\n",
              "      <td>143.0</td>\n",
              "      <td>74.5</td>\n",
              "    </tr>\n",
              "    <tr>\n",
              "      <th>4</th>\n",
              "      <td>Stephen Davis</td>\n",
              "      <td>DaviSt00</td>\n",
              "      <td>WAS</td>\n",
              "      <td>26</td>\n",
              "      <td>RB</td>\n",
              "      <td>15</td>\n",
              "      <td>15</td>\n",
              "      <td>332</td>\n",
              "      <td>1318</td>\n",
              "      <td>11</td>\n",
              "      <td>72</td>\n",
              "      <td>50</td>\n",
              "      <td>4.0</td>\n",
              "      <td>87.9</td>\n",
              "      <td>4</td>\n",
              "      <td>2000</td>\n",
              "      <td>189.8</td>\n",
              "      <td>1432.0</td>\n",
              "      <td>5.0</td>\n",
              "      <td>6.0</td>\n",
              "      <td>89.5</td>\n",
              "      <td>16.0</td>\n",
              "      <td>356.0</td>\n",
              "      <td>161.2</td>\n",
              "    </tr>\n",
              "    <tr>\n",
              "      <th>...</th>\n",
              "      <td>...</td>\n",
              "      <td>...</td>\n",
              "      <td>...</td>\n",
              "      <td>...</td>\n",
              "      <td>...</td>\n",
              "      <td>...</td>\n",
              "      <td>...</td>\n",
              "      <td>...</td>\n",
              "      <td>...</td>\n",
              "      <td>...</td>\n",
              "      <td>...</td>\n",
              "      <td>...</td>\n",
              "      <td>...</td>\n",
              "      <td>...</td>\n",
              "      <td>...</td>\n",
              "      <td>...</td>\n",
              "      <td>...</td>\n",
              "      <td>...</td>\n",
              "      <td>...</td>\n",
              "      <td>...</td>\n",
              "      <td>...</td>\n",
              "      <td>...</td>\n",
              "      <td>...</td>\n",
              "      <td>...</td>\n",
              "    </tr>\n",
              "    <tr>\n",
              "      <th>6356</th>\n",
              "      <td>Jarvis Landry</td>\n",
              "      <td>LandJa00</td>\n",
              "      <td>CLE</td>\n",
              "      <td>27</td>\n",
              "      <td>WR</td>\n",
              "      <td>16</td>\n",
              "      <td>16</td>\n",
              "      <td>1</td>\n",
              "      <td>10</td>\n",
              "      <td>0</td>\n",
              "      <td>1</td>\n",
              "      <td>10</td>\n",
              "      <td>10.0</td>\n",
              "      <td>0.6</td>\n",
              "      <td>0</td>\n",
              "      <td>2019</td>\n",
              "      <td>1.0</td>\n",
              "      <td>10.0</td>\n",
              "      <td>1.0</td>\n",
              "      <td>2.0</td>\n",
              "      <td>0.7</td>\n",
              "      <td>15.0</td>\n",
              "      <td>4.0</td>\n",
              "      <td>3.0</td>\n",
              "    </tr>\n",
              "    <tr>\n",
              "      <th>6361</th>\n",
              "      <td>Anthony Miller</td>\n",
              "      <td>MillAn02</td>\n",
              "      <td>CHI</td>\n",
              "      <td>25</td>\n",
              "      <td>WR</td>\n",
              "      <td>16</td>\n",
              "      <td>7</td>\n",
              "      <td>1</td>\n",
              "      <td>-1</td>\n",
              "      <td>0</td>\n",
              "      <td>0</td>\n",
              "      <td>-1</td>\n",
              "      <td>-1.0</td>\n",
              "      <td>-0.1</td>\n",
              "      <td>1</td>\n",
              "      <td>2019</td>\n",
              "      <td>-2.1</td>\n",
              "      <td>12.0</td>\n",
              "      <td>0.0</td>\n",
              "      <td>2.0</td>\n",
              "      <td>0.8</td>\n",
              "      <td>16.0</td>\n",
              "      <td>2.0</td>\n",
              "      <td>-2.8</td>\n",
              "    </tr>\n",
              "    <tr>\n",
              "      <th>6368</th>\n",
              "      <td>Allen Robinson</td>\n",
              "      <td>RobiAl02</td>\n",
              "      <td>CHI</td>\n",
              "      <td>26</td>\n",
              "      <td>WR</td>\n",
              "      <td>16</td>\n",
              "      <td>15</td>\n",
              "      <td>1</td>\n",
              "      <td>2</td>\n",
              "      <td>0</td>\n",
              "      <td>0</td>\n",
              "      <td>2</td>\n",
              "      <td>2.0</td>\n",
              "      <td>0.1</td>\n",
              "      <td>0</td>\n",
              "      <td>2019</td>\n",
              "      <td>0.2</td>\n",
              "      <td>-1.0</td>\n",
              "      <td>0.0</td>\n",
              "      <td>0.0</td>\n",
              "      <td>-0.1</td>\n",
              "      <td>16.0</td>\n",
              "      <td>1.0</td>\n",
              "      <td>-0.1</td>\n",
              "    </tr>\n",
              "    <tr>\n",
              "      <th>6374</th>\n",
              "      <td>Michael Thomas</td>\n",
              "      <td>ThomMi05</td>\n",
              "      <td>NOR</td>\n",
              "      <td>26</td>\n",
              "      <td>WR</td>\n",
              "      <td>16</td>\n",
              "      <td>15</td>\n",
              "      <td>1</td>\n",
              "      <td>-9</td>\n",
              "      <td>0</td>\n",
              "      <td>0</td>\n",
              "      <td>-9</td>\n",
              "      <td>-9.0</td>\n",
              "      <td>-0.6</td>\n",
              "      <td>1</td>\n",
              "      <td>2019</td>\n",
              "      <td>-2.9</td>\n",
              "      <td>1.0</td>\n",
              "      <td>0.0</td>\n",
              "      <td>0.0</td>\n",
              "      <td>0.1</td>\n",
              "      <td>7.0</td>\n",
              "      <td>1.0</td>\n",
              "      <td>0.1</td>\n",
              "    </tr>\n",
              "    <tr>\n",
              "      <th>6378</th>\n",
              "      <td>Mike Williams</td>\n",
              "      <td>WillMi07</td>\n",
              "      <td>LAC</td>\n",
              "      <td>25</td>\n",
              "      <td>WR</td>\n",
              "      <td>15</td>\n",
              "      <td>15</td>\n",
              "      <td>1</td>\n",
              "      <td>2</td>\n",
              "      <td>0</td>\n",
              "      <td>0</td>\n",
              "      <td>2</td>\n",
              "      <td>2.0</td>\n",
              "      <td>0.1</td>\n",
              "      <td>0</td>\n",
              "      <td>2019</td>\n",
              "      <td>0.2</td>\n",
              "      <td>1.0</td>\n",
              "      <td>0.0</td>\n",
              "      <td>0.0</td>\n",
              "      <td>0.1</td>\n",
              "      <td>15.0</td>\n",
              "      <td>1.0</td>\n",
              "      <td>0.1</td>\n",
              "    </tr>\n",
              "  </tbody>\n",
              "</table>\n",
              "<p>2300 rows × 24 columns</p>\n",
              "</div>"
            ],
            "text/plain": [
              "              Player        ID  ... Attempts Next Year  Points Next Year\n",
              "0       Eddie George  GeorEd00  ...              315.0             107.9\n",
              "1     Edgerrin James  JameEd00  ...              151.0              78.2\n",
              "2      Jerome Bettis  BettJe00  ...              225.0             125.2\n",
              "3      James Stewart  StewJa00  ...              143.0              74.5\n",
              "4      Stephen Davis  DaviSt00  ...              356.0             161.2\n",
              "...              ...       ...  ...                ...               ...\n",
              "6356   Jarvis Landry  LandJa00  ...                4.0               3.0\n",
              "6361  Anthony Miller  MillAn02  ...                2.0              -2.8\n",
              "6368  Allen Robinson  RobiAl02  ...                1.0              -0.1\n",
              "6374  Michael Thomas  ThomMi05  ...                1.0               0.1\n",
              "6378   Mike Williams  WillMi07  ...                1.0               0.1\n",
              "\n",
              "[2300 rows x 24 columns]"
            ]
          },
          "metadata": {},
          "execution_count": 2
        }
      ]
    },
    {
      "cell_type": "markdown",
      "metadata": {
        "id": "3kgRPGdu-kG2"
      },
      "source": [
        "Gather a list of all the teams in our data set"
      ]
    },
    {
      "cell_type": "code",
      "metadata": {
        "id": "dSw1vvxRTIVk",
        "colab": {
          "base_uri": "https://localhost:8080/"
        },
        "outputId": "237ca5ad-567d-4f7e-f608-ed64a7112353"
      },
      "source": [
        "\n",
        "all_teams = np.unique(data[\"Team\"].to_numpy())\n",
        "num_teams = len(all_teams)\n",
        "all_teams"
      ],
      "execution_count": 3,
      "outputs": [
        {
          "output_type": "execute_result",
          "data": {
            "text/plain": [
              "array(['ARI', 'ATL', 'BAL', 'BUF', 'CAR', 'CHI', 'CIN', 'CLE', 'DAL',\n",
              "       'DEN', 'DET', 'GNB', 'HOU', 'IND', 'JAX', 'KAN', 'LAC', 'LAR',\n",
              "       'MIA', 'MIN', 'NOR', 'NWE', 'NYG', 'NYJ', 'OAK', 'PHI', 'PIT',\n",
              "       'SDG', 'SEA', 'SFO', 'STL', 'TAM', 'TEN', 'WAS'], dtype=object)"
            ]
          },
          "metadata": {},
          "execution_count": 3
        }
      ]
    },
    {
      "cell_type": "markdown",
      "metadata": {
        "id": "ORTTWV8z-pfR"
      },
      "source": [
        "Create a map of team name to index (index into the ```all_teams``` array).  This map is strictly for convenience.  \n"
      ]
    },
    {
      "cell_type": "code",
      "metadata": {
        "id": "NYnX9SreE8jp"
      },
      "source": [
        "team_to_idx = {}\n",
        "for i,team in enumerate(all_teams):\n",
        "    team_to_idx[team] = i\n",
        "data[\"Team Index\"] = [team_to_idx[tm] for tm in data[\"Team\"]]"
      ],
      "execution_count": 4,
      "outputs": []
    },
    {
      "cell_type": "markdown",
      "metadata": {
        "id": "RnqoaqMY_IyA"
      },
      "source": [
        "In the following cell, we calculate the percent of attempts that each player had on his team on a given year.  We add this to the data set as a column named \"Percent Attempts Of Team\".  We also filter out any players who did not share *any* attempts with other players; this indicates flawed data (no NFL team gives *all* of its attempts to a single player) so we are not interested in modeling these players.  "
      ]
    },
    {
      "cell_type": "code",
      "metadata": {
        "id": "Rt3tbggZ06pW"
      },
      "source": [
        "att_key = \"Attempts\"\n",
        "paot_key = \"Percent Attempts Of Team\"\n",
        "percent_attempts_per_player = {}\n",
        "\n",
        "for year in range(2000, 2020):\n",
        "    percent_attempts_per_player[year] = {}\n",
        "    year_data = data[data[\"Year\"]==year]\n",
        "    for team in all_teams:\n",
        "        members = year_data[year_data[\"Team\"]==team]\n",
        "        ids = members[\"ID\"].to_numpy()\n",
        "        attempts = members[att_key].to_numpy()\n",
        "        if len(attempts) > 0:\n",
        "            total = sum(attempts)\n",
        "            attempt_perc = np.array([a/total for a in attempts])\n",
        "            for id, perc in zip(ids,attempt_perc):\n",
        "                percent_attempts_per_player[year][id] = perc\n",
        "\n",
        "papp_list = []\n",
        "for i,row in data.iterrows():\n",
        "    year = row[\"Year\"]\n",
        "    id = row[\"ID\"]\n",
        "    perc = percent_attempts_per_player[year][id]\n",
        "    papp_list.append(perc)\n",
        "\n",
        "data[paot_key] = papp_list\n",
        "data = data[data[paot_key] < 1.0]\n",
        "\n",
        "# sanity checks for percent attempts of team\n",
        "for a in data[paot_key].to_numpy():\n",
        "    assert(a > 0 and a < 1)\n",
        "\n",
        "for year in range(2000, 2020):\n",
        "    year_data = data[data[\"Year\"]==year]\n",
        "    for team in all_teams:\n",
        "        atts = year_data[year_data[\"Team\"]==team][paot_key]\n",
        "        if len(atts) > 0:\n",
        "            total = sum(atts)\n",
        "            if not np.isclose(total, 1.0):\n",
        "                print(\"total: {}\".format(total))\n",
        "                print(\"team: {}, year: {}\".format(team, year))\n",
        "            assert(np.isclose(total, 1.0))\n"
      ],
      "execution_count": 5,
      "outputs": []
    },
    {
      "cell_type": "markdown",
      "metadata": {
        "id": "G-Hk8TDcAHNS"
      },
      "source": [
        "The following cell is identical to the previous except that we create a column for percent attempts next year: \"Percent Attempts Of Team Next Year\".  We perform the same filtering.  "
      ]
    },
    {
      "cell_type": "code",
      "metadata": {
        "id": "yo_A21DkJagy",
        "colab": {
          "base_uri": "https://localhost:8080/"
        },
        "outputId": "0e864784-09d0-4b24-cfd3-3a6818b6c416"
      },
      "source": [
        "\n",
        "att_key = \"Attempts Next Year\"\n",
        "paot_key = \"Percent Attempts Of Team Next Year\"\n",
        "percent_attempts_per_player = {}\n",
        "\n",
        "for year in range(2000, 2020):\n",
        "    percent_attempts_per_player[year] = {}\n",
        "    year_data = data[data[\"Year\"]==year]\n",
        "    for team in all_teams:\n",
        "        members = year_data[year_data[\"Team\"]==team]\n",
        "        ids = members[\"ID\"].to_numpy()\n",
        "        attempts = members[att_key].to_numpy()\n",
        "        if len(attempts) > 0:\n",
        "            total = sum(attempts)\n",
        "            attempt_perc = np.array([a/total for a in attempts])\n",
        "            for id, perc in zip(ids,attempt_perc):\n",
        "                percent_attempts_per_player[year][id] = perc\n",
        "\n",
        "papp_list = []\n",
        "for i,row in data.iterrows():\n",
        "    year = row[\"Year\"]\n",
        "    id = row[\"ID\"]\n",
        "    perc = percent_attempts_per_player[year][id]\n",
        "    papp_list.append(perc)\n",
        "\n",
        "data[paot_key] = papp_list\n",
        "data = data[data[paot_key] < 1.0]\n",
        "\n",
        "# sanity checks for percent attempts of team\n",
        "for a in data[paot_key].to_numpy():\n",
        "    assert(a > 0 and a < 1)\n",
        "\n",
        "for year in range(2000, 2020):\n",
        "    year_data = data[data[\"Year\"]==year]\n",
        "    for team in all_teams:\n",
        "        atts = year_data[year_data[\"Team\"]==team][paot_key]\n",
        "        if len(atts) > 0:\n",
        "            total = sum(atts)\n",
        "            if not np.isclose(total, 1.0):\n",
        "                print(\"total: {}\".format(total))\n",
        "                print(\"team: {}, year: {}\".format(team, year))\n",
        "            assert(np.isclose(total, 1.0))\n"
      ],
      "execution_count": 6,
      "outputs": [
        {
          "output_type": "stream",
          "text": [
            "/usr/local/lib/python3.7/dist-packages/ipykernel_launcher.py:26: SettingWithCopyWarning: \n",
            "A value is trying to be set on a copy of a slice from a DataFrame.\n",
            "Try using .loc[row_indexer,col_indexer] = value instead\n",
            "\n",
            "See the caveats in the documentation: https://pandas.pydata.org/pandas-docs/stable/user_guide/indexing.html#returning-a-view-versus-a-copy\n"
          ],
          "name": "stderr"
        }
      ]
    },
    {
      "cell_type": "markdown",
      "metadata": {
        "id": "vPyswkalAibY"
      },
      "source": [
        "```target_year``` is the year we want to predict for.  As such, we train on all data that is earlier than the year prior to the target, leaving the prior year as the hold out set for predicting the target year.  "
      ]
    },
    {
      "cell_type": "code",
      "metadata": {
        "id": "gede92IkZq6u"
      },
      "source": [
        "target_year = 2020\n",
        "holdout = data[data[\"Year\"]==target_year-1]\n",
        "data = data[data[\"Year\"] < target_year-1]"
      ],
      "execution_count": 7,
      "outputs": []
    },
    {
      "cell_type": "markdown",
      "metadata": {
        "id": "y1Z8UAZ-BQjf"
      },
      "source": [
        "Next, we gather several observations that we can use for training the model.  These observations will allow us to infer a distribution of values for the latent variables in our model.  \n",
        "\n",
        "One important thing to note is that when we cap our data to ```num_obs``` observations.  This practice is not ideal, and at the very least I ought to be removing random points.  Truncating from one end of the array can bias our data, but I have done it here for convenience to leave more time for me to focus on my model.  "
      ]
    },
    {
      "cell_type": "code",
      "metadata": {
        "id": "R0fajuqjPGB5"
      },
      "source": [
        "num_obs = 595"
      ],
      "execution_count": 8,
      "outputs": []
    },
    {
      "cell_type": "markdown",
      "metadata": {
        "id": "ecu3Z5UuLyQR"
      },
      "source": [
        "For each player in a given year, the percent of the attempts the player has on his team."
      ]
    },
    {
      "cell_type": "code",
      "metadata": {
        "colab": {
          "base_uri": "https://localhost:8080/"
        },
        "id": "pu1893HoxA4W",
        "outputId": "190fa17d-caed-4641-8485-9d5c31066194"
      },
      "source": [
        "observed_percent_attempts = data[\"Percent Attempts Of Team\"].to_numpy()\n",
        "observed_percent_attempts = observed_percent_attempts[:num_obs]\n",
        "len(observed_percent_attempts)"
      ],
      "execution_count": 9,
      "outputs": [
        {
          "output_type": "execute_result",
          "data": {
            "text/plain": [
              "595"
            ]
          },
          "metadata": {},
          "execution_count": 9
        }
      ]
    },
    {
      "cell_type": "markdown",
      "metadata": {
        "id": "_Rfiqox6MEBw"
      },
      "source": [
        "For each player in a given year, the percent of the attempts the player has on his team *next year*."
      ]
    },
    {
      "cell_type": "code",
      "metadata": {
        "colab": {
          "base_uri": "https://localhost:8080/"
        },
        "id": "MPsTKm3TJykW",
        "outputId": "750ec8b7-b342-46ca-b9f4-1cf3b1b6498a"
      },
      "source": [
        "observed_percent_attempts_NY = data[\"Percent Attempts Of Team Next Year\"].to_numpy()\n",
        "observed_percent_attempts_NY = observed_percent_attempts_NY[:num_obs]\n",
        "len(observed_percent_attempts_NY)"
      ],
      "execution_count": 10,
      "outputs": [
        {
          "output_type": "execute_result",
          "data": {
            "text/plain": [
              "595"
            ]
          },
          "metadata": {},
          "execution_count": 10
        }
      ]
    },
    {
      "cell_type": "markdown",
      "metadata": {
        "id": "yX0KIeYWMK-1"
      },
      "source": [
        "The number of attempts each team has."
      ]
    },
    {
      "cell_type": "code",
      "metadata": {
        "id": "Sjb-X1KAt_Tv",
        "colab": {
          "base_uri": "https://localhost:8080/"
        },
        "outputId": "4f316a86-7f50-4845-d88a-e22cd6d9a78b"
      },
      "source": [
        "observed_attempts = []\n",
        "\n",
        "for year in range(2000, 2020):\n",
        "    year_data = data[data[\"Year\"]==year]\n",
        "    for team in all_teams:\n",
        "        attempts = year_data[year_data[\"Team\"]==team][\"Attempts\"].to_numpy()\n",
        "        if len(attempts) > 0:\n",
        "            total = np.sum(attempts)\n",
        "            observed_attempts.append(total)\n",
        "\n",
        "observed_attempts = np.array(observed_attempts)\n",
        "len(observed_attempts)"
      ],
      "execution_count": 11,
      "outputs": [
        {
          "output_type": "execute_result",
          "data": {
            "text/plain": [
              "595"
            ]
          },
          "metadata": {},
          "execution_count": 11
        }
      ]
    },
    {
      "cell_type": "markdown",
      "metadata": {
        "id": "FlqCaY6wNEPX"
      },
      "source": [
        "The number of attempts each team has *next year*."
      ]
    },
    {
      "cell_type": "code",
      "metadata": {
        "colab": {
          "base_uri": "https://localhost:8080/"
        },
        "id": "qdGd32Cx_iV2",
        "outputId": "66d662f9-8470-4cb5-9ff4-fc8b7d7f6bd9"
      },
      "source": [
        "observed_attempts_NY = []\n",
        "\n",
        "for year in range(2000, 2020):\n",
        "    year_data = data[data[\"Year\"]==year]\n",
        "    for team in all_teams:\n",
        "        attempts = year_data[year_data[\"Team\"]==team][\"Attempts Next Year\"].to_numpy()\n",
        "        if len(attempts) > 0:\n",
        "            total = np.sum(attempts)\n",
        "            observed_attempts_NY.append(total)\n",
        "\n",
        "observed_attempts_NY = np.array(observed_attempts_NY)\n",
        "len(observed_attempts_NY)"
      ],
      "execution_count": 12,
      "outputs": [
        {
          "output_type": "execute_result",
          "data": {
            "text/plain": [
              "595"
            ]
          },
          "metadata": {},
          "execution_count": 12
        }
      ]
    },
    {
      "cell_type": "markdown",
      "metadata": {
        "id": "0FHOd6WkNK6t"
      },
      "source": [
        "For a given player on a given year, the number of points he will score *next year*.  "
      ]
    },
    {
      "cell_type": "code",
      "metadata": {
        "colab": {
          "base_uri": "https://localhost:8080/"
        },
        "id": "LN90DDqh8xDe",
        "outputId": "f994a112-d09c-43fb-8bd6-8c993c489ff2"
      },
      "source": [
        "observed_points_NY = data[\"Points Next Year\"].to_numpy()\n",
        "observed_points_NY = observed_points_NY[:num_obs]\n",
        "len(observed_points_NY)"
      ],
      "execution_count": 13,
      "outputs": [
        {
          "output_type": "execute_result",
          "data": {
            "text/plain": [
              "595"
            ]
          },
          "metadata": {},
          "execution_count": 13
        }
      ]
    },
    {
      "cell_type": "markdown",
      "metadata": {
        "id": "gePnU-00NVYG"
      },
      "source": [
        "This model has pooled all players to share a single alpha, beta, and mu hyperparameters.  The model is the same as the one I implemented in PyMC3 for the final presentation, except that I have used a LogNormal for hyperparameters that should be nonnegative.  This seems to have helped convergence.  "
      ]
    },
    {
      "cell_type": "code",
      "metadata": {
        "id": "N9Dr7vKSUCNs"
      },
      "source": [
        "points_per_attempt = 0.8\n",
        "\n",
        "def points_per_player():\n",
        "    alpha = pyro.sample(\"alpha\", dist.LogNormal(loc=np.log(5), scale=0.1))\n",
        "    beta = pyro.sample(\"beta\", dist.LogNormal(loc=np.log(20), scale=0.03))\n",
        "    percent_attempts = pyro.sample(\"percent_attempts\", dist.Beta(alpha, beta))\n",
        "    percent_attempts_NY = pyro.sample(\"percent_attempts_NY\", dist.Beta(percent_attempts, 1-percent_attempts))\n",
        "\n",
        "    mu = pyro.sample(\"mu\", dist.Normal(350, 3))\n",
        "    sigma = pyro.sample(\"sigma\", dist.LogNormal(loc=np.log(80), scale=0.04))\n",
        "    team_attempts = pyro.sample(\"team_attempts\", dist.Normal(mu, sigma))\n",
        "    team_attempts_NY = pyro.sample(\"team_attempts_NY\", dist.Normal(team_attempts, 2))\n",
        "    \n",
        "    attempts_NY = pyro.sample(\"attempts_NY\", dist.Normal(loc=(percent_attempts_NY * team_attempts_NY), scale=2))\n",
        "    mu_points_NY = attempts_NY * points_per_attempt\n",
        "    return pyro.sample(\"points_NY\", dist.Normal(loc=mu_points_NY, scale=2))\n",
        "\n"
      ],
      "execution_count": 14,
      "outputs": []
    },
    {
      "cell_type": "markdown",
      "metadata": {
        "id": "MY7CoB4oZt8R"
      },
      "source": [
        "The prior distribution seems to concentrate to closely to the -5 to 25 point range, when in fact it ought to be wider and spread out closer to 300 attempts.  I have noticed that when the prior spreads out as far as we expect then the posterior distribution is far too wide.  This is likely an issue with my paramaterization, however I will continue with this model since it has yielded the best results.  Furthermore, the prior is fairly reasonable.  We expect most player to score between -5 to 25 points a year; far fewer score in the 25 to 300 range.  "
      ]
    },
    {
      "cell_type": "code",
      "metadata": {
        "colab": {
          "base_uri": "https://localhost:8080/",
          "height": 517
        },
        "id": "3YW1DokFPo6v",
        "outputId": "67cdb23e-552c-4a3b-aa5d-6bfa80e40ba4"
      },
      "source": [
        "# prior distribution check\n",
        "nuts_kernel = NUTS(points_per_player)\n",
        "mcmc = MCMC(nuts_kernel, warmup_steps=100, num_samples=200)\n",
        "mcmc.run()\n",
        "mcmc.summary()\n",
        "pts_ny = mcmc.get_samples()[\"points_NY\"].numpy()\n",
        "plt.hist(pts_ny, density=True, histtype=\"step\", color=\"blue\")\n",
        "plt.hist(observed_points_NY, density=True, histtype=\"step\", color=\"red\")\n",
        "plt.show()"
      ],
      "execution_count": 15,
      "outputs": [
        {
          "output_type": "stream",
          "text": [
            "Sample: 100%|██████████| 300/300 [05:46,  1.15s/it, step size=3.99e-02, acc. prob=0.937]\n"
          ],
          "name": "stderr"
        },
        {
          "output_type": "stream",
          "text": [
            "\n",
            "                           mean       std    median      5.0%     95.0%     n_eff     r_hat\n",
            "                alpha      5.04      0.46      5.03      4.24      5.73    260.88      1.00\n",
            "          attempts_NY     10.22     20.73      2.21     -4.54     30.82     13.90      0.99\n",
            "                 beta     19.99      0.61     19.94     19.13     21.05    191.31      1.00\n",
            "                   mu    349.71      2.82    349.70    345.70    354.13    193.81      1.00\n",
            "     percent_attempts      0.19      0.06      0.18      0.08      0.29    230.01      1.00\n",
            "  percent_attempts_NY      0.03      0.05      0.00      0.00      0.11     16.35      1.00\n",
            "            points_NY      7.99     16.93      1.58     -5.37     25.99     13.89      1.00\n",
            "                sigma     80.19      3.18     80.08     74.52     84.38    455.42      1.00\n",
            "        team_attempts    347.56     98.10    360.91    261.42    470.35      4.56      1.20\n",
            "     team_attempts_NY    347.32     98.03    360.61    254.44    461.25      4.57      1.20\n",
            "\n",
            "Number of divergences: 0\n"
          ],
          "name": "stdout"
        },
        {
          "output_type": "display_data",
          "data": {
            "image/png": "[encoded data removed]",
            "text/plain": [
              "<Figure size 432x288 with 1 Axes>"
            ]
          },
          "metadata": {
            "needs_background": "light"
          }
        }
      ]
    },
    {
      "cell_type": "markdown",
      "metadata": {
        "id": "wbyAiq9s7d3j"
      },
      "source": [
        "Next, we sample from the posterior model."
      ]
    },
    {
      "cell_type": "code",
      "metadata": {
        "id": "GZEwOtxQtxVH",
        "colab": {
          "base_uri": "https://localhost:8080/"
        },
        "outputId": "bd1b331b-c4a3-4026-ba99-2c7dbeebba79"
      },
      "source": [
        "observed_data = {\n",
        "    \"percent_attempts\": torch.tensor(observed_percent_attempts),\n",
        "    \"percent_attempts_NY\": torch.tensor(observed_percent_attempts_NY),\n",
        "    \"team_attempts\": torch.tensor(observed_attempts),\n",
        "    \"team_attempts_NY\": torch.tensor(observed_attempts_NY),\n",
        "    \"points_NY\": torch.tensor(observed_points_NY)\n",
        "}\n",
        "\n",
        "posterior_model = pyro.condition(points_per_player, data=observed_data)\n",
        "\n",
        "nuts_kernel = NUTS(posterior_model)\n",
        "mcmc = MCMC(nuts_kernel, warmup_steps=100, num_samples=400)\n",
        "mcmc.run()\n",
        "mcmc.summary()\n",
        "samples = mcmc.get_samples()\n"
      ],
      "execution_count": 16,
      "outputs": [
        {
          "output_type": "stream",
          "text": [
            "Sample: 100%|██████████| 500/500 [14:38,  1.76s/it, step size=2.53e-02, acc. prob=0.724]\n"
          ],
          "name": "stderr"
        },
        {
          "output_type": "stream",
          "text": [
            "\n",
            "                      mean       std    median      5.0%     95.0%     n_eff     r_hat\n",
            "           alpha      1.22      0.04      1.22      1.15      1.28    392.27      1.00\n",
            "  attempts_NY[0]    189.81      1.46    189.74    187.87    192.52    302.91      1.00\n",
            "  attempts_NY[1]     99.24      1.76     99.19     96.53    101.87    389.33      1.00\n",
            "  attempts_NY[2]     85.73      1.60     85.77     83.02     88.44    371.74      1.00\n",
            "  attempts_NY[3]    120.93      1.44    121.02    118.54    123.43    405.29      1.00\n",
            "  attempts_NY[4]    107.29      1.43    107.32    105.08    109.77    435.70      1.00\n",
            "  attempts_NY[5]    177.67      1.45    177.72    175.42    179.82    621.77      1.00\n",
            "  attempts_NY[6]    295.91      1.56    295.87    293.24    298.23    460.62      1.00\n",
            "  attempts_NY[7]    111.09      1.40    111.05    108.88    113.26    340.32      1.00\n",
            "  attempts_NY[8]    167.13      1.57    167.23    164.55    169.62    390.03      1.01\n",
            "  attempts_NY[9]    195.21      1.61    195.07    192.77    197.96    313.52      1.00\n",
            " attempts_NY[10]     58.81      1.40     58.76     56.52     61.06    337.52      1.00\n",
            " attempts_NY[11]    244.16      1.52    244.08    241.62    246.36    350.28      1.00\n",
            " attempts_NY[12]     61.70      1.33     61.72     59.55     63.78    384.97      1.00\n",
            " attempts_NY[13]     43.43      1.59     43.43     40.79     45.82    470.52      1.00\n",
            " attempts_NY[14]    131.10      1.53    131.15    128.41    133.27    358.46      1.00\n",
            " attempts_NY[15]    204.26      1.62    204.23    201.99    207.31    375.92      1.00\n",
            " attempts_NY[16]    144.63      1.56    144.58    141.85    146.84    378.82      1.00\n",
            " attempts_NY[17]    146.12      1.64    146.08    143.31    148.72    271.57      1.00\n",
            " attempts_NY[18]    114.95      1.62    114.96    112.03    117.18    432.03      1.00\n",
            " attempts_NY[19]    161.25      1.51    161.30    159.03    164.05    381.26      1.00\n",
            " attempts_NY[20]    161.80      1.54    161.78    159.06    164.02    379.72      1.00\n",
            " attempts_NY[21]     85.97      1.45     85.93     83.20     87.91    401.41      1.00\n",
            " attempts_NY[22]    184.93      1.72    184.92    182.20    187.46    359.45      1.00\n",
            " attempts_NY[23]    206.22      1.72    206.12    203.57    209.06    422.02      1.00\n",
            " attempts_NY[24]      8.94      1.65      8.89      6.36     11.63    421.12      1.00\n",
            " attempts_NY[25]     40.73      1.47     40.70     38.27     43.13    443.20      1.01\n",
            " attempts_NY[26]     98.78      1.53     98.72     96.59    101.37    340.97      1.00\n",
            " attempts_NY[27]    184.48      1.57    184.50    182.14    187.17    377.21      1.00\n",
            " attempts_NY[28]    161.00      1.49    160.99    158.53    163.29    378.62      1.00\n",
            " attempts_NY[29]     96.44      1.69     96.47     93.76     99.07    389.67      1.00\n",
            " attempts_NY[30]    189.08      1.51    189.11    187.01    191.84    322.46      1.00\n",
            " attempts_NY[31]     18.27      1.62     18.23     15.56     20.83    360.22      1.00\n",
            " attempts_NY[32]     37.57      1.54     37.56     34.70     39.81    272.90      1.00\n",
            " attempts_NY[33]      8.62      1.60      8.64      6.19     11.38    448.75      1.00\n",
            " attempts_NY[34]     90.49      1.60     90.60     87.56     92.80    350.30      1.00\n",
            " attempts_NY[35]     48.21      1.65     48.24     45.35     50.43    602.69      1.00\n",
            " attempts_NY[36]     94.10      1.49     94.14     91.71     96.55    280.64      1.00\n",
            " attempts_NY[37]     32.22      1.53     32.19     29.57     34.45    370.14      1.00\n",
            " attempts_NY[38]      0.82      1.48      0.76     -1.72      3.17    454.09      1.00\n",
            " attempts_NY[39]     71.27      1.52     71.34     68.65     73.72    360.46      1.00\n",
            " attempts_NY[40]     44.67      1.41     44.74     42.44     46.95    274.22      1.00\n",
            " attempts_NY[41]      0.44      1.43      0.39     -1.86      2.72   1347.48      1.00\n",
            " attempts_NY[42]     57.74      1.50     57.74     55.04     59.99    441.81      1.00\n",
            " attempts_NY[43]     19.96      1.70     19.93     17.11     22.92    265.82      1.00\n",
            " attempts_NY[44]     55.00      1.59     54.92     52.74     57.65    343.34      1.02\n",
            " attempts_NY[45]     45.42      1.43     45.33     43.12     47.59    399.02      1.00\n",
            " attempts_NY[46]      8.06      1.58      8.07      5.53     10.59    417.69      1.00\n",
            " attempts_NY[47]      9.85      1.50      9.87      7.19     11.90    338.27      1.00\n",
            " attempts_NY[48]     58.82      1.58     58.88     56.12     61.25    421.15      1.00\n",
            " attempts_NY[49]     47.93      1.59     47.94     45.96     51.29    408.97      1.00\n",
            " attempts_NY[50]      9.86      1.63      9.96      7.17     12.44    547.21      1.00\n",
            " attempts_NY[51]      3.74      1.55      3.58      1.40      6.45    478.60      1.00\n",
            " attempts_NY[52]      0.66      1.63      0.53     -2.28      2.92    479.85      1.00\n",
            " attempts_NY[53]     52.71      1.57     52.67     49.99     55.02    349.81      1.01\n",
            " attempts_NY[54]     20.31      1.55     20.27     17.68     22.73    386.16      1.00\n",
            " attempts_NY[55]     67.69      1.45     67.69     65.51     70.12    425.83      1.00\n",
            " attempts_NY[56]     48.15      1.45     48.15     46.01     50.65    316.37      1.00\n",
            " attempts_NY[57]     45.66      1.57     45.62     42.79     48.03    471.08      1.00\n",
            " attempts_NY[58]      1.26      1.44      1.27     -1.38      3.28    556.11      1.00\n",
            " attempts_NY[59]     18.42      1.57     18.41     15.80     21.17    426.24      1.00\n",
            " attempts_NY[60]     21.22      1.51     21.20     18.90     23.66    478.30      1.00\n",
            " attempts_NY[61]      2.22      1.66      2.16     -0.34      4.98    768.02      1.00\n",
            " attempts_NY[62]      9.03      1.53      9.02      6.41     11.12    406.77      1.00\n",
            " attempts_NY[63]      9.25      1.74      9.29      6.82     12.27    437.35      1.00\n",
            " attempts_NY[64]     13.05      1.43     13.00     11.11     15.60    472.07      1.01\n",
            " attempts_NY[65]     31.19      1.57     31.23     28.89     33.84    449.22      1.00\n",
            " attempts_NY[66]      0.05      1.48     -0.05     -2.57      2.33    608.16      1.00\n",
            " attempts_NY[67]      9.95      1.47      9.84      7.59     12.40    582.09      1.00\n",
            " attempts_NY[68]     20.59      1.65     20.47     17.86     23.30    394.92      1.00\n",
            " attempts_NY[69]     11.16      1.56     11.14      8.65     13.55    377.86      1.00\n",
            " attempts_NY[70]     78.98      1.44     78.96     76.86     81.29    473.55      1.01\n",
            " attempts_NY[71]     29.47      1.49     29.41     27.02     31.80    435.29      1.00\n",
            " attempts_NY[72]      0.25      1.48      0.31     -1.98      2.86    777.34      1.00\n",
            " attempts_NY[73]     12.08      1.68     12.10      9.45     14.86    394.59      1.00\n",
            " attempts_NY[74]     -1.71      1.56     -1.72     -4.08      0.81   1083.15      1.00\n",
            " attempts_NY[75]      6.64      1.45      6.59      4.20      8.98    674.27      1.00\n",
            " attempts_NY[76]      6.63      1.81      6.64      3.68      9.70    620.71      1.00\n",
            " attempts_NY[77]      9.53      1.46      9.49      7.51     12.24    336.18      1.00\n",
            " attempts_NY[78]     91.77      1.57     91.74     89.33     94.31    361.71      1.00\n",
            " attempts_NY[79]     29.15      1.65     29.13     26.43     31.73    426.20      1.00\n",
            " attempts_NY[80]      1.28      1.58      1.21     -1.01      4.10    537.65      1.00\n",
            " attempts_NY[81]      0.26      1.65      0.28     -2.42      3.03   1394.46      1.00\n",
            " attempts_NY[82]      4.25      1.60      4.30      1.59      6.78    912.76      1.00\n",
            " attempts_NY[83]    111.55      1.56    111.68    108.89    113.97    450.55      1.00\n",
            " attempts_NY[84]      0.48      1.57      0.52     -2.41      2.48    716.42      1.00\n",
            " attempts_NY[85]     -0.14      1.55     -0.14     -2.57      2.71    821.90      1.00\n",
            " attempts_NY[86]      9.82      1.42      9.91      7.50     12.01    556.36      1.00\n",
            " attempts_NY[87]      0.01      1.63      0.04     -2.59      2.63   1330.11      1.00\n",
            " attempts_NY[88]     11.86      1.65     11.96      9.10     14.27    334.45      1.00\n",
            " attempts_NY[89]     20.84      1.57     20.75     18.17     23.34    274.24      1.00\n",
            " attempts_NY[90]     -0.27      1.64     -0.34     -2.62      2.48   1024.75      1.00\n",
            " attempts_NY[91]      2.14      1.67      2.09     -0.51      5.00    643.74      1.00\n",
            " attempts_NY[92]      0.08      1.59      0.01     -2.53      2.63    725.24      1.01\n",
            " attempts_NY[93]      0.23      1.61      0.23     -2.53      2.61   1095.84      1.00\n",
            " attempts_NY[94]      1.05      1.55      1.04     -1.03      3.84    817.22      1.00\n",
            " attempts_NY[95]      9.70      1.55      9.71      7.03     11.95    433.43      1.00\n",
            " attempts_NY[96]      4.75      1.50      4.72      2.30      7.08    490.28      1.00\n",
            " attempts_NY[97]      1.99      1.66      1.88     -0.77      4.49   2338.79      1.00\n",
            " attempts_NY[98]      2.80      1.55      2.82      0.12      5.12    737.88      1.00\n",
            " attempts_NY[99]     21.59      1.54     21.58     18.89     23.92    400.17      1.00\n",
            "attempts_NY[100]      2.20      1.66      2.35     -0.41      4.73    698.85      1.00\n",
            "attempts_NY[101]      3.83      1.74      3.85      1.06      6.64    535.90      1.00\n",
            "attempts_NY[102]      0.34      1.48      0.26     -2.23      2.62    385.52      1.00\n",
            "attempts_NY[103]      9.73      1.61      9.62      7.31     12.32    479.84      1.00\n",
            "attempts_NY[104]      1.84      1.54      1.86     -1.00      3.92    667.40      1.00\n",
            "attempts_NY[105]     27.24      1.50     27.19     24.95     29.71    352.04      1.01\n",
            "attempts_NY[106]      4.57      1.46      4.59      2.29      6.82    438.17      1.00\n",
            "attempts_NY[107]      4.36      1.63      4.45      1.81      6.86    566.45      1.00\n",
            "attempts_NY[108]     94.37      1.66     94.41     91.76     97.09    462.28      1.00\n",
            "attempts_NY[109]     -0.88      1.43     -0.88     -3.48      1.17    655.26      1.00\n",
            "attempts_NY[110]      1.05      1.50      1.01     -1.49      3.54    492.00      1.00\n",
            "attempts_NY[111]     -1.22      1.54     -1.18     -3.99      1.16    963.61      1.00\n",
            "attempts_NY[112]      8.38      1.50      8.45      5.97     10.94    720.06      1.00\n",
            "attempts_NY[113]      1.38      1.61      1.46     -1.25      3.90    768.20      1.00\n",
            "attempts_NY[114]      9.06      1.52      9.07      6.80     11.69    377.45      1.00\n",
            "attempts_NY[115]     -0.07      1.61     -0.02     -2.69      2.45   1011.92      1.00\n",
            "attempts_NY[116]     10.48      1.44     10.43      8.33     12.88    378.41      1.00\n",
            "attempts_NY[117]     -1.23      1.44     -1.24     -3.52      1.00    893.95      1.00\n",
            "attempts_NY[118]      0.43      1.57      0.54     -2.25      2.85    889.34      1.00\n",
            "attempts_NY[119]      2.65      1.59      2.75      0.28      5.42    493.45      1.00\n",
            "attempts_NY[120]      3.73      1.59      3.67      1.53      6.51    577.32      1.00\n",
            "attempts_NY[121]      0.58      1.54      0.48     -1.84      3.00    341.72      1.00\n",
            "attempts_NY[122]     45.42      1.58     45.41     43.09     47.97    318.93      1.00\n",
            "attempts_NY[123]    192.01      1.59    191.96    189.25    194.40    363.01      1.00\n",
            "attempts_NY[124]    164.80      1.42    164.75    162.84    167.41    260.05      1.00\n",
            "attempts_NY[125]    127.85      1.43    127.85    125.63    130.25    302.19      1.00\n",
            "attempts_NY[126]    115.70      1.70    115.69    112.80    118.47    429.33      1.00\n",
            "attempts_NY[127]    346.68      1.65    346.72    344.38    349.84    355.81      1.00\n",
            "attempts_NY[128]    292.22      1.50    292.21    289.24    294.28    351.05      1.00\n",
            "attempts_NY[129]    281.69      1.49    281.73    279.23    284.20    468.35      1.01\n",
            "attempts_NY[130]    167.16      1.51    167.21    164.62    169.63    374.63      1.00\n",
            "attempts_NY[131]    254.74      1.41    254.77    252.53    257.01    406.41      1.00\n",
            "attempts_NY[132]    291.98      1.61    292.04    289.57    294.77    401.15      1.02\n",
            "attempts_NY[133]     88.23      1.47     88.27     85.93     90.69    285.52      1.01\n",
            "attempts_NY[134]    138.99      1.45    138.92    136.64    141.24    283.01      1.00\n",
            "attempts_NY[135]    208.81      1.71    208.83    205.86    211.33    330.30      1.00\n",
            "attempts_NY[136]    182.54      1.39    182.66    180.29    184.77    376.91      1.00\n",
            "attempts_NY[137]    107.06      1.36    107.04    104.88    109.36    456.24      1.00\n",
            "attempts_NY[138]    178.29      1.43    178.27    175.81    180.59    484.92      1.00\n",
            "attempts_NY[139]    226.85      1.52    226.98    224.07    229.04    265.67      1.00\n",
            "attempts_NY[140]    223.45      1.45    223.44    221.17    225.76    344.49      1.00\n",
            "attempts_NY[141]    128.03      1.51    127.97    125.67    130.65    505.39      1.00\n",
            "attempts_NY[142]     80.93      1.59     80.99     78.30     83.47    402.04      1.01\n",
            "attempts_NY[143]      9.93      1.63      9.96      7.62     12.91    383.14      1.00\n",
            "attempts_NY[144]     52.13      1.37     52.18     49.92     54.33    382.26      1.00\n",
            "attempts_NY[145]    117.95      1.55    117.98    115.50    120.36    325.20      1.00\n",
            "attempts_NY[146]    240.26      1.70    240.20    237.63    243.06    409.91      1.00\n",
            "attempts_NY[147]    181.04      1.56    181.12    178.67    183.42    334.05      1.00\n",
            "attempts_NY[148]    102.14      1.49    102.06     99.54    104.47    406.68      1.00\n",
            "attempts_NY[149]     79.15      1.48     79.12     76.98     81.91    344.59      1.00\n",
            "attempts_NY[150]      9.32      1.65      9.35      6.62     11.89    533.01      1.00\n",
            "attempts_NY[151]    204.97      1.66    204.92    202.48    207.64    436.90      1.00\n",
            "attempts_NY[152]    277.82      1.45    277.80    275.73    280.51    310.63      1.00\n",
            "attempts_NY[153]    152.91      1.46    152.89    150.61    155.39    305.85      1.02\n",
            "attempts_NY[154]     42.68      1.60     42.75     40.13     45.29    408.59      1.00\n",
            "attempts_NY[155]     82.82      1.78     82.81     79.71     85.66    561.78      1.00\n",
            "attempts_NY[156]     19.31      1.61     19.30     16.46     21.67    275.50      1.00\n",
            "attempts_NY[157]     68.02      1.84     68.11     64.95     70.81    403.81      1.00\n",
            "attempts_NY[158]     16.16      1.42     16.18     13.84     18.45    472.87      1.00\n",
            "attempts_NY[159]     80.89      1.40     80.85     79.01     83.64    384.48      1.00\n",
            "attempts_NY[160]     36.55      1.72     36.45     33.86     39.77    372.93      1.00\n",
            "attempts_NY[161]     56.89      1.46     57.01     54.38     59.13    384.91      1.00\n",
            "attempts_NY[162]     32.06      1.56     32.14     29.58     34.63    458.03      1.01\n",
            "attempts_NY[163]     78.30      1.60     78.24     75.70     80.93    376.37      1.00\n",
            "attempts_NY[164]     84.64      1.65     84.57     82.15     87.30    383.45      1.00\n",
            "attempts_NY[165]     18.96      1.65     18.89     15.98     21.36    380.52      1.00\n",
            "attempts_NY[166]     47.84      1.58     47.91     45.14     50.40    323.36      1.00\n",
            "attempts_NY[167]      0.65      1.50      0.68     -1.93      2.88   1455.77      1.00\n",
            "attempts_NY[168]     23.84      1.55     23.96     21.22     26.46    366.96      1.00\n",
            "attempts_NY[169]     16.24      1.55     16.20     13.79     18.72    258.32      1.00\n",
            "attempts_NY[170]     47.73      1.57     47.65     45.38     50.67    411.56      1.00\n",
            "attempts_NY[171]     13.15      1.59     13.25     10.48     15.63    348.62      1.00\n",
            "attempts_NY[172]    218.41      1.62    218.50    215.83    221.07    262.94      1.00\n",
            "attempts_NY[173]     24.48      1.67     24.51     21.74     27.21    386.43      1.00\n",
            "attempts_NY[174]     23.66      1.44     23.67     21.20     26.02    309.35      1.00\n",
            "attempts_NY[175]      7.73      1.67      7.73      5.06     10.47    402.31      1.00\n",
            "attempts_NY[176]     -1.30      1.57     -1.34     -3.89      1.16   1162.51      1.00\n",
            "attempts_NY[177]     30.51      1.70     30.56     27.54     33.09    536.61      1.00\n",
            "attempts_NY[178]      1.18      1.70      1.23     -1.48      3.96    545.94      1.00\n",
            "attempts_NY[179]     21.30      1.43     21.31     18.99     23.58    570.25      1.00\n",
            "attempts_NY[180]     27.86      1.52     27.82     25.56     30.27    391.85      1.00\n",
            "attempts_NY[181]     11.82      1.53     11.88      9.14     14.03    356.82      1.01\n",
            "attempts_NY[182]     28.60      1.73     28.56     26.06     31.87    387.47      1.00\n",
            "attempts_NY[183]     20.29      1.48     20.34     17.83     22.65    455.10      1.00\n",
            "attempts_NY[184]     47.32      1.73     47.28     44.46     50.01    350.42      1.00\n",
            "attempts_NY[185]     14.19      1.50     14.23     11.85     16.73    344.08      1.00\n",
            "attempts_NY[186]     -0.31      1.58     -0.33     -2.99      2.02    380.44      1.00\n",
            "attempts_NY[187]     -1.95      1.55     -1.94     -4.18      0.82   1020.48      1.00\n",
            "attempts_NY[188]      1.16      1.48      1.04     -0.81      4.03    935.15      1.00\n",
            "attempts_NY[189]     14.33      1.40     14.30     12.28     16.82    336.10      1.00\n",
            "attempts_NY[190]      4.77      1.81      4.77      2.07      7.83   1240.92      1.00\n",
            "attempts_NY[191]     45.36      1.54     45.47     43.23     48.00    249.21      1.01\n",
            "attempts_NY[192]     17.23      1.54     17.24     14.51     19.53    339.30      1.00\n",
            "attempts_NY[193]      4.03      1.52      4.05      1.71      6.61    621.62      1.00\n",
            "attempts_NY[194]    105.28      1.68    105.40    102.90    108.58    312.31      1.01\n",
            "attempts_NY[195]      8.08      1.50      8.08      5.83     10.50    457.77      1.00\n",
            "attempts_NY[196]     -2.19      1.58     -2.24     -4.65      0.39    843.03      1.00\n",
            "attempts_NY[197]      2.24      1.66      2.18     -0.69      4.70    501.93      1.00\n",
            "attempts_NY[198]     10.97      1.33     10.95      9.01     13.24    250.89      1.00\n",
            "attempts_NY[199]     -0.90      1.38     -1.02     -3.14      1.19    752.21      1.00\n",
            "attempts_NY[200]      2.03      1.47      2.08     -0.22      4.44    202.13      1.00\n",
            "attempts_NY[201]      7.31      1.58      7.30      4.72      9.69    443.72      1.00\n",
            "attempts_NY[202]     11.36      1.60     11.36      8.88     14.31    283.86      1.00\n",
            "attempts_NY[203]      6.62      1.53      6.69      3.91      8.93    556.32      1.01\n",
            "attempts_NY[204]      3.24      1.38      3.24      0.99      5.15    905.37      1.00\n",
            "attempts_NY[205]     -1.63      1.55     -1.72     -4.21      0.77    716.62      1.00\n",
            "attempts_NY[206]      4.97      1.60      4.90      2.20      7.39    266.80      1.00\n",
            "attempts_NY[207]     13.99      1.25     13.93     12.09     16.22    358.76      1.00\n",
            "attempts_NY[208]      3.21      1.49      3.28      1.04      5.92   1560.89      1.00\n",
            "attempts_NY[209]      0.81      1.51      0.84     -1.91      3.12    930.96      1.00\n",
            "attempts_NY[210]      6.99      1.42      6.99      5.03      9.59    407.47      1.00\n",
            "attempts_NY[211]      1.58      1.52      1.58     -0.95      3.88    414.80      1.00\n",
            "attempts_NY[212]      2.24      1.52      2.21     -0.13      4.95    351.64      1.00\n",
            "attempts_NY[213]    117.03      1.70    117.00    114.43    120.14    344.49      1.00\n",
            "attempts_NY[214]      1.86      1.57      1.91     -0.67      4.38    345.35      1.00\n",
            "attempts_NY[215]     -0.56      1.51     -0.51     -2.81      2.10    840.71      1.00\n",
            "attempts_NY[216]     -0.73      1.48     -0.79     -3.23      1.47    648.15      1.00\n",
            "attempts_NY[217]     13.13      1.50     13.15     10.33     15.34    385.96      1.00\n",
            "attempts_NY[218]      2.87      1.56      2.84      0.40      5.62    847.00      1.00\n",
            "attempts_NY[219]      0.90      1.53      0.88     -1.33      3.46    221.64      1.00\n",
            "attempts_NY[220]      5.52      1.47      5.61      2.91      7.73    425.27      1.00\n",
            "attempts_NY[221]     -0.00      1.66      0.03     -2.80      2.74   1010.72      1.00\n",
            "attempts_NY[222]      8.91      1.34      8.89      6.83     10.91    357.16      1.00\n",
            "attempts_NY[223]      6.84      1.70      6.72      4.12      9.54    471.83      1.00\n",
            "attempts_NY[224]      0.18      1.66      0.23     -2.61      2.80    560.85      1.00\n",
            "attempts_NY[225]      2.80      1.58      2.77      0.27      5.18    695.74      1.00\n",
            "attempts_NY[226]      0.85      1.65      0.88     -2.00      3.40    479.80      1.00\n",
            "attempts_NY[227]     -0.50      1.48     -0.44     -2.87      1.73    873.62      1.00\n",
            "attempts_NY[228]     -0.53      1.58     -0.47     -2.71      2.35    759.38      1.00\n",
            "attempts_NY[229]      1.04      1.56      0.99     -1.37      3.52    901.39      1.00\n",
            "attempts_NY[230]      0.87      1.56      0.82     -1.39      3.64   1265.80      1.00\n",
            "attempts_NY[231]      5.41      1.48      5.42      3.01      7.70    463.05      1.00\n",
            "attempts_NY[232]     -0.25      1.59     -0.29     -2.56      2.55   1362.59      1.00\n",
            "attempts_NY[233]      1.41      1.43      1.43     -0.88      3.82    325.36      1.00\n",
            "attempts_NY[234]      0.60      1.45      0.60     -2.08      2.92   1936.63      1.00\n",
            "attempts_NY[235]     -0.24      1.64     -0.22     -2.66      2.77    613.51      1.00\n",
            "attempts_NY[236]     -2.04      1.45     -2.12     -4.51      0.24   1055.70      1.00\n",
            "attempts_NY[237]      3.90      1.51      3.84      1.38      6.47    602.16      1.00\n",
            "attempts_NY[238]     15.01      1.50     14.97     12.42     17.21    328.35      1.01\n",
            "attempts_NY[239]     -2.14      1.65     -2.26     -4.57      0.77    890.58      1.00\n",
            "attempts_NY[240]      1.50      1.70      1.53     -1.20      4.10    560.49      1.00\n",
            "attempts_NY[241]     59.22      1.47     59.19     56.80     61.61    360.99      1.00\n",
            "attempts_NY[242]    228.45      1.79    228.36    225.72    231.26    381.55      1.00\n",
            "attempts_NY[243]    301.13      1.55    301.14    298.99    304.04    331.16      1.00\n",
            "attempts_NY[244]    147.64      1.69    147.73    144.58    150.33    441.99      1.00\n",
            "attempts_NY[245]    217.86      1.69    217.93    214.93    220.39    278.97      1.00\n",
            "attempts_NY[246]    249.09      1.49    249.19    246.85    251.72    308.43      1.00\n",
            "attempts_NY[247]     98.91      1.57     98.91     96.08    101.32    334.03      1.00\n",
            "attempts_NY[248]    254.12      1.58    254.06    252.05    257.17    368.66      1.01\n",
            "attempts_NY[249]    341.21      1.43    341.25    338.87    343.33    357.51      1.00\n",
            "attempts_NY[250]    178.67      1.63    178.77    175.93    181.14    389.55      1.00\n",
            "attempts_NY[251]    211.57      1.47    211.62    209.50    214.19    560.87      1.00\n",
            "attempts_NY[252]    204.59      1.61    204.46    202.26    207.32    385.11      1.00\n",
            "attempts_NY[253]    205.75      1.48    205.83    203.10    208.02    499.19      1.00\n",
            "attempts_NY[254]    232.52      1.90    232.68    229.29    235.45    360.91      1.00\n",
            "attempts_NY[255]    251.92      1.64    251.90    249.35    254.61    390.44      1.00\n",
            "attempts_NY[256]    147.51      1.63    147.56    144.90    150.25    355.92      1.01\n",
            "attempts_NY[257]    138.75      1.54    138.65    136.03    140.96    494.93      1.00\n",
            "attempts_NY[258]    105.91      1.51    105.91    103.62    108.46    381.67      1.00\n",
            "attempts_NY[259]     36.57      1.69     36.54     33.93     39.46    449.71      1.00\n",
            "attempts_NY[260]    164.88      1.51    164.90    162.75    167.40    336.34      1.01\n",
            "attempts_NY[261]    156.01      1.48    156.07    153.60    158.25    418.14      1.00\n",
            "attempts_NY[262]    124.32      1.67    124.33    121.07    126.73    358.89      1.00\n",
            "attempts_NY[263]    146.03      1.47    146.09    144.06    148.59    368.59      1.00\n",
            "attempts_NY[264]    327.52      1.57    327.64    324.98    329.89    338.71      1.00\n",
            "attempts_NY[265]    143.26      1.52    143.33    140.93    145.82    362.05      1.00\n",
            "attempts_NY[266]    100.67      1.49    100.68     98.15    103.05    474.21      1.00\n",
            "attempts_NY[267]    282.49      1.50    282.48    280.54    285.27    504.60      1.00\n",
            "attempts_NY[268]    149.56      1.52    149.63    147.38    152.35    323.12      1.01\n",
            "attempts_NY[269]     13.07      1.58     12.95     10.33     15.27    399.45      1.00\n",
            "attempts_NY[270]     87.92      1.48     87.89     85.69     90.49    415.42      1.00\n",
            "attempts_NY[271]    158.07      1.66    158.05    155.32    160.62    394.23      1.00\n",
            "attempts_NY[272]    135.66      1.38    135.69    133.44    137.73    455.70      1.00\n",
            "attempts_NY[273]     97.60      1.55     97.62     94.70     99.85    345.38      1.00\n",
            "attempts_NY[274]     19.30      1.47     19.35     16.95     21.57    400.47      1.00\n",
            "attempts_NY[275]     92.66      1.63     92.58     89.95     95.06    467.77      1.00\n",
            "attempts_NY[276]     67.93      1.57     67.93     65.25     70.29    407.08      1.00\n",
            "attempts_NY[277]     79.57      1.77     79.55     76.35     82.37    391.74      1.00\n",
            "attempts_NY[278]     78.60      1.52     78.52     76.21     81.38    407.66      1.00\n",
            "attempts_NY[279]     21.23      1.53     21.11     19.02     23.88    374.04      1.00\n",
            "attempts_NY[280]     35.40      1.61     35.52     33.01     38.11    329.38      1.00\n",
            "attempts_NY[281]     50.48      1.47     50.48     47.97     52.60    312.89      1.00\n",
            "attempts_NY[282]     38.20      1.57     38.09     36.04     41.02    443.90      1.00\n",
            "attempts_NY[283]    116.13      1.46    116.12    113.82    118.44    439.83      1.00\n",
            "attempts_NY[284]     31.36      1.68     31.41     28.62     34.07    342.13      1.00\n",
            "attempts_NY[285]    255.16      1.68    255.14    252.47    257.97    322.65      1.00\n",
            "attempts_NY[286]      7.00      1.61      6.97      4.51      9.61    441.36      1.01\n",
            "attempts_NY[287]     39.14      1.60     39.07     36.68     41.91    428.81      1.00\n",
            "attempts_NY[288]     34.46      1.58     34.51     31.77     36.92    427.69      1.00\n",
            "attempts_NY[289]     -5.86      1.66     -5.76     -8.37     -3.23    520.51      1.00\n",
            "attempts_NY[290]      4.48      1.75      4.54      1.34      6.78    325.54      1.00\n",
            "attempts_NY[291]     36.90      1.55     36.88     34.35     39.47    378.61      1.00\n",
            "attempts_NY[292]      0.21      1.44      0.15     -2.58      2.28    713.47      1.00\n",
            "attempts_NY[293]     16.32      1.46     16.30     14.12     18.62    267.16      1.00\n",
            "attempts_NY[294]      8.43      1.44      8.43      6.34     10.97    397.61      1.00\n",
            "attempts_NY[295]      4.20      1.82      4.16      1.35      7.18    844.27      1.00\n",
            "attempts_NY[296]     13.95      1.54     13.99     11.52     16.52    545.09      1.00\n",
            "attempts_NY[297]     -1.07      1.57     -1.07     -3.77      1.35    833.10      1.00\n",
            "attempts_NY[298]     11.09      1.53     11.13      8.56     13.36    397.55      1.00\n",
            "attempts_NY[299]     18.18      1.74     18.19     15.18     21.07    364.78      1.00\n",
            "attempts_NY[300]     18.05      1.64     18.05     15.26     20.44    452.11      1.00\n",
            "attempts_NY[301]      3.00      1.53      2.93      0.79      5.78    362.58      1.00\n",
            "attempts_NY[302]     28.08      1.48     27.98     25.60     30.59    331.78      1.00\n",
            "attempts_NY[303]      3.67      1.48      3.59      1.16      5.87    994.72      1.00\n",
            "attempts_NY[304]    105.03      1.51    105.09    102.62    107.43    474.13      1.00\n",
            "attempts_NY[305]      6.34      1.44      6.26      3.91      8.60    409.46      1.00\n",
            "attempts_NY[306]      6.28      1.47      6.30      3.90      8.63    631.47      1.00\n",
            "attempts_NY[307]     26.86      1.63     26.93     24.29     29.57    296.46      1.00\n",
            "attempts_NY[308]      1.68      1.75      1.61     -0.87      4.50   1339.65      1.00\n",
            "attempts_NY[309]     24.43      1.48     24.46     22.18     26.93    425.06      1.00\n",
            "attempts_NY[310]     15.79      1.71     15.75     13.09     18.63    314.50      1.01\n",
            "attempts_NY[311]     -0.71      1.58     -0.77     -3.45      1.54   1802.87      1.00\n",
            "attempts_NY[312]      2.35      1.50      2.39     -0.07      4.85    484.09      1.01\n",
            "attempts_NY[313]      4.38      1.53      4.36      1.78      6.78    736.56      1.00\n",
            "attempts_NY[314]      6.09      1.58      6.12      3.48      8.74    341.12      1.00\n",
            "attempts_NY[315]     17.38      1.81     17.35     14.30     20.27    298.37      1.01\n",
            "attempts_NY[316]      7.56      1.58      7.63      5.01     10.00    554.84      1.00\n",
            "attempts_NY[317]     20.25      1.34     20.28     18.05     22.33    347.90      1.00\n",
            "attempts_NY[318]      8.66      1.51      8.71      6.32     11.00    310.66      1.01\n",
            "attempts_NY[319]      6.11      1.49      6.13      3.42      8.18    422.08      1.00\n",
            "attempts_NY[320]     13.84      1.55     13.87     11.43     16.24    283.11      1.01\n",
            "attempts_NY[321]      6.39      1.50      6.32      4.04      8.78    384.96      1.00\n",
            "attempts_NY[322]      6.67      1.55      6.61      4.41      9.46    952.05      1.00\n",
            "attempts_NY[323]     -1.78      1.59     -1.88     -4.45      0.75    832.95      1.00\n",
            "attempts_NY[324]      6.89      1.56      6.90      4.33      9.36    562.22      1.00\n",
            "attempts_NY[325]     -1.86      1.57     -1.92     -4.50      0.70    581.28      1.00\n",
            "attempts_NY[326]     18.15      1.50     18.03     15.75     20.45    320.70      1.02\n",
            "attempts_NY[327]      5.20      1.70      5.26      2.29      7.63    498.69      1.00\n",
            "attempts_NY[328]      1.57      1.56      1.63     -1.24      3.97    463.94      1.00\n",
            "attempts_NY[329]     -5.59      1.72     -5.65     -7.88     -2.65    415.27      1.00\n",
            "attempts_NY[330]     19.23      1.48     19.32     17.02     21.77    345.65      1.00\n",
            "attempts_NY[331]    103.76      1.50    103.74    101.54    106.22    394.57      1.00\n",
            "attempts_NY[332]      0.17      1.56      0.16     -2.11      2.97   1730.53      1.00\n",
            "attempts_NY[333]      6.59      1.52      6.56      4.45      9.28    377.76      1.00\n",
            "attempts_NY[334]      0.70      1.44      0.75     -1.87      2.77   1073.73      1.00\n",
            "attempts_NY[335]      1.10      1.59      0.94     -1.53      3.84   2415.79      1.00\n",
            "attempts_NY[336]      2.50      1.57      2.54     -0.55      4.76    723.72      1.00\n",
            "attempts_NY[337]      5.87      1.44      5.87      3.66      8.38    459.46      1.00\n",
            "attempts_NY[338]      2.69      1.63      2.77      0.26      5.41    755.92      1.00\n",
            "attempts_NY[339]      4.91      1.78      4.94      1.77      7.77    468.07      1.00\n",
            "attempts_NY[340]      7.13      1.61      7.13      4.54      9.77    465.75      1.01\n",
            "attempts_NY[341]      9.20      1.70      9.17      6.52     11.74    388.35      1.00\n",
            "attempts_NY[342]     54.05      1.56     54.12     51.46     56.44    542.02      1.00\n",
            "attempts_NY[343]      4.23      1.64      4.14      2.01      6.87   1168.25      1.00\n",
            "attempts_NY[344]      3.84      1.66      3.84      1.01      6.34    317.02      1.00\n",
            "attempts_NY[345]      0.50      1.46      0.49     -1.85      2.95    842.07      1.00\n",
            "attempts_NY[346]      0.79      1.45      0.87     -1.48      3.36    622.68      1.00\n",
            "attempts_NY[347]      3.98      1.61      3.98      1.79      7.06    463.79      1.00\n",
            "attempts_NY[348]      2.21      1.51      2.22     -0.20      4.64    957.15      1.00\n",
            "attempts_NY[349]      0.71      1.60      0.77     -1.75      3.44    758.11      1.00\n",
            "attempts_NY[350]      2.40      1.56      2.38      0.01      4.84    571.57      1.00\n",
            "attempts_NY[351]      0.69      1.40      0.80     -1.49      3.04    450.14      1.00\n",
            "attempts_NY[352]      0.97      1.65      1.02     -2.07      3.39   1083.45      1.00\n",
            "attempts_NY[353]      1.15      1.52      1.09     -1.15      3.69    952.36      1.00\n",
            "attempts_NY[354]      1.63      1.54      1.58     -0.97      4.05    594.30      1.00\n",
            "attempts_NY[355]     -0.80      1.79     -0.87     -3.67      2.28    478.33      1.00\n",
            "attempts_NY[356]      0.76      1.40      0.71     -1.62      2.89    748.51      1.00\n",
            "attempts_NY[357]     -1.05      1.57     -1.02     -3.90      1.26    833.83      1.00\n",
            "attempts_NY[358]     -0.49      1.63     -0.49     -3.03      2.31    573.69      1.00\n",
            "attempts_NY[359]      0.39      1.41      0.40     -1.82      2.73    952.26      1.00\n",
            "attempts_NY[360]      1.06      1.49      1.03     -1.11      3.82    662.78      1.00\n",
            "attempts_NY[361]     -2.16      1.73     -2.18     -5.57      0.38    780.54      1.00\n",
            "attempts_NY[362]     -0.51      1.47     -0.48     -2.85      1.82    366.59      1.00\n",
            "attempts_NY[363]     -0.23      1.47     -0.26     -2.71      1.98    655.30      1.00\n",
            "attempts_NY[364]      1.27      1.49      1.26     -1.34      3.71    611.01      1.00\n",
            "attempts_NY[365]     -0.39      1.55     -0.42     -2.67      2.33    328.40      1.00\n",
            "attempts_NY[366]     89.97      1.72     90.06     87.19     92.67    327.94      1.01\n",
            "attempts_NY[367]      0.81      1.54      0.82     -1.87      3.36    975.84      1.00\n",
            "attempts_NY[368]    110.20      1.55    110.17    108.09    113.12    257.31      1.00\n",
            "attempts_NY[369]    191.39      1.48    191.20    189.33    193.93    306.29      1.00\n",
            "attempts_NY[370]    234.92      1.58    234.87    232.46    237.74    319.88      1.00\n",
            "attempts_NY[371]    218.15      1.44    218.13    215.60    220.27    321.41      1.00\n",
            "attempts_NY[372]    158.82      1.58    158.73    156.63    161.61    388.31      1.00\n",
            "attempts_NY[373]    167.57      1.54    167.52    165.24    170.26    346.91      1.00\n",
            "attempts_NY[374]    266.47      1.45    266.45    264.23    268.61    275.82      1.00\n",
            "attempts_NY[375]     88.43      1.58     88.44     86.13     91.19    437.23      1.00\n",
            "attempts_NY[376]      5.69      1.68      5.76      3.04      8.60    648.91      1.00\n",
            "attempts_NY[377]    118.06      1.60    118.08    114.76    120.29    339.08      1.00\n",
            "attempts_NY[378]    159.32      1.56    159.45    156.93    161.88    387.80      1.00\n",
            "attempts_NY[379]    354.10      1.47    354.02    351.92    356.65    427.96      1.00\n",
            "attempts_NY[380]    308.47      1.46    308.42    305.79    310.63    478.72      1.00\n",
            "attempts_NY[381]    286.99      1.69    286.97    284.17    289.50    290.42      1.00\n",
            "attempts_NY[382]     99.48      1.69     99.42     96.64    102.14    327.03      1.00\n",
            "attempts_NY[383]    162.76      1.61    162.76    159.66    164.92    326.28      1.02\n",
            "attempts_NY[384]    179.77      1.71    179.75    177.19    182.80    340.35      1.00\n",
            "attempts_NY[385]    289.70      1.40    289.72    287.38    292.05    445.32      1.00\n",
            "attempts_NY[386]    114.61      1.60    114.58    111.80    116.95    368.58      1.00\n",
            "attempts_NY[387]     63.34      1.63     63.34     60.55     66.00    373.25      1.00\n",
            "attempts_NY[388]    118.93      1.50    118.93    116.15    121.18    330.53      1.00\n",
            "attempts_NY[389]     59.83      1.55     59.79     57.20     62.29    374.65      1.00\n",
            "attempts_NY[390]    318.47      1.50    318.50    316.32    321.19    395.83      1.00\n",
            "attempts_NY[391]    134.90      1.57    134.93    132.36    137.47    383.50      1.00\n",
            "attempts_NY[392]     52.85      1.47     52.91     50.42     55.18    191.95      1.00\n",
            "attempts_NY[393]     19.15      1.53     19.13     16.88     21.75    408.07      1.00\n",
            "attempts_NY[394]     32.56      1.70     32.58     29.99     35.55    284.75      1.00\n",
            "attempts_NY[395]     92.44      1.53     92.55     90.04     95.15    493.38      1.00\n",
            "attempts_NY[396]     29.42      1.83     29.38     26.75     32.79    373.13      1.00\n",
            "attempts_NY[397]     74.07      1.60     74.09     71.50     76.50    358.44      1.00\n",
            "attempts_NY[398]    165.55      1.72    165.53    163.00    168.24    398.08      1.01\n",
            "attempts_NY[399]    101.75      1.47    101.83     99.54    104.28    391.29      1.00\n",
            "attempts_NY[400]    118.31      1.48    118.33    116.06    120.87    415.71      1.00\n",
            "attempts_NY[401]     44.90      1.50     44.97     42.25     47.11    534.78      1.00\n",
            "attempts_NY[402]    245.85      1.67    245.78    243.40    248.92    370.89      1.00\n",
            "attempts_NY[403]     20.49      1.55     20.47     18.01     22.94    320.73      1.00\n",
            "attempts_NY[404]     54.75      1.56     54.78     52.35     57.46    370.01      1.00\n",
            "attempts_NY[405]    138.19      1.62    138.14    135.51    140.73    352.62      1.00\n",
            "attempts_NY[406]    102.61      1.46    102.52    100.18    104.84    347.94      1.00\n",
            "attempts_NY[407]     55.03      1.64     55.05     52.44     57.99    243.31      1.00\n",
            "attempts_NY[408]     85.50      1.45     85.52     82.70     87.55    449.26      1.00\n",
            "attempts_NY[409]      6.42      1.56      6.42      3.87      8.82    341.40      1.00\n",
            "attempts_NY[410]      0.94      1.65      0.83     -1.53      3.62    711.90      1.00\n",
            "attempts_NY[411]     19.18      1.55     19.20     16.76     21.60    334.64      1.00\n",
            "attempts_NY[412]     43.68      1.56     43.62     41.07     45.91    392.30      1.00\n",
            "attempts_NY[413]     28.87      1.68     28.93     26.05     31.42    199.39      1.00\n",
            "attempts_NY[414]     -3.14      1.52     -3.21     -5.61     -0.66    520.01      1.00\n",
            "attempts_NY[415]     47.74      1.48     47.74     45.72     50.75    366.19      1.00\n",
            "attempts_NY[416]      2.66      1.48      2.66      0.44      5.24   1890.30      1.00\n",
            "attempts_NY[417]      3.10      1.57      3.12      0.87      5.92    453.05      1.00\n",
            "attempts_NY[418]     32.01      1.54     31.97     29.70     34.56    475.23      1.00\n",
            "attempts_NY[419]     42.47      1.61     42.41     39.33     44.84    423.90      1.00\n",
            "attempts_NY[420]     12.43      1.52     12.43     10.25     15.14    515.91      1.00\n",
            "attempts_NY[421]      4.23      1.53      4.20      1.74      6.65   1346.20      1.00\n",
            "attempts_NY[422]     35.26      1.48     35.30     32.79     37.61    437.74      1.00\n",
            "attempts_NY[423]      9.86      1.38      9.83      7.83     12.06    241.76      1.00\n",
            "attempts_NY[424]     -0.45      1.62     -0.38     -2.95      2.25    907.94      1.00\n",
            "attempts_NY[425]     16.43      1.39     16.38     14.32     18.60    323.00      1.00\n",
            "attempts_NY[426]     78.69      1.53     78.74     76.56     81.39    369.88      1.01\n",
            "attempts_NY[427]     24.11      1.52     24.07     21.81     26.60    249.11      1.00\n",
            "attempts_NY[428]     11.76      1.55     11.74      9.28     14.11    470.01      1.00\n",
            "attempts_NY[429]     25.14      1.63     25.17     22.84     28.06    297.80      1.00\n",
            "attempts_NY[430]     43.71      1.66     43.71     40.97     46.27    342.40      1.00\n",
            "attempts_NY[431]      0.37      1.55      0.43     -2.41      2.74    961.18      1.00\n",
            "attempts_NY[432]      4.68      1.58      4.71      1.75      6.80   1117.16      1.00\n",
            "attempts_NY[433]     37.21      1.70     37.22     34.47     40.01    454.74      1.02\n",
            "attempts_NY[434]      1.82      1.65      1.77     -0.85      4.30    837.69      1.00\n",
            "attempts_NY[435]      7.08      1.56      6.99      4.63      9.44    501.02      1.00\n",
            "attempts_NY[436]     21.06      1.69     21.05     18.51     23.90    331.42      1.00\n",
            "attempts_NY[437]     19.47      1.55     19.45     16.39     21.63    374.42      1.00\n",
            "attempts_NY[438]      3.15      1.53      3.19      0.69      5.69    584.19      1.00\n",
            "attempts_NY[439]      2.98      1.62      2.98      0.34      5.59    729.27      1.00\n",
            "attempts_NY[440]      3.58      1.51      3.56      1.02      5.74   1229.91      1.00\n",
            "attempts_NY[441]      3.14      1.52      3.07      0.06      5.19    602.39      1.00\n",
            "attempts_NY[442]      1.78      1.50      1.78     -0.77      4.12    303.74      1.00\n",
            "attempts_NY[443]      5.39      1.67      5.41      2.91      8.18    643.69      1.00\n",
            "attempts_NY[444]      7.52      1.39      7.51      5.10      9.69    485.70      1.00\n",
            "attempts_NY[445]     -0.59      1.49     -0.63     -3.07      1.81    775.49      1.00\n",
            "attempts_NY[446]     87.48      1.56     87.39     85.13     90.01    343.24      1.00\n",
            "attempts_NY[447]     -0.11      1.69     -0.13     -2.86      2.66    761.43      1.00\n",
            "attempts_NY[448]      0.29      1.59      0.30     -2.39      2.60   1223.89      1.00\n",
            "attempts_NY[449]      1.49      1.54      1.54     -1.15      3.92    670.82      1.00\n",
            "attempts_NY[450]      6.80      1.57      6.85      4.45      9.26    825.20      1.00\n",
            "attempts_NY[451]      4.84      1.56      4.80      2.08      7.17    717.12      1.00\n",
            "attempts_NY[452]      0.74      1.43      0.69     -1.60      2.95    890.33      1.00\n",
            "attempts_NY[453]     33.42      1.70     33.45     30.76     36.11    362.03      1.00\n",
            "attempts_NY[454]      0.01      1.64      0.01     -2.31      2.83    965.35      1.00\n",
            "attempts_NY[455]     -0.71      1.70     -0.69     -3.11      2.21    886.29      1.00\n",
            "attempts_NY[456]      3.50      1.52      3.57      0.87      5.58    548.39      1.00\n",
            "attempts_NY[457]      1.90      1.48      1.88     -0.71      4.08    401.51      1.00\n",
            "attempts_NY[458]      2.26      1.54      2.23      0.09      4.96    587.24      1.00\n",
            "attempts_NY[459]      4.98      1.69      4.96      1.87      7.42    603.26      1.00\n",
            "attempts_NY[460]      2.32      1.68      2.33     -0.22      4.99    743.51      1.00\n",
            "attempts_NY[461]      0.78      1.55      0.82     -1.91      3.06    659.28      1.00\n",
            "attempts_NY[462]     65.55      1.66     65.59     63.09     68.52    385.71      1.00\n",
            "attempts_NY[463]      3.34      1.42      3.33      1.25      5.81    996.79      1.00\n",
            "attempts_NY[464]     -0.32      1.51     -0.25     -2.36      2.44    313.18      1.00\n",
            "attempts_NY[465]      0.29      1.58      0.20     -2.50      2.66    577.17      1.00\n",
            "attempts_NY[466]      0.27      1.54      0.36     -2.16      2.88   1141.47      1.00\n",
            "attempts_NY[467]     16.72      1.44     16.65     14.27     18.92    385.68      1.00\n",
            "attempts_NY[468]      1.10      1.40      1.01     -1.12      3.44    673.28      1.00\n",
            "attempts_NY[469]     37.26      1.56     37.23     34.64     39.53    351.32      1.01\n",
            "attempts_NY[470]      0.49      1.64      0.53     -2.26      2.90    693.16      1.00\n",
            "attempts_NY[471]      3.63      1.72      3.68      1.13      6.79    602.62      1.00\n",
            "attempts_NY[472]      0.70      1.48      0.65     -1.80      3.25    634.87      1.00\n",
            "attempts_NY[473]      1.09      1.60      1.10     -1.60      3.62    907.95      1.00\n",
            "attempts_NY[474]     -1.91      1.62     -1.88     -4.21      0.79    875.95      1.00\n",
            "attempts_NY[475]      1.55      1.45      1.61     -0.86      3.84    356.63      1.00\n",
            "attempts_NY[476]      1.68      1.65      1.69     -0.88      4.27   1070.06      1.00\n",
            "attempts_NY[477]     -1.36      1.45     -1.39     -3.78      0.88    741.93      1.00\n",
            "attempts_NY[478]      1.17      1.72      1.21     -1.72      3.83    682.49      1.00\n",
            "attempts_NY[479]     -1.16      1.59     -1.10     -3.75      1.38    970.04      1.00\n",
            "attempts_NY[480]      0.95      1.66      1.00     -1.77      3.67   1053.91      1.00\n",
            "attempts_NY[481]      0.84      1.60      0.81     -1.59      3.70   1054.76      1.00\n",
            "attempts_NY[482]     -0.28      1.38     -0.27     -2.23      2.24    657.58      1.00\n",
            "attempts_NY[483]      0.39      1.58      0.42     -2.31      2.74    722.99      1.00\n",
            "attempts_NY[484]      2.65      1.59      2.73     -0.15      4.94    410.91      1.00\n",
            "attempts_NY[485]      1.86      1.59      1.84     -0.74      4.20    439.10      1.00\n",
            "attempts_NY[486]      3.82      1.52      3.75      1.30      6.32    433.02      1.00\n",
            "attempts_NY[487]      3.11      1.51      3.05      0.64      5.78    686.29      1.00\n",
            "attempts_NY[488]     -0.50      1.59     -0.56     -2.96      2.11   1121.66      1.00\n",
            "attempts_NY[489]     -2.08      1.73     -2.18     -4.85      0.78    253.86      1.00\n",
            "attempts_NY[490]      0.83      1.62      0.85     -2.01      3.47   1224.13      1.00\n",
            "attempts_NY[491]      1.69      1.68      1.68     -1.05      4.24    552.82      1.00\n",
            "attempts_NY[492]      4.63      1.41      4.53      2.53      7.13    452.26      1.00\n",
            "attempts_NY[493]    204.22      1.59    204.29    201.68    206.87    491.78      1.00\n",
            "attempts_NY[494]    203.10      1.42    203.17    200.32    205.00    297.17      1.00\n",
            "attempts_NY[495]    338.07      1.41    338.00    336.14    340.49    347.38      1.01\n",
            "attempts_NY[496]    248.08      1.53    248.05    245.26    250.36    368.49      1.00\n",
            "attempts_NY[497]    208.66      1.61    208.64    205.77    210.88    459.34      1.00\n",
            "attempts_NY[498]    154.88      1.55    154.86    151.94    157.01    387.76      1.00\n",
            "attempts_NY[499]    168.18      1.75    168.12    165.34    170.82    362.19      1.00\n",
            "attempts_NY[500]    131.92      1.47    131.99    129.63    134.25    491.04      1.00\n",
            "attempts_NY[501]    161.41      1.60    161.47    159.03    164.11    265.83      1.00\n",
            "attempts_NY[502]    106.06      1.58    106.17    103.75    109.15    413.91      1.01\n",
            "attempts_NY[503]    254.80      1.58    254.75    252.30    257.51    327.96      1.00\n",
            "attempts_NY[504]    159.93      1.43    159.92    157.46    161.95    273.46      1.01\n",
            "attempts_NY[505]    205.27      1.61    205.27    202.66    207.83    410.56      1.00\n",
            "attempts_NY[506]     86.69      1.40     86.63     84.23     88.76    387.51      1.00\n",
            "attempts_NY[507]    167.46      1.70    167.45    164.70    170.23    421.97      1.00\n",
            "attempts_NY[508]    145.97      1.56    145.95    143.58    148.82    294.06      1.00\n",
            "attempts_NY[509]    241.31      1.67    241.37    238.79    244.15    436.70      1.00\n",
            "attempts_NY[510]    108.53      1.85    108.52    104.98    111.27    354.45      1.00\n",
            "attempts_NY[511]    197.60      1.61    197.60    195.02    200.17    376.49      1.00\n",
            "attempts_NY[512]    150.37      1.61    150.43    147.50    152.75    461.42      1.00\n",
            "attempts_NY[513]    190.90      1.55    190.90    188.25    193.30    344.35      1.00\n",
            "attempts_NY[514]     61.24      1.49     61.23     58.67     63.50    328.01      1.00\n",
            "attempts_NY[515]     26.29      1.54     26.29     23.75     28.83    306.47      1.00\n",
            "attempts_NY[516]     38.04      1.45     37.99     35.74     40.38    485.35      1.00\n",
            "attempts_NY[517]    181.82      1.44    181.75    179.49    184.44    342.92      1.00\n",
            "attempts_NY[518]    104.72      1.61    104.59    102.10    107.47    388.72      1.00\n",
            "attempts_NY[519]    158.10      1.52    158.10    155.68    160.29    398.10      1.00\n",
            "attempts_NY[520]     59.04      1.61     58.94     56.71     61.86    435.22      1.00\n",
            "attempts_NY[521]     47.87      1.61     47.97     45.21     50.42    373.75      1.00\n",
            "attempts_NY[522]     72.81      1.61     72.91     70.69     76.09    321.49      1.00\n",
            "attempts_NY[523]     64.19      1.45     64.12     61.73     66.38    374.93      1.00\n",
            "attempts_NY[524]     32.57      1.48     32.53     29.90     34.62    410.51      1.00\n",
            "attempts_NY[525]     90.52      1.43     90.55     88.46     92.90    293.68      1.00\n",
            "attempts_NY[526]     19.58      1.59     19.57     17.31     22.62    392.30      1.00\n",
            "attempts_NY[527]      8.87      1.66      8.82      6.54     11.90    370.69      1.00\n",
            "attempts_NY[528]     45.80      1.73     45.67     43.01     48.46    406.08      1.00\n",
            "attempts_NY[529]     27.97      1.56     28.03     25.56     30.51    319.90      1.00\n",
            "attempts_NY[530]     29.90      1.59     29.91     27.44     32.69    357.08      1.00\n",
            "attempts_NY[531]     89.19      1.52     89.15     86.38     91.44    354.27      1.00\n",
            "attempts_NY[532]      2.15      1.46      2.16     -0.82      4.04    599.44      1.00\n",
            "attempts_NY[533]     60.38      1.58     60.36     57.87     62.73    549.91      1.00\n",
            "attempts_NY[534]     19.93      1.64     20.00     17.24     22.62    373.72      1.00\n",
            "attempts_NY[535]     49.18      1.60     49.27     46.45     51.78    390.89      1.00\n",
            "attempts_NY[536]     41.56      1.49     41.60     39.02     43.85    327.22      1.00\n",
            "attempts_NY[537]      9.31      1.53      9.42      6.75     11.77    689.19      1.00\n",
            "attempts_NY[538]      5.83      1.53      5.83      3.30      7.97    369.04      1.00\n",
            "attempts_NY[539]     75.19      1.55     75.14     73.14     78.03    228.80      1.01\n",
            "attempts_NY[540]     31.01      1.67     31.04     28.60     34.22    311.94      1.00\n",
            "attempts_NY[541]      8.23      1.57      8.28      5.14     10.32    585.12      1.00\n",
            "attempts_NY[542]     14.97      1.37     15.05     12.73     16.95    265.70      1.01\n",
            "attempts_NY[543]     27.29      1.73     27.23     24.80     30.43    357.02      1.00\n",
            "attempts_NY[544]     42.00      1.56     42.05     39.37     44.40    490.98      1.00\n",
            "attempts_NY[545]      8.50      1.54      8.48      6.13     10.77    443.39      1.00\n",
            "attempts_NY[546]     53.76      1.52     53.72     51.26     56.25    353.52      1.00\n",
            "attempts_NY[547]     -3.36      1.66     -3.36     -6.48     -1.09    671.96      1.00\n",
            "attempts_NY[548]     61.66      1.44     61.60     59.32     64.06    426.48      1.00\n",
            "attempts_NY[549]      6.77      1.49      6.71      4.64      9.31    500.26      1.00\n",
            "attempts_NY[550]     21.23      1.58     21.27     18.75     23.81    384.11      1.00\n",
            "attempts_NY[551]     39.78      1.62     39.82     37.31     42.44    304.96      1.01\n",
            "attempts_NY[552]     17.24      1.79     17.18     14.77     20.46    535.17      1.00\n",
            "attempts_NY[553]     -1.56      1.49     -1.49     -3.98      0.91    735.72      1.00\n",
            "attempts_NY[554]      9.56      1.49      9.48      7.15     11.82    452.14      1.00\n",
            "attempts_NY[555]     -2.89      1.50     -2.95     -5.82     -0.89    474.45      1.00\n",
            "attempts_NY[556]      2.19      1.55      2.24     -0.47      4.80   1036.06      1.00\n",
            "attempts_NY[557]     -3.18      1.67     -3.16     -5.59     -0.22    942.20      1.00\n",
            "attempts_NY[558]     11.85      1.55     11.84      9.51     14.24    294.65      1.01\n",
            "attempts_NY[559]     11.16      1.67     11.10      8.26     13.68    511.01      1.00\n",
            "attempts_NY[560]     19.62      1.56     19.71     17.30     22.40    335.63      1.00\n",
            "attempts_NY[561]     24.47      1.51     24.47     22.36     26.92    443.70      1.00\n",
            "attempts_NY[562]      7.49      1.58      7.59      4.93      9.96    423.60      1.00\n",
            "attempts_NY[563]     -5.27      1.50     -5.30     -7.67     -2.73    801.58      1.00\n",
            "attempts_NY[564]      2.78      1.81      2.78     -0.18      5.50   1437.05      1.00\n",
            "attempts_NY[565]      5.32      1.65      5.39      2.86      8.33    776.70      1.00\n",
            "attempts_NY[566]      4.95      1.57      4.94      2.11      7.25    383.75      1.00\n",
            "attempts_NY[567]     -9.12      1.43     -9.12    -11.15     -6.47    391.66      1.00\n",
            "attempts_NY[568]     -2.19      1.59     -2.12     -4.51      0.43    734.82      1.00\n",
            "attempts_NY[569]      2.13      1.51      2.05     -0.09      4.93    254.43      1.00\n",
            "attempts_NY[570]      1.64      1.53      1.68     -0.86      4.18    605.13      1.00\n",
            "attempts_NY[571]     88.74      1.44     88.84     86.43     90.97    281.14      1.00\n",
            "attempts_NY[572]     10.70      1.48     10.66      8.52     13.25    432.94      1.00\n",
            "attempts_NY[573]     10.95      1.67     10.88      8.24     13.67    372.25      1.00\n",
            "attempts_NY[574]      4.53      1.62      4.39      1.84      6.95    420.21      1.00\n",
            "attempts_NY[575]      3.52      1.71      3.49      0.32      5.88   1911.49      1.00\n",
            "attempts_NY[576]      8.92      1.51      8.81      6.19     11.11    403.49      1.00\n",
            "attempts_NY[577]      2.19      1.52      2.20     -0.06      4.58    626.93      1.00\n",
            "attempts_NY[578]      0.51      1.59      0.51     -2.47      2.80   1271.72      1.00\n",
            "attempts_NY[579]      7.35      1.56      7.32      4.95      9.84    337.50      1.00\n",
            "attempts_NY[580]     10.70      1.57     10.62      8.09     13.05    301.32      1.00\n",
            "attempts_NY[581]     -0.07      1.47     -0.11     -3.03      1.84   1179.90      1.00\n",
            "attempts_NY[582]      2.76      1.62      2.75      0.13      5.31   1413.36      1.00\n",
            "attempts_NY[583]      1.10      1.64      1.13     -1.83      3.69    783.04      1.00\n",
            "attempts_NY[584]      2.43      1.64      2.46     -0.09      5.00    360.84      1.00\n",
            "attempts_NY[585]      3.05      1.59      3.07      0.51      5.57    497.47      1.00\n",
            "attempts_NY[586]     -1.44      1.57     -1.43     -3.94      1.05   1192.02      1.00\n",
            "attempts_NY[587]     -1.38      1.46     -1.30     -3.84      1.01    449.42      1.00\n",
            "attempts_NY[588]      1.45      1.54      1.49     -0.78      4.42   1020.83      1.00\n",
            "attempts_NY[589]      0.97      1.73      1.01     -1.82      3.72    766.27      1.00\n",
            "attempts_NY[590]      3.53      1.35      3.52      1.60      6.11    687.79      1.00\n",
            "attempts_NY[591]      2.15      1.50      2.22     -0.57      4.22    868.17      1.00\n",
            "attempts_NY[592]      2.31      1.49      2.36     -0.24      4.62    667.57      1.00\n",
            "attempts_NY[593]      1.22      1.52      1.21     -0.98      3.70    823.13      1.00\n",
            "attempts_NY[594]     15.11      1.63     15.14     12.44     17.61    326.00      1.00\n",
            "            beta      6.55      0.12      6.55      6.37      6.75    409.47      1.00\n",
            "              mu    332.00      2.37    332.03    328.43    335.96    370.73      1.00\n",
            "           sigma     91.32      1.81     91.18     88.71     94.62    352.99      1.00\n",
            "\n",
            "Number of divergences: 0\n"
          ],
          "name": "stdout"
        }
      ]
    },
    {
      "cell_type": "markdown",
      "metadata": {
        "id": "FObPnBmfa2lL"
      },
      "source": [
        "Next we perform posterior distribution checks\n",
        "\n",
        "For each sample (infered values of our latent variables), generate 100 samples for \"points next year\" and plot the distribution.  This helps us visualize the posterior distribution.  "
      ]
    },
    {
      "cell_type": "code",
      "metadata": {
        "colab": {
          "base_uri": "https://localhost:8080/",
          "height": 267
        },
        "id": "sLLJ64kuuFIH",
        "outputId": "f80fcee5-ba89-4403-abdc-5de48b3b7418"
      },
      "source": [
        "params = [\n",
        "    samples[\"alpha\"].numpy(),\n",
        "    samples[\"beta\"].numpy(),\n",
        "    samples[\"mu\"].numpy(),\n",
        "    samples[\"sigma\"].numpy(),\n",
        "]\n",
        "\n",
        "for alpha, beta, mu, sigma in zip(*params):\n",
        "    sim_data = {\n",
        "        \"alpha\": torch.tensor(alpha),\n",
        "        \"beta\": torch.tensor(beta),\n",
        "        \"mu\": torch.tensor(mu),\n",
        "        \"sigma\": torch.tensor(sigma)\n",
        "    }\n",
        "    post_check_model = pyro.condition(points_per_player, data=sim_data)\n",
        "    sims = []\n",
        "    for _ in range(100):\n",
        "        points_NY = pyro.sample(\"pny\", post_check_model)\n",
        "        sims.append(points_NY)\n",
        "    plt.hist(sims, density=True, histtype=\"step\", color=\"blue\")\n",
        "\n",
        "plt.hist(observed_points_NY, density=True, histtype=\"step\", color=\"red\")\n",
        "plt.show()"
      ],
      "execution_count": 17,
      "outputs": [
        {
          "output_type": "display_data",
          "data": {
            "image/png": "[encoded data removed]",
            "text/plain": [
              "<Figure size 432x288 with 1 Axes>"
            ]
          },
          "metadata": {
            "needs_background": "light"
          }
        }
      ]
    },
    {
      "cell_type": "markdown",
      "metadata": {
        "id": "wh2vlgc670Lq"
      },
      "source": [
        "Finally, we use the posterior distribution to create a player ranking."
      ]
    },
    {
      "cell_type": "code",
      "metadata": {
        "colab": {
          "base_uri": "https://localhost:8080/"
        },
        "id": "2-87fFhV-Uma",
        "outputId": "e9f90791-6535-4d66-dcb1-f9a58240b43b"
      },
      "source": [
        "N = 100\n",
        "holdout_year = holdout.head(N)\n",
        "rank = {}\n",
        "rev_rank = {}\n",
        "\n",
        "print(\"\".join([\".\" for _ in range(N)]))\n",
        "\n",
        "for i,row in holdout_year.iterrows():\n",
        "    id = row[\"ID\"]\n",
        "    player = row[\"Player\"]\n",
        "    percent_att = row[\"Percent Attempts Of Team\"]\n",
        "    sims = []\n",
        "    for alpha, beta, mu, sigma in zip(*params):\n",
        "        sim_data = {\n",
        "            \"alpha\": torch.tensor(alpha),\n",
        "            \"beta\": torch.tensor(beta),\n",
        "            \"mu\": torch.tensor(mu),\n",
        "            \"sigma\": torch.tensor(sigma),\n",
        "            \"percent_attempts\": torch.tensor(percent_att)\n",
        "        }\n",
        "        pm = pyro.condition(points_per_player, data=sim_data)\n",
        "        sim = pyro.sample(\"pm\", pm)\n",
        "        sims.append(sim)\n",
        "    key = np.mean(sims)\n",
        "    rank[key] = {\"ID\": id, \"Player\": player}\n",
        "    rev_rank[id] = {\"Rank\": key, \"Player\": player}\n",
        "    print(\".\", end=\"\")\n",
        "print()"
      ],
      "execution_count": 18,
      "outputs": [
        {
          "output_type": "stream",
          "text": [
            "....................................................................................................\n",
            "....................................................................................................\n"
          ],
          "name": "stdout"
        }
      ]
    },
    {
      "cell_type": "code",
      "metadata": {
        "id": "QUOw6M3l_Ovq"
      },
      "source": [
        "true_rank = {}\n",
        "rev_true_rank = {}\n",
        "for i,row in holdout_year.iterrows():\n",
        "    id = row[\"ID\"]\n",
        "    player = row[\"Player\"]\n",
        "    key = row[\"Points Next Year\"]\n",
        "    true_rank[key] = {\"ID\": id, \"Player\": player}\n",
        "    rev_true_rank[id] = {\"Rank\": key, \"Player\": player}"
      ],
      "execution_count": 19,
      "outputs": []
    },
    {
      "cell_type": "markdown",
      "metadata": {
        "id": "68UVL2bEdaY-"
      },
      "source": [
        "I was not able to figure out how to calculate the WAIC in time to hand in this project.  Instead I calculated MSE to compare models.  This model consistently has a sqrt(MSE) (with 2020 as the holdout set) in the high 60's.  I chose to look at sqrt(MSE) instead of MSE because it is more intuitive to me (the same way standard deviation is often more intuitive than variance).  \n",
        "\n",
        "Perhpas unsurprisingly, absolute prediction error is [very loosely] correlated with the magnitude of our prediction.  This is made clear in the chat below.  "
      ]
    },
    {
      "cell_type": "code",
      "metadata": {
        "id": "-rPTGfp6ytx1",
        "colab": {
          "base_uri": "https://localhost:8080/",
          "height": 298
        },
        "outputId": "ffd1ecc8-03ea-4f23-e37f-44a106d7942c"
      },
      "source": [
        "pred = []\n",
        "diffs = []\n",
        "for key in reversed(sorted(true_rank.keys())):\n",
        "    id = true_rank[key][\"ID\"]\n",
        "    player = true_rank[key][\"Player\"]\n",
        "    predicted = rev_rank[id][\"Rank\"]\n",
        "    actual = rev_true_rank[id][\"Rank\"]\n",
        "    diff = abs(predicted - actual)\n",
        "    pred.append(predicted)\n",
        "    diffs.append(diff)\n",
        "\n",
        "mse = np.mean([d**2 for d in diffs])\n",
        "print(\"mse: {}\".format(mse))\n",
        "print(\"mse**0.5: {}\".format(mse**0.5))\n",
        "\n",
        "plt.plot(pred, diffs, \".\")\n",
        "plt.show()"
      ],
      "execution_count": 20,
      "outputs": [
        {
          "output_type": "stream",
          "text": [
            "mse: 4833.461259404108\n",
            "mse**0.5: 69.52309874713661\n"
          ],
          "name": "stdout"
        },
        {
          "output_type": "display_data",
          "data": {
            "image/png": "[encoded data removed]",
            "text/plain": [
              "<Figure size 432x288 with 1 Axes>"
            ]
          },
          "metadata": {
            "needs_background": "light"
          }
        }
      ]
    },
    {
      "cell_type": "markdown",
      "metadata": {
        "id": "_oU4mRIhJ7KH"
      },
      "source": [
        "Here is the predicted ranking list that one can use to choose players to draft for their fantasy football team.  Here is pseudo code for the algorithm:\n",
        "\n",
        "```\n",
        "P -> probability distribution for the # of points each player will score next year\n",
        "E -> expectation\n",
        "player_predictions = [E(P(points next year|team,team att %)) for player in all_players]\n",
        "display(player_predictions.sort())\n",
        "```"
      ]
    },
    {
      "cell_type": "code",
      "metadata": {
        "id": "vloN1rjzemec",
        "colab": {
          "base_uri": "https://localhost:8080/"
        },
        "outputId": "d28ca67b-6656-49bb-cfdb-616d604f0873"
      },
      "source": [
        "\n",
        "print(\"Projected Rank:\")\n",
        "for k in reversed(sorted(rank.keys())):\n",
        "    print(\"{}: {}\".format(rank[k][\"Player\"], k))\n"
      ],
      "execution_count": 21,
      "outputs": [
        {
          "output_type": "stream",
          "text": [
            "Projected Rank:\n",
            "Adrian Peterson: 243.65062976846946\n",
            "Nick Chubb: 240.0586558994288\n",
            "Josh Jacobs: 234.15254297212923\n",
            "Phillip Lindsay: 230.80796477168397\n",
            "Christian McCaffrey: 229.77919478654152\n",
            "Sony Michel: 227.85389049506293\n",
            "Dalvin Cook: 227.57305708728256\n",
            "Joe Mixon: 225.58768796642016\n",
            "Ezekiel Elliott: 224.7800962233452\n",
            "Todd Gurley: 220.49340144574577\n",
            "Leonard Fournette: 216.39325799692728\n",
            "James Conner: 214.37247990667774\n",
            "Chris Carson: 212.996814107631\n",
            "Aaron Jones: 212.97091175375905\n",
            "Marlon Mack: 212.39380531861545\n",
            "Devonta Freeman: 211.32631313267402\n",
            "Le'Veon Bell: 210.02857138721157\n",
            "Saquon Barkley: 207.45289511450952\n",
            "Carlos Hyde: 191.90450458217074\n",
            "Derrick Henry: 180.77069337636624\n",
            "David Montgomery: 180.28887852966548\n",
            "LeSean McCoy: 170.42989892214553\n",
            "Kalen Ballage: 155.5786940971441\n",
            "Melvin Gordon: 148.4140743695928\n",
            "Mark Ingram: 139.4674717582967\n",
            "David Johnson: 127.23090850762951\n",
            "Miles Sanders: 124.21300539681792\n",
            "Kyler Murray: 121.87547260065152\n",
            "Lamar Jackson: 118.99612871695868\n",
            "Ronald Jones II: 117.18725612387632\n",
            "Alvin Kamara: 115.42758779405005\n",
            "Austin Ekeler: 112.840211866432\n",
            "Tevin Coleman: 107.60096532329881\n",
            "Peyton Barber: 103.18495326901426\n",
            "Ryan Fitzpatrick: 103.059414446353\n",
            "Kerryon Johnson: 100.97264809503571\n",
            "Matt Breida: 98.94252593705572\n",
            "Frank Gore: 98.82055666425711\n",
            "Latavius Murray: 98.67287019010897\n",
            "Devin Singletary: 95.66873171249492\n",
            "Jordan Howard: 94.05073827802462\n",
            "Bo Scarbrough: 85.84101528171979\n",
            "Patrick Mahomes: 72.81292763823676\n",
            "Deshaun Watson: 67.2623575624904\n",
            "Josh Allen: 62.05395007344117\n",
            "Gardner Minshew II: 56.779328095997435\n",
            "Carson Wentz: 52.93700692555747\n",
            "Russell Wilson: 52.338934541803155\n",
            "Jacoby Brissett: 48.65902737138636\n",
            "Daniel Jones: 44.451290939178854\n",
            "Tarik Cohen: 44.45106132223359\n",
            "Mason Rudolph: 38.87487606880523\n",
            "Dak Prescott: 37.07801922095674\n",
            "Mitchell Trubisky: 36.887866940989525\n",
            "J.D. McKissic: 35.58183276236812\n",
            "Jameis Winston: 34.596879049247924\n",
            "Matt Ryan: 33.528734439467684\n",
            "Jared Goff: 33.189660046552135\n",
            "Dion Lewis: 33.065141375977035\n",
            "Aaron Rodgers: 31.65909192859294\n",
            "Derek Carr: 30.192404938391622\n",
            "Ryan Tannehill: 29.800123358519514\n",
            "Andy Dalton: 29.565686398320732\n",
            "Sam Darnold: 28.69730603605264\n",
            "Jimmy Garoppolo: 28.58172611807655\n",
            "Kyle Allen: 27.053341335873846\n",
            "Dwayne Haskins: 25.931382885368876\n",
            "Ty Montgomery: 23.564850922102714\n",
            "Tom Brady: 21.38938759191033\n",
            "Kirk Cousins: 21.168926906014654\n",
            "Jeff Driskel: 20.563643849217655\n",
            "Teddy Bridgewater: 20.54810560171553\n",
            "Baker Mayfield: 20.527978878457795\n",
            "Robert Woods: 17.688022224850503\n",
            "Christian Kirk: 16.25953043297967\n",
            "Taysom Hill: 16.1941205668378\n",
            "Drew Lock: 15.271155955511936\n",
            "Joe Flacco: 14.835415086643575\n",
            "Matthew Stafford: 14.77449544752551\n",
            "Curtis Samuel: 14.40704017250461\n",
            "Marcus Mariota: 13.218375979214867\n",
            "Julian Edelman: 10.701902502927815\n",
            "Deebo Samuel: 10.65397916485491\n",
            "Tyreek Hill: 10.319906250846307\n",
            "David Blough: 9.382452216571762\n",
            "Philip Rivers: 7.576815564859118\n",
            "Isaiah McKenzie: 6.500039643284676\n",
            "C.J. Ham: 6.1993414813536205\n",
            "Brian Hoyer: 6.164399712230501\n",
            "Stefon Diggs: 6.129949012261854\n",
            "Drew Brees: 5.800330247446061\n",
            "Tyler Boyd: 5.669530981927575\n",
            "Sterling Shepard: 5.468139952717982\n",
            "Nick Foles: 5.43359216264089\n",
            "Keith Smith: 4.845890708689971\n",
            "Chase Daniel: 4.766333042768182\n",
            "Alex Erickson: 4.258664268845467\n",
            "George Kittle: 3.59260633036664\n",
            "D.J. Moore: 3.5519840226056045\n",
            "N'Keal Harry: 3.4973629349493054\n"
          ],
          "name": "stdout"
        }
      ]
    }
  ]
}